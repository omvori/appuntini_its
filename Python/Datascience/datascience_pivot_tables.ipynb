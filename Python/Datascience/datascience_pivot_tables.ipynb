{
 "cells": [
  {
   "cell_type": "code",
   "execution_count": 6,
   "id": "824a5d08",
   "metadata": {},
   "outputs": [
    {
     "name": "stdout",
     "output_type": "stream",
     "text": [
      "         Data    Prodotto Regione         Canale  Vendite  Costi\n",
      "0  2023-01-01  Smartphone   Isole  Distribuzione       63      9\n",
      "1  2023-01-02      Laptop    Nord        Negozio       14      1\n",
      "2  2023-01-03      Tablet  Centro        Negozio       45     28\n",
      "3  2023-01-04      Laptop     Sud  Distribuzione        9     16\n",
      "4  2023-01-05   Accessori   Isole  Distribuzione       46     40\n",
      "..        ...         ...     ...            ...      ...    ...\n",
      "95 2023-04-06   Accessori   Isole        Negozio       23     25\n",
      "96 2023-04-07  Smartphone   Isole  Distribuzione       74     23\n",
      "97 2023-04-08  Smartphone  Centro  Distribuzione       66     31\n",
      "98 2023-04-09  Smartphone   Isole        Negozio       53     47\n",
      "99 2023-04-10      Laptop    Nord  Distribuzione       28     21\n",
      "\n",
      "[100 rows x 6 columns]\n",
      "Tabella pivot Base : \n",
      "Prodotto  Accessori  Laptop  Smartphone  Tablet\n",
      "Regione                                        \n",
      "Centro          195     238         313     248\n",
      "Isole           561     493         511     342\n",
      "Nord            177     255         315     411\n",
      "Sud             242     177         287     199\n"
     ]
    }
   ],
   "source": [
    "#creazione dataset di esempio\n",
    "\n",
    "import numpy as np\n",
    "import pandas as pd\n",
    "\n",
    "data = {\n",
    "    'Data':pd.date_range(start = '2023-01-01',\n",
    "                         periods=100,\n",
    "                         freq='D'),\n",
    "    'Prodotto':np.random.choice(['Laptop','Smartphone','Tablet','Accessori'],\n",
    "                                100),\n",
    "    'Regione':np.random.choice(['Nord','Centro','Sud','Isole'],\n",
    "                               100),\n",
    "    'Canale':np.random.choice(['Online','Negozio','Distribuzione'],\n",
    "                              100),\n",
    "    'Vendite':np.random.randint(5,100,100),\n",
    "    'Costi':np.random.randint(1,50,100)    \n",
    "}\n",
    "\n",
    "df = pd.DataFrame(data)\n",
    "\n",
    "pivot_base = df.pivot_table(\n",
    "    index='Regione',\n",
    "    columns='Prodotto',\n",
    "    values ='Vendite',\n",
    "    aggfunc='sum'\n",
    ")\n",
    "\n",
    "print(df)\n",
    "print(\"Tabella pivot Base : \")\n",
    "print(pivot_base)\n"
   ]
  },
  {
   "cell_type": "code",
   "execution_count": null,
   "id": "a00aa3a8",
   "metadata": {},
   "outputs": [
    {
     "name": "stdout",
     "output_type": "stream",
     "text": [
      "\n",
      "tabella pivot avanzata :\n",
      "                           Costi                                Vendite  \\\n",
      "Prodotto               Accessori Laptop Smartphone     Tablet Accessori   \n",
      "Regione Canale                                                            \n",
      "Centro  Distribuzione   0.000000   0.00  18.000000  49.000000         0   \n",
      "        Negozio        42.500000  29.50  24.000000  20.250000        66   \n",
      "        Online         22.500000  40.00  28.666667   0.000000       129   \n",
      "Isole   Distribuzione  29.000000   4.00  22.000000  25.000000       113   \n",
      "        Negozio        33.500000  31.00  32.750000  28.000000       182   \n",
      "        Online         17.400000  26.00   0.000000  32.000000       266   \n",
      "Nord    Distribuzione  31.333333  18.25  10.500000  36.000000       147   \n",
      "        Negozio        10.000000  18.00  33.000000  32.375000        30   \n",
      "        Online          0.000000   0.00  33.000000  36.000000         0   \n",
      "Sud     Distribuzione  30.000000  17.50  19.000000  26.333333       152   \n",
      "        Negozio        17.000000  20.50  24.000000  32.000000        90   \n",
      "        Online          0.000000  15.00   9.000000   0.000000         0   \n",
      "\n",
      "                                                \n",
      "Prodotto              Laptop Smartphone Tablet  \n",
      "Regione Canale                                  \n",
      "Centro  Distribuzione      0        236     31  \n",
      "        Negozio          152         13    217  \n",
      "        Online            86         64      0  \n",
      "Isole   Distribuzione     60        200     46  \n",
      "        Negozio          284        311     96  \n",
      "        Online           149          0    200  \n",
      "Nord    Distribuzione    155        130     25  \n",
      "        Negozio          100         95    340  \n",
      "        Online             0         90     46  \n",
      "Sud     Distribuzione     65         53    147  \n",
      "        Negozio           62        142     52  \n",
      "        Online            50         92      0  \n"
     ]
    }
   ],
   "source": [
    "#pivot table con più livelli e aggregazioni\n",
    "\n",
    "adv_pivot = df.pivot_table(\n",
    "    index = ['Regione','Canale'],\n",
    "    columns='Prodotto',\n",
    "    values=['Vendite','Costi'],\n",
    "    aggfunc={'Vendite':'sum','Costi':'mean'},\n",
    "    margins=False,\n",
    "    fill_value=0\n",
    ")\n",
    "\n",
    "\n",
    "print(\"\\ntabella pivot avanzata :\")\n",
    "print(adv_pivot)"
   ]
  },
  {
   "cell_type": "code",
   "execution_count": 14,
   "id": "8f6f8d87",
   "metadata": {},
   "outputs": [
    {
     "name": "stdout",
     "output_type": "stream",
     "text": [
      "Canale   Distribuzione   Negozio    Online\n",
      "Regione                                   \n",
      "Centro        0.107574  0.065636  0.064234\n",
      "Isole         0.084407  0.093795  0.076241\n",
      "Nord          0.073650  0.070042  0.073059\n",
      "Sud           0.084004  0.092935  0.114423\n"
     ]
    }
   ],
   "source": [
    "#tabulazione incrociata per analisi di relazione tra due tabelle\n",
    "\n",
    "cross_tab = pd.crosstab(\n",
    "    df['Regione'],\n",
    "    df['Canale'],\n",
    "    values=df['Vendite'],\n",
    "    aggfunc='mean',\n",
    "    normalize=True,\n",
    "    margins=False\n",
    ")\n",
    "\n",
    "print(cross_tab)\n",
    "\n"
   ]
  },
  {
   "cell_type": "code",
   "execution_count": null,
   "id": "c09b6c23",
   "metadata": {},
   "outputs": [],
   "source": []
  }
 ],
 "metadata": {
  "kernelspec": {
   "display_name": "datasciencevenv",
   "language": "python",
   "name": "python3"
  },
  "language_info": {
   "codemirror_mode": {
    "name": "ipython",
    "version": 3
   },
   "file_extension": ".py",
   "mimetype": "text/x-python",
   "name": "python",
   "nbconvert_exporter": "python",
   "pygments_lexer": "ipython3",
   "version": "3.12.0"
  }
 },
 "nbformat": 4,
 "nbformat_minor": 5
}
