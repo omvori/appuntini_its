{
 "cells": [
  {
   "cell_type": "code",
   "execution_count": null,
   "id": "d98327e7",
   "metadata": {},
   "outputs": [
    {
     "data": {
      "image/png": "[encoded data removed]",
      "text/plain": [
       "<Figure size 1200x1000 with 2 Axes>"
      ]
     },
     "metadata": {},
     "output_type": "display_data"
    }
   ],
   "source": [
    "#es 1\n",
    "\n",
    "\n",
    "from sklearn.model_selection import train_test_split\n",
    "from sklearn.linear_model import LogisticRegression\n",
    "import matplotlib.pyplot as plt\n",
    "from sklearn.metrics import accuracy_score,recall_score,precision_score,f1_score\n",
    "from sklearn.metrics import confusion_matrix\n",
    "import copy\n",
    "import numpy as np\n",
    "import pandas as pd\n",
    "import seaborn as sns\n",
    "\n",
    "\n",
    "df_met = pd.read_excel(r'c:\\Users\\Andrea C\\Desktop\\its\\Py\\datascience\\roba_es_preprocess\\dataset_metriche_classificazione.xlsx')\n",
    "\n",
    "X = df_met.drop('target',axis=1)\n",
    "y = df_met['target']\n",
    "\n",
    "x_train, x_test, y_train, y_test = train_test_split(\n",
    "    X,y, train_size=0.2,random_state=42\n",
    ")\n",
    "\n",
    "modello = LogisticRegression()\n",
    "\n",
    "\n",
    "modello.fit(x_train,y_train)\n",
    "y_predict = modello.predict(x_test)\n",
    "\n",
    "conf_mat = confusion_matrix(y_test,y_predict)\n",
    "\n",
    "plt.figure(figsize=(12,10))\n",
    "sns.heatmap(conf_mat, annot=True, fmt='d', cmap='Reds')\n",
    "plt.xlabel(\"Predicted\")\n",
    "plt.ylabel(\"Actual\")\n",
    "plt.title(\"Confusion Matrix\")\n",
    "plt.show()\n",
    "\n",
    "\n",
    "\n",
    "\n",
    "\n"
   ]
  },
  {
   "cell_type": "code",
   "execution_count": null,
   "id": "08936668",
   "metadata": {},
   "outputs": [
    {
     "name": "stdout",
     "output_type": "stream",
     "text": [
      "MSE : 0.15, \n",
      "MAE : 0.28, \n",
      "R2 : 0.24, \n",
      "RMSE : 0.38\n"
     ]
    }
   ],
   "source": [
    "#es 3\n",
    "\n",
    "from sklearn.linear_model import LinearRegression\n",
    "from sklearn.metrics import mean_squared_error,mean_absolute_error,r2_score\n",
    "from math import sqrt\n",
    "\n",
    "ds_metr = pd.read_excel(r'c:\\Users\\Andrea C\\Desktop\\its\\Py\\datascience\\roba_es_preprocess\\dataset_metriche_regressione.xlsx')\n",
    "\n",
    "X = df_met.drop('target',axis=1)\n",
    "y = df_met['target']\n",
    "\n",
    "X_test, X_train, y_test, y_train = train_test_split(\n",
    "    X,y,test_size=0.2,random_state=42\n",
    ")\n",
    "\n",
    "modello = LinearRegression()\n",
    "\n",
    "modello.fit(X_train,y_train)\n",
    "\n",
    "y_predict = modello.predict(X_test)\n",
    "\n",
    "mse = mean_squared_error(y_true=y_test,y_pred=y_predict)\n",
    "mae = mean_absolute_error(y_true=y_test,y_pred=y_predict)\n",
    "r2 = r2_score(y_test,y_predict)\n",
    "rmse = sqrt(mse)\n",
    "\n",
    "print(f'MSE : {mse:.2f}, \\nMAE : {mae:.2f}, \\nR2 : {r2:.2f}, \\nRMSE : {rmse:.2f}')"
   ]
  },
  {
   "cell_type": "code",
   "execution_count": null,
   "id": "21e10cfc",
   "metadata": {},
   "outputs": [
    {
     "name": "stdout",
     "output_type": "stream",
     "text": [
      "MSE : 4115.17, \n",
      "MAE : 14.08, \n",
      "R2 : 0.74, \n",
      "RMSE : 64.15\n"
     ]
    }
   ],
   "source": [
    "#es 4\n",
    "\n",
    "ds_regr = pd.read_excel(r'c:\\Users\\Andrea C\\Desktop\\its\\Py\\datascience\\roba_es_preprocess\\dataset_regressione_outlier.xlsx')\n",
    "\n",
    "ds_regr.head()\n",
    "\n",
    "X = ds_regr.drop('target',axis=1)\n",
    "y = ds_regr['target']\n",
    "\n",
    "X_train, X_test, y_train, y_test = train_test_split(\n",
    "    X,y,test_size=0.2,random_state=42\n",
    ")\n",
    "\n",
    "modello = LinearRegression()\n",
    "\n",
    "modello.fit(X_train,y_train)\n",
    "\n",
    "y_predict = modello.predict(X_test)\n",
    "\n",
    "# metriche\n",
    "\n",
    "mse = mean_squared_error(y_true=y_test,y_pred=y_predict)\n",
    "mae = mean_absolute_error(y_true=y_test,y_pred=y_predict)\n",
    "r2 = r2_score(y_test,y_predict)\n",
    "rmse = sqrt(mse)\n",
    "\n",
    "\n",
    "print(f'MSE : {mse:.2f}, \\nMAE : {mae:.2f}, \\nR2 : {r2:.2f}, \\nRMSE : {rmse:.2f}')"
   ]
  },
  {
   "cell_type": "code",
   "execution_count": 54,
   "id": "a3c5d3c3",
   "metadata": {},
   "outputs": [
    {
     "ename": "TypeError",
     "evalue": "'module' object is not callable",
     "output_type": "error",
     "traceback": [
      "\u001b[31m---------------------------------------------------------------------------\u001b[39m",
      "\u001b[31mTypeError\u001b[39m                                 Traceback (most recent call last)",
      "\u001b[36mCell\u001b[39m\u001b[36m \u001b[39m\u001b[32mIn[54]\u001b[39m\u001b[32m, line 28\u001b[39m\n\u001b[32m     24\u001b[39m f1 = f1_score(y_test,y_predict)\n\u001b[32m     26\u001b[39m cf_m = confusion_matrix(y_test,y_predict)\n\u001b[32m---> \u001b[39m\u001b[32m28\u001b[39m \u001b[43mplt\u001b[49m\u001b[43m.\u001b[49m\u001b[43mfigure\u001b[49m\u001b[43m(\u001b[49m\u001b[43mfigsize\u001b[49m\u001b[43m=\u001b[49m\u001b[43m(\u001b[49m\u001b[32;43m12\u001b[39;49m\u001b[43m,\u001b[49m\u001b[32;43m10\u001b[39;49m\u001b[43m)\u001b[49m\u001b[43m)\u001b[49m\n\u001b[32m     29\u001b[39m sns.heatmap(conf_mat, annot=\u001b[38;5;28;01mTrue\u001b[39;00m, fmt=\u001b[33m'\u001b[39m\u001b[33md\u001b[39m\u001b[33m'\u001b[39m, cmap=\u001b[33m'\u001b[39m\u001b[33mReds\u001b[39m\u001b[33m'\u001b[39m)\n\u001b[32m     30\u001b[39m plt.xlabel(\u001b[33m\"\u001b[39m\u001b[33mPredicted\u001b[39m\u001b[33m\"\u001b[39m)\n",
      "\u001b[31mTypeError\u001b[39m: 'module' object is not callable"
     ]
    }
   ],
   "source": [
    "\n",
    "from sklearn.metrics import precision_score,recall_score,f1_score\n",
    "import seaborn as sns\n",
    "import matplotlib as plt\n",
    "from sklearn.metrics import confusion_matrix\n",
    "\n",
    "df_sbil = pd.read_excel(r'c:\\Users\\Andrea C\\Desktop\\its\\Py\\datascience\\roba_es_preprocess\\dataset_sbilanciato_classificazione.xlsx')\n",
    "\n",
    "X = df_sbil.drop('target',axis=1)\n",
    "y = df_sbil['target']\n",
    "\n",
    "X_train, X_test, y_train, y_test = train_test_split(\n",
    "    X,y,train_size=0.2,random_state=42\n",
    ")\n",
    "\n",
    "modello = LogisticRegression()\n",
    "\n",
    "modello.fit(X_train,y_train)\n",
    "\n",
    "y_predict = modello.predict(X_test)\n",
    "\n",
    "accuracy = accuracy_score(y_test,y_predict)\n",
    "precision = precision_score(y_test,y_predict)\n",
    "recall = recall_score(y_test,y_predict)\n",
    "f1 = f1_score(y_test,y_predict)\n",
    "\n",
    "cf_m = confusion_matrix(y_test,y_predict)\n",
    "\n",
    "plt.figure(figsize=(12,10))\n",
    "sns.heatmap(conf_mat, annot=True, fmt='d', cmap='Reds')\n",
    "plt.xlabel(\"Predicted\")\n",
    "plt.ylabel(\"Actual\")\n",
    "plt.title(\"Confusion Matrix\")\n",
    "plt.show()\n"
   ]
  },
  {
   "cell_type": "code",
   "execution_count": null,
   "id": "205aac49",
   "metadata": {},
   "outputs": [],
   "source": []
  }
 ],
 "metadata": {
  "kernelspec": {
   "display_name": "datascience",
   "language": "python",
   "name": "python3"
  },
  "language_info": {
   "codemirror_mode": {
    "name": "ipython",
    "version": 3
   },
   "file_extension": ".py",
   "mimetype": "text/x-python",
   "name": "python",
   "nbconvert_exporter": "python",
   "pygments_lexer": "ipython3",
   "version": "3.13.2"
  }
 },
 "nbformat": 4,
 "nbformat_minor": 5
}
