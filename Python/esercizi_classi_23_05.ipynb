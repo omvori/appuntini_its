{
 "cells": [
  {
   "cell_type": "code",
   "execution_count": 38,
   "metadata": {},
   "outputs": [
    {
     "data": {
      "text/plain": [
       "8.075"
      ]
     },
     "execution_count": 38,
     "metadata": {},
     "output_type": "execute_result"
    }
   ],
   "source": [
    "class Ecommerce:\n",
    "    def __init__(self):\n",
    "        self.catalogue = {'pomodori':4.50,'barbabietole':2.50,'finocchi':1.50}\n",
    "        self.discount = {\"ABCDEFG\": 10,'ROSSOPOMODORO': 5, \"MALGIOGLIO\": 15}\n",
    "        self.cart = {}\n",
    "        \n",
    "    def add_obj(self,lista_obj):\n",
    "        try :\n",
    "            if not isinstance(lista_obj,list):\n",
    "                raise TypeError(\"Inserire una lista di elementi separati da virgola\")\n",
    "            \n",
    "            for e in lista_obj:\n",
    "    \n",
    "                if e in self.catalogue:    \n",
    "                    self.cart[e] = self.catalogue[e]\n",
    "                else:    \n",
    "                    print(\"oggetto terminato/non esistente\")\n",
    "                    \n",
    "            return self.cart\n",
    "        except TypeError:\n",
    "            return \"Errore\"\n",
    "        \n",
    "    def total_price(self):\n",
    "        if self.cart:\n",
    "            total = sum(self.cart.values())\n",
    "            \n",
    "            return total\n",
    "        else:\n",
    "            return \"Carrello vuoto\"\n",
    "    \n",
    "    def discount_count(self,discount_code):\n",
    "        if discount_code in self.discount.keys():\n",
    "            percentuale = self.discount.get(discount_code)\n",
    "            res_tot = (self.total_price() * percentuale)/100\n",
    "            \n",
    "            return self.total_price() - res_tot\n",
    "        else:\n",
    "            return \"Codice sconto invalido o scaduto\"\n",
    "    \n",
    "    def show_cart(self):\n",
    "        return self.cart\n",
    "        \n",
    "     \n",
    "     \n",
    "obj1 = Ecommerce()\n",
    "\n",
    "\n",
    "obj1.show_cart()\n",
    "\n",
    "obj1.add_obj(['pomodori','barbabietole','finocchi'])\n",
    "\n",
    "obj1.total_price()\n",
    "obj1.discount_count('ROSSOPOMODORO')\n"
   ]
  },
  {
   "cell_type": "code",
   "execution_count": null,
   "metadata": {},
   "outputs": [
    {
     "name": "stdout",
     "output_type": "stream",
     "text": [
      "Nome: Andrea\n",
      "Cognome: Cersosimo\n",
      "Codice fiscale: 0000\n",
      "data di nascita: 13/10/2000\n",
      "indirizzo: Via cazzi\n"
     ]
    },
    {
     "ename": "TypeError",
     "evalue": "Banca.__init__() missing 8 required positional arguments: 'nome', 'cognome', 'cf', 'data_nascita', 'indirizzo', 'n_conto', 'saldo', and 'data_apertura'",
     "output_type": "error",
     "traceback": [
      "\u001b[31m---------------------------------------------------------------------------\u001b[39m",
      "\u001b[31mTypeError\u001b[39m                                 Traceback (most recent call last)",
      "\u001b[36mCell\u001b[39m\u001b[36m \u001b[39m\u001b[32mIn[60]\u001b[39m\u001b[32m, line 87\u001b[39m\n\u001b[32m     79\u001b[39m         \u001b[38;5;28mself\u001b[39m.nome_banca = \u001b[33m\"\u001b[39m\u001b[33mBNL\u001b[39m\u001b[33m\"\u001b[39m\n\u001b[32m     80\u001b[39m         \u001b[38;5;28mself\u001b[39m.conti = {\u001b[38;5;28mself\u001b[39m.n_conto : \n\u001b[32m     81\u001b[39m                             {\u001b[33m\"\u001b[39m\u001b[33mnome\u001b[39m\u001b[33m\"\u001b[39m : \u001b[38;5;28mself\u001b[39m.nome,\u001b[33m\"\u001b[39m\u001b[33mcognome\u001b[39m\u001b[33m\"\u001b[39m:\u001b[38;5;28mself\u001b[39m.cognome,\u001b[33m\"\u001b[39m\u001b[33mcf\u001b[39m\u001b[33m\"\u001b[39m:\u001b[38;5;28mself\u001b[39m.cf,\u001b[33m\"\u001b[39m\u001b[33mdata di nascita\u001b[39m\u001b[33m\"\u001b[39m:\u001b[38;5;28mself\u001b[39m.data_nascita,\u001b[33m\"\u001b[39m\u001b[33mindirizzo\u001b[39m\u001b[33m\"\u001b[39m: \u001b[38;5;28mself\u001b[39m.indirizzo,\u001b[33m\"\u001b[39m\u001b[33mn. conto\u001b[39m\u001b[33m\"\u001b[39m:\u001b[38;5;28mself\u001b[39m.conto,\u001b[33m\"\u001b[39m\u001b[33msaldo\u001b[39m\u001b[33m\"\u001b[39m:\u001b[38;5;28mself\u001b[39m.saldo }}\n\u001b[32m---> \u001b[39m\u001b[32m87\u001b[39m ob = \u001b[43mBanca\u001b[49m\u001b[43m(\u001b[49m\u001b[43m)\u001b[49m\n",
      "\u001b[31mTypeError\u001b[39m: Banca.__init__() missing 8 required positional arguments: 'nome', 'cognome', 'cf', 'data_nascita', 'indirizzo', 'n_conto', 'saldo', and 'data_apertura'"
     ]
    }
   ],
   "source": [
    "from datetime import date,datetime\n",
    "    \n",
    "class Client:\n",
    "    def __init__(self,nome:str,cognome:str,cf:str,data_nascita:str,indirizzo:str):\n",
    "        self.nome = nome\n",
    "        self.cognome = cognome\n",
    "        self.cf = cf\n",
    "        self.data_nascita = data_nascita\n",
    "        self.indirizzo = indirizzo\n",
    "    \n",
    "    def __str__(self):\n",
    "        return (f\"Nome: {self.nome}\\nCognome: {self.cognome}\\nCodice fiscale: {self.cf}\\ndata di nascita: {self.data_nascita}\\nindirizzo: {self.indirizzo}\")\n",
    "    \n",
    "    def age(self):\n",
    "        birth = datetime.strptime(self.data_nascita, \"%d/%m/%Y\").date().year \n",
    "        currentdate = date.today().year\n",
    "        age = currentdate-birth \n",
    "        \n",
    "        return age      \n",
    "        \n",
    "obj2 = Client('Andrea','Cersosimo','0000','13/10/2000','Via cazzi')\n",
    "\n",
    "print(obj2)\n",
    "\n",
    "obj2.age()\n",
    "\n",
    "class Conto(Client):\n",
    "    def __init__(self,nome:str,cognome:str,cf:str,data_nascita:str,indirizzo:str,n_conto:str,saldo:int,data_apertura:str):\n",
    "       super().__init__(nome,cognome,cf,data_nascita,indirizzo)\n",
    "       \n",
    "       self.owner = nome \n",
    "       self.n_conto = n_conto\n",
    "       self.saldo = saldo\n",
    "       self.data_apertura = data_apertura\n",
    "       \n",
    "       \n",
    "    def deposito(self,amount): #conto non specificato\n",
    "        amount += self.saldo\n",
    "        return self.saldo\n",
    "    \n",
    "    def preleva(self,amount):\n",
    "            if self.saldo < amount:\n",
    "                raise ValueError(\"Saldo insufficiente\")\n",
    "            if self.saldo <= 0:\n",
    "                raise ValueError(\"prelievo inferiore a 0 euro\")\n",
    "            self.saldo -= amount\n",
    "            \n",
    "            return self.saldo\n",
    "                        \n",
    "    def get_saldo(self):\n",
    "        return self.saldo  \n",
    "    \n",
    "\n",
    "\n",
    "class Cc(Conto):\n",
    "    def __init__(self, nome, cognome, cf, data_nascita, indirizzo, n_conto, saldo, data_apertura):\n",
    "        super().__init__(nome, cognome, cf, data_nascita, indirizzo, n_conto, saldo, data_apertura)\n",
    "        \n",
    "    def commissione_prelievo(self):\n",
    "        soldi_rubati = 10\n",
    "        self.preleva() - (self.saldo*soldi_rubati)/100\n",
    "        \n",
    "        return self.preleva()\n",
    "    \n",
    "class Conto_risparmio(Conto):\n",
    "    def __init__(self, nome, cognome, cf, data_nascita, indirizzo, n_conto, saldo, data_apertura):\n",
    "        super().__init__(nome, cognome, cf, data_nascita, indirizzo, n_conto, saldo, data_apertura)\n",
    "        self.saldo_interesse = self.saldo - (self.saldo *5)/100\n",
    "\n",
    "    def applica_interessi(self):\n",
    "        self.saldo -= self.saldo_interesse\n",
    "        \n",
    "        return self.saldo\n",
    "    \n",
    "class Banca(Conto):\n",
    "    def __init__(self, nome, cognome, cf, data_nascita, indirizzo, n_conto, saldo, data_apertura):\n",
    "        super().__init__(nome, cognome, cf, data_nascita, indirizzo, n_conto, saldo, data_apertura)\n",
    "        \n",
    "        self.nome_banca = \"BNL\"\n",
    "        self.conti = {self.n_conto : \n",
    "                            {\"nome\" : self.nome,\n",
    "                             \"cognome\":self.cognome,\n",
    "                             \"cf\":self.cf,\n",
    "                             \"data di nascita\":self.data_nascita,\n",
    "                             \"indirizzo\": self.indirizzo,\n",
    "                             \"n. conto\":self.conto,\n",
    "                             \"saldo\":self.saldo,\n",
    "                             \"data apertura\":self.data_apertura}}\n",
    "    \n",
    "    def add_client():"
   ]
  },
  {
   "cell_type": "code",
   "execution_count": null,
   "metadata": {},
   "outputs": [
    {
     "name": "stdout",
     "output_type": "stream",
     "text": [
      "<class 'datetime.date'>\n"
     ]
    }
   ],
   "source": []
  },
  {
   "cell_type": "code",
   "execution_count": null,
   "metadata": {},
   "outputs": [],
   "source": []
  }
 ],
 "metadata": {
  "kernelspec": {
   "display_name": "datasciencevenv",
   "language": "python",
   "name": "python3"
  },
  "language_info": {
   "codemirror_mode": {
    "name": "ipython",
    "version": 3
   },
   "file_extension": ".py",
   "mimetype": "text/x-python",
   "name": "python",
   "nbconvert_exporter": "python",
   "pygments_lexer": "ipython3",
   "version": "3.12.0"
  }
 },
 "nbformat": 4,
 "nbformat_minor": 2
}
