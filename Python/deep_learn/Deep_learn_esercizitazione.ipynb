{
 "cells": [
  {
   "cell_type": "markdown",
   "id": "40ba89cc",
   "metadata": {
    "id": "40ba89cc"
   },
   "source": [
    "# 📘 Regressione Lineare con Gradient Descent e Ciclo `for`\n",
    "\n",
    "**🎯 Obiettivo**: Costruire da zero un modello di regressione lineare per stimare i parametri `m` (pendenza) e `b` (intercetta), minimizzando l’errore quadratico medio, usando gradient descent con un ciclo `for`.\n"
   ]
  },
  {
   "cell_type": "code",
   "execution_count": 2,
   "id": "2930064b",
   "metadata": {
    "id": "2930064b"
   },
   "outputs": [],
   "source": [
    "x = [1, 2, 3, 4, 5]\n",
    "y = [2, 4, 5, 4, 5]"
   ]
  },
  {
   "cell_type": "markdown",
   "id": "9afe40bf",
   "metadata": {
    "id": "9afe40bf"
   },
   "source": [
    "### ❓ DOMANDE INTRODUTTIVE\n",
    "1. Cosa significa *fare una regressione lineare* in termini geometrici?\n",
    "2. Qual è la forma generale della retta di regressione che vogliamo trovare?\n",
    "3. Quali sono i parametri da stimare in questa equazione?"
   ]
  },
  {
   "cell_type": "markdown",
   "id": "WtnFeIVy4vQ3",
   "metadata": {
    "id": "WtnFeIVy4vQ3"
   },
   "source": [
    "1. La regressione lineare sarebbe la ricerca di quei parametri (coefficiente ed intercetta) che la retta di una funzione lineare deve toccare\n",
    "2. mx + b\n",
    "3. coefficiente ed intercetta della retta"
   ]
  },
  {
   "cell_type": "markdown",
   "id": "933ee64a",
   "metadata": {
    "id": "933ee64a"
   },
   "source": [
    "### 🔨 Inizializzazione dei parametri\n",
    "4. Come inizializzeresti i parametri `m` e `b`?\n",
    "5. Come sceglieresti il valore del `learning rate`? Cosa può succedere se è troppo grande o troppo piccolo?\n",
    "6. Per quanti cicli (*epoche*) vuoi iterare il processo di apprendimento?"
   ]
  },
  {
   "cell_type": "markdown",
   "id": "e8424b19",
   "metadata": {},
   "source": [
    "4. inizializzerei dei valori bassi ad esempio m = 0 e b = 1\n",
    "5. Il learning rate gestisce quanto \"weight\" posseggono. Avere un learning rate troppo grande potrebbe diminuire il tempo di output, ma fornire weights più approssimativi. Invece avere un \"lr\" troppo piccolo risulterebbe in tempo eccessivo per apprendimento ma con weights corretti\n",
    "6. nel tempo necessario più ottimale"
   ]
  },
  {
   "cell_type": "markdown",
   "id": "2e83d37f",
   "metadata": {
    "id": "2e83d37f"
   },
   "source": [
    "### 🧠 Calcolo delle predizioni\n",
    "7. Scrivi una riga di codice che calcoli le predizioni `y_pred = m * x[i] + b` per ogni `i`.\n",
    "8. Come puoi calcolare l’errore tra i valori osservati `y[i]` e quelli predetti `y_pred[i]`?"
   ]
  },
  {
   "cell_type": "code",
   "execution_count": 40,
   "id": "JhiSeNrm40Lx",
   "metadata": {
    "id": "JhiSeNrm40Lx"
   },
   "outputs": [
    {
     "name": "stdout",
     "output_type": "stream",
     "text": [
      "pred values :  [2, 4, 6, 8, 10]\n",
      "[0, 0, 1, 16, 25]\n"
     ]
    }
   ],
   "source": [
    "from math import sqrt\n",
    "\n",
    "y_pred = []\n",
    "\n",
    "m = 2\n",
    "b = 0\n",
    "\n",
    "for i in range(len(x)):\n",
    "    result = (m*x[i])+b\n",
    "    y_pred.append(result)\n",
    "\n",
    "\n",
    "print(\"pred values : \",y_pred)\n",
    "\n",
    "\n",
    "mse = []\n",
    "\n",
    "for i in range(len(y_pred)):\n",
    "    ris = (y_pred[i] - y[i])**2\n",
    "    mse.append(ris)\n",
    "\n",
    "\n",
    "print(mse)\n"
   ]
  },
  {
   "cell_type": "markdown",
   "id": "0685a381",
   "metadata": {
    "id": "0685a381"
   },
   "source": [
    "### 📉 Calcolo del gradiente\n",
    "9. Qual è la formula della derivata dell’errore quadratico medio rispetto a `m`?\n",
    "10. Qual è la derivata rispetto a `b`?\n",
    "11. Come implementeresti queste due derivate in Python, usando un ciclo `for` o una `list comprehension`?"
   ]
  },
  {
   "cell_type": "code",
   "execution_count": null,
   "id": "uDev_WYX41Dh",
   "metadata": {
    "id": "uDev_WYX41Dh"
   },
   "outputs": [],
   "source": []
  },
  {
   "cell_type": "markdown",
   "id": "45edad08",
   "metadata": {
    "id": "45edad08"
   },
   "source": [
    "### 🔁 Aggiornamento dei parametri\n",
    "12. Come aggiorni i valori di `m` e `b` a ogni iterazione?\n",
    "13. Dove inseriresti questa operazione all’interno del ciclo `for`?"
   ]
  },
  {
   "cell_type": "code",
   "execution_count": null,
   "id": "sd86qY0U43JJ",
   "metadata": {
    "id": "sd86qY0U43JJ"
   },
   "outputs": [],
   "source": []
  },
  {
   "cell_type": "markdown",
   "id": "9d799bd9",
   "metadata": {
    "id": "9d799bd9"
   },
   "source": [
    "### 📊 Monitoraggio dell’errore\n",
    "14. Come si calcola l’errore quadratico medio (MSE)?\n",
    "15. A cosa serve stampare il valore di MSE ogni 100 epoche?"
   ]
  },
  {
   "cell_type": "code",
   "execution_count": null,
   "id": "po9d5tWK44wz",
   "metadata": {
    "id": "po9d5tWK44wz"
   },
   "outputs": [],
   "source": []
  },
  {
   "cell_type": "markdown",
   "id": "ef422b10",
   "metadata": {
    "id": "ef422b10"
   },
   "source": [
    "### ✅ Risultati finali\n",
    "16. Come stampi i valori finali di `m` e `b`?\n",
    "17. Qual è l’equazione finale della retta ottenuta?"
   ]
  },
  {
   "cell_type": "code",
   "execution_count": null,
   "id": "jCax3mZX47Rr",
   "metadata": {
    "id": "jCax3mZX47Rr"
   },
   "outputs": [],
   "source": []
  },
  {
   "cell_type": "markdown",
   "id": "f0d5add9",
   "metadata": {
    "id": "f0d5add9"
   },
   "source": [
    "### 🧪 (Opzionale) Visualizzazione grafica\n",
    "18. Come puoi usare `matplotlib` per disegnare i punti `(x, y)`?\n",
    "19. Come disegneresti la retta di regressione sullo stesso grafico?\n",
    "20. Cosa succede se cambi `learning rate` o epoche? Prova e osserva."
   ]
  },
  {
   "cell_type": "code",
   "execution_count": null,
   "id": "QrpbP-bv4-co",
   "metadata": {
    "id": "QrpbP-bv4-co"
   },
   "outputs": [],
   "source": []
  }
 ],
 "metadata": {
  "colab": {
   "provenance": []
  },
  "kernelspec": {
   "display_name": "datascience",
   "language": "python",
   "name": "python3"
  },
  "language_info": {
   "codemirror_mode": {
    "name": "ipython",
    "version": 3
   },
   "file_extension": ".py",
   "mimetype": "text/x-python",
   "name": "python",
   "nbconvert_exporter": "python",
   "pygments_lexer": "ipython3",
   "version": "3.13.2"
  }
 },
 "nbformat": 4,
 "nbformat_minor": 5
}
