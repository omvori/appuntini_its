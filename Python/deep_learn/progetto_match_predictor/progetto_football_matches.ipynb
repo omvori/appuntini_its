{
 "cells": [
  {
   "cell_type": "markdown",
   "id": "67926127",
   "metadata": {},
   "source": [
    "# Importazione librerie + Caricamento datasets"
   ]
  },
  {
   "cell_type": "code",
   "execution_count": null,
   "id": "1d659cc0",
   "metadata": {},
   "outputs": [],
   "source": [
    "import pandas as pd\n",
    "import numpy as np\n",
    "from sklearn.preprocessing import StandardScaler, LabelEncoder\n",
    "from sklearn.model_selection import train_test_split\n",
    "import tensorflow as tf\n",
    "from tensorflow.keras.models import Sequential\n",
    "from tensorflow.keras.layers import Dense, Dropout\n",
    "from tensorflow.keras.optimizers import Adam"
   ]
  },
  {
   "cell_type": "code",
   "execution_count": null,
   "id": "667eea87",
   "metadata": {},
   "outputs": [],
   "source": [
    "df= pd.read_csv(r'/home/omori/Scrivania/its/deep_learning_venv/dataset_calcio/SerieA23.csv')\n",
    "dfbundes = pd.read_csv(r'/home/omori/Scrivania/its/deep_learning_venv/dataset_calcio/Bundesliga23.csv')\n",
    "dfliga = pd.read_csv(r'/home/omori/Scrivania/its/deep_learning_venv/dataset_calcio/LaLiga23.csv')\n",
    "dfprem = pd.read_csv(r'/home/omori/Scrivania/its/deep_learning_venv/dataset_calcio/PL23.csv')\n",
    "\n",
    "\n",
    "df_completo = pd.concat([df,dfbundes,dfliga,dfprem],ignore_index=True)"
   ]
  },
  {
   "cell_type": "code",
   "execution_count": null,
   "id": "9aeed166",
   "metadata": {},
   "outputs": [],
   "source": [
    "df.info()"
   ]
  },
  {
   "cell_type": "code",
   "execution_count": null,
   "id": "59b45143",
   "metadata": {},
   "outputs": [],
   "source": [
    "df\n",
    "df_completo"
   ]
  },
  {
   "cell_type": "markdown",
   "id": "1e08297c",
   "metadata": {},
   "source": [
    "# Preprocessing dei dati"
   ]
  },
  {
   "cell_type": "code",
   "execution_count": null,
   "id": "8393413d",
   "metadata": {},
   "outputs": [],
   "source": [
    "df_completo['FTR_num'] = df_completo['FTR'].map({'H':0,'D':1,'A':2}) #mappatura dei risultati utili\n",
    "\n",
    "features = [ #seleziono solo le features che mi interessano per decidere una partita\n",
    "    'HS',#Home shots    \n",
    "    'AS',#Away shots\n",
    "    'HST',#Home shots on target\n",
    "    'AST',#Away shots on target\n",
    "    'AF',#Away fouls\n",
    "    'HY',#Home YELLOW cards\n",
    "    'AY',#Away YELLOW cards\n",
    "    'HR',#Home RED cards\n",
    "    'AR',#Away RED cards\n",
    "    'HC',#Home corners\n",
    "    'AC',#Away corners\n",
    "    'HF'#Home fouls\n",
    "]"
   ]
  },
  {
   "cell_type": "code",
   "execution_count": null,
   "id": "2714e369",
   "metadata": {},
   "outputs": [],
   "source": [
    "X = df_completo[features]\n",
    "y = df_completo['FTR_num']  #il target è il FULL TIME RESULT\n",
    "\n",
    "scaler = StandardScaler() #standardizzo i dati\n",
    "X_scaled = scaler.fit_transform(X)\n",
    "\n",
    "#splitting dei dati \n",
    "X_train, X_test,y_train,y_test = train_test_split(X_scaled,y,test_size=0.2,random_state=42)"
   ]
  },
  {
   "cell_type": "markdown",
   "id": "17256dbc",
   "metadata": {},
   "source": [
    "# Rete Neurale"
   ]
  },
  {
   "cell_type": "code",
   "execution_count": null,
   "id": "3fe46abf",
   "metadata": {},
   "outputs": [],
   "source": [
    "modello = Sequential([\n",
    "    Dense(64, activation='relu',input_shape=(X_train.shape[1],)), #creo un layer dense con 64 neuroni, attivazione relu\n",
    "    Dropout(0.3), #questo parametro \"azzera i valori di alcuni neuroni\" di volta in volta, per evitare overfitting\n",
    "    Dense(32,activation='relu'),\n",
    "    Dropout(0.2), \n",
    "    Dense(3,activation='softmax')\n",
    "])\n",
    "\n",
    "modello.compile(optimizer=Adam(learning_rate=0.0001), #ottimizzazione Adam, con learning rate bassissimo per permettere alla rete di non andare ad adattarsi tropoo\n",
    "                  loss='sparse_categorical_crossentropy', #compatibilità molto buona con softmax\n",
    "                  metrics=['accuracy']) #per l'accuracy del modello"
   ]
  },
  {
   "cell_type": "code",
   "execution_count": null,
   "id": "7f151fc3",
   "metadata": {},
   "outputs": [],
   "source": [
    "#addestramento \n",
    "\n",
    "hs = modello.fit(X_train,y_train,\n",
    "                 epochs=500,\n",
    "                 batch_size=32, #in quanti \"blocchi\" vengono passati i dati\n",
    "                 validation_data=(X_test,y_test))"
   ]
  },
  {
   "cell_type": "markdown",
   "id": "f0ea54ce",
   "metadata": {},
   "source": [
    "# Valutazione modello"
   ]
  },
  {
   "cell_type": "code",
   "execution_count": null,
   "id": "e64b92c3",
   "metadata": {},
   "outputs": [],
   "source": [
    "loss_test, accuracy_test = modello.evaluate(X_test,y_test)\n",
    "\n",
    "print(f'Accuracy modello : {accuracy_test:.4f}')"
   ]
  },
  {
   "cell_type": "markdown",
   "id": "9c99c320",
   "metadata": {},
   "source": [
    "# Simulazione di una partita "
   ]
  },
  {
   "cell_type": "code",
   "execution_count": 121,
   "id": "e6f47b16",
   "metadata": {},
   "outputs": [],
   "source": [
    "\n",
    "#dati di una partita in ingresso\n",
    "\n",
    "match_example = np.array([[14 #Home shots\n",
    "                           ,8 #Away shots\n",
    "                           ,3 #Home shots on target\n",
    "                           ,13 #Away shots on target\n",
    "                           ,12 #Away fouls \n",
    "                           ,2 #Home YELLOW cards\n",
    "                           ,3 #Away YELLOW cards\n",
    "                           ,2 #Home RED cards\n",
    "                           ,4 #Away RED cards\n",
    "                           ,6 #Home corners\n",
    "                           ,4 #Away corners\n",
    "                           ,14 #Home fouls\n",
    "                           ]]) #passo secondo la posizione delle features i numeri delle statistiche di una partita\n",
    "\n",
    "#features = [\n",
    "#   'HS','AS','HST','AST',\n",
    "#  'AF','HY','AY',\n",
    "#    'HR','AR','HC','AC','HF'\n",
    "#]\n",
    "\n",
    "\n"
   ]
  },
  {
   "cell_type": "markdown",
   "id": "457755bd",
   "metadata": {},
   "source": [
    "# Predizione risultato finale"
   ]
  },
  {
   "cell_type": "code",
   "execution_count": 123,
   "id": "e6714f78",
   "metadata": {},
   "outputs": [
    {
     "name": "stdout",
     "output_type": "stream",
     "text": [
      "1/1 [==============================] - 0s 41ms/step\n",
      "Predizione risultato : Vittoria Away\n",
      "con probabilità di Pareggio : 0.7%,\n",
      "probabilità di vittoria Casa : 0.1%\n",
      "e probabilità di vittoria Away : 99.3%\n",
      "\n",
      "\n",
      "\n",
      "    \n"
     ]
    },
    {
     "name": "stderr",
     "output_type": "stream",
     "text": [
      "/home/omori/venv38/lib/python3.8/site-packages/sklearn/base.py:465: UserWarning: X does not have valid feature names, but StandardScaler was fitted with feature names\n",
      "  warnings.warn(\n"
     ]
    }
   ],
   "source": [
    "match_ex_scaled = scaler.transform(match_example) #normalizzo i dati del nuovo match\n",
    "prediction = modello.predict(match_ex_scaled) \n",
    "\n",
    "prob_vittoriaH = prediction[0][0]\n",
    "prob_pareggio = prediction[0][1]\n",
    "prob_vittoriaAW = prediction[0][2]\n",
    "\n",
    "\n",
    "\n",
    "\n",
    "risultato = ['Vittoria Home','Pareggio','Vittoria Away'][np.argmax(prediction)]\n",
    "print(f'Predizione risultato : {risultato}\\ncon probabilità di Pareggio : {prob_pareggio:.1%},\\nprobabilità di vittoria Casa : {prob_vittoriaH:.1%}\\ne probabilità di vittoria Away : {prob_vittoriaAW:.1%}\\n\\n\\n\\n\\\n",
    "    ')"
   ]
  },
  {
   "cell_type": "code",
   "execution_count": null,
   "id": "1be58783",
   "metadata": {},
   "outputs": [],
   "source": []
  }
 ],
 "metadata": {
  "kernelspec": {
   "display_name": "venv38",
   "language": "python",
   "name": "python3"
  },
  "language_info": {
   "codemirror_mode": {
    "name": "ipython",
    "version": 3
   },
   "file_extension": ".py",
   "mimetype": "text/x-python",
   "name": "python",
   "nbconvert_exporter": "python",
   "pygments_lexer": "ipython3",
   "version": "3.8.18"
  }
 },
 "nbformat": 4,
 "nbformat_minor": 5
}
