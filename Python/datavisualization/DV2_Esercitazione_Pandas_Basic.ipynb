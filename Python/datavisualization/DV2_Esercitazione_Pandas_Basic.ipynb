{
 "cells": [
  {
   "cell_type": "code",
   "execution_count": 2,
   "id": "d4cbb1da",
   "metadata": {
    "execution": {
     "iopub.execute_input": "2023-05-10T07:10:02.810770Z",
     "iopub.status.busy": "2023-05-10T07:10:02.810343Z",
     "iopub.status.idle": "2023-05-10T07:10:02.822578Z",
     "shell.execute_reply": "2023-05-10T07:10:02.821384Z"
    },
    "id": "iJ1MKH2X4Yhh",
    "papermill": {
     "duration": 0.025038,
     "end_time": "2023-05-10T07:10:02.825474",
     "exception": false,
     "start_time": "2023-05-10T07:10:02.800436",
     "status": "completed"
    },
    "tags": []
   },
   "outputs": [],
   "source": [
    "# import library\n",
    "\n",
    "import pandas as pd"
   ]
  },
  {
   "cell_type": "code",
   "execution_count": 3,
   "id": "042cfc1c",
   "metadata": {
    "execution": {
     "iopub.execute_input": "2023-05-10T07:10:02.844565Z",
     "iopub.status.busy": "2023-05-10T07:10:02.844123Z",
     "iopub.status.idle": "2023-05-10T07:10:03.103353Z",
     "shell.execute_reply": "2023-05-10T07:10:03.101890Z"
    },
    "id": "FlmuZ-eY4Yhi",
    "papermill": {
     "duration": 0.272523,
     "end_time": "2023-05-10T07:10:03.106567",
     "exception": false,
     "start_time": "2023-05-10T07:10:02.834044",
     "status": "completed"
    },
    "tags": []
   },
   "outputs": [],
   "source": [
    "# read data\n",
    "\n",
    "titanic = pd.read_csv('https://github.com/YBIFoundation/Dataset/raw/main/Titanic.csv')"
   ]
  },
  {
   "cell_type": "code",
   "execution_count": 4,
   "id": "e03aeba8",
   "metadata": {
    "execution": {
     "iopub.execute_input": "2023-05-10T07:10:03.125860Z",
     "iopub.status.busy": "2023-05-10T07:10:03.125424Z",
     "iopub.status.idle": "2023-05-10T07:10:03.161523Z",
     "shell.execute_reply": "2023-05-10T07:10:03.160223Z"
    },
    "id": "YYcnTmLi4Yhj",
    "outputId": "bcbbc8c8-6b71-4286-85a4-92becbab3462",
    "papermill": {
     "duration": 0.049732,
     "end_time": "2023-05-10T07:10:03.164833",
     "exception": false,
     "start_time": "2023-05-10T07:10:03.115101",
     "status": "completed"
    },
    "tags": []
   },
   "outputs": [
    {
     "data": {
      "application/vnd.microsoft.datawrangler.viewer.v0+json": {
       "columns": [
        {
         "name": "index",
         "rawType": "int64",
         "type": "integer"
        },
        {
         "name": "pclass",
         "rawType": "int64",
         "type": "integer"
        },
        {
         "name": "survived",
         "rawType": "int64",
         "type": "integer"
        },
        {
         "name": "name",
         "rawType": "object",
         "type": "string"
        },
        {
         "name": "sex",
         "rawType": "object",
         "type": "string"
        },
        {
         "name": "age",
         "rawType": "float64",
         "type": "float"
        },
        {
         "name": "sibsp",
         "rawType": "int64",
         "type": "integer"
        },
        {
         "name": "parch",
         "rawType": "int64",
         "type": "integer"
        },
        {
         "name": "ticket",
         "rawType": "object",
         "type": "string"
        },
        {
         "name": "fare",
         "rawType": "float64",
         "type": "float"
        },
        {
         "name": "cabin",
         "rawType": "object",
         "type": "string"
        },
        {
         "name": "embarked",
         "rawType": "object",
         "type": "string"
        },
        {
         "name": "boat",
         "rawType": "object",
         "type": "unknown"
        },
        {
         "name": "body",
         "rawType": "float64",
         "type": "float"
        },
        {
         "name": "home.dest",
         "rawType": "object",
         "type": "string"
        }
       ],
       "ref": "6718391f-7328-4a35-9af0-820da949012b",
       "rows": [
        [
         "0",
         "1",
         "1",
         "Allen, Miss. Elisabeth Walton",
         "female",
         "29.0",
         "0",
         "0",
         "24160",
         "211.3375",
         "B5",
         "S",
         "2",
         null,
         "St Louis, MO"
        ],
        [
         "1",
         "1",
         "1",
         "Allison, Master. Hudson Trevor",
         "male",
         "0.92",
         "1",
         "2",
         "113781",
         "151.55",
         "C22 C26",
         "S",
         "11",
         null,
         "Montreal, PQ / Chesterville, ON"
        ],
        [
         "2",
         "1",
         "0",
         "Allison, Miss. Helen Loraine",
         "female",
         "2.0",
         "1",
         "2",
         "113781",
         "151.55",
         "C22 C26",
         "S",
         null,
         null,
         "Montreal, PQ / Chesterville, ON"
        ],
        [
         "3",
         "1",
         "0",
         "Allison, Mr. Hudson Joshua Creighton",
         "male",
         "30.0",
         "1",
         "2",
         "113781",
         "151.55",
         "C22 C26",
         "S",
         null,
         "135.0",
         "Montreal, PQ / Chesterville, ON"
        ],
        [
         "4",
         "1",
         "0",
         "Allison, Mrs. Hudson J C (Bessie Waldo Daniels)",
         "female",
         "25.0",
         "1",
         "2",
         "113781",
         "151.55",
         "C22 C26",
         "S",
         null,
         null,
         "Montreal, PQ / Chesterville, ON"
        ]
       ],
       "shape": {
        "columns": 14,
        "rows": 5
       }
      },
      "text/html": [
       "<div>\n",
       "<style scoped>\n",
       "    .dataframe tbody tr th:only-of-type {\n",
       "        vertical-align: middle;\n",
       "    }\n",
       "\n",
       "    .dataframe tbody tr th {\n",
       "        vertical-align: top;\n",
       "    }\n",
       "\n",
       "    .dataframe thead th {\n",
       "        text-align: right;\n",
       "    }\n",
       "</style>\n",
       "<table border=\"1\" class=\"dataframe\">\n",
       "  <thead>\n",
       "    <tr style=\"text-align: right;\">\n",
       "      <th></th>\n",
       "      <th>pclass</th>\n",
       "      <th>survived</th>\n",
       "      <th>name</th>\n",
       "      <th>sex</th>\n",
       "      <th>age</th>\n",
       "      <th>sibsp</th>\n",
       "      <th>parch</th>\n",
       "      <th>ticket</th>\n",
       "      <th>fare</th>\n",
       "      <th>cabin</th>\n",
       "      <th>embarked</th>\n",
       "      <th>boat</th>\n",
       "      <th>body</th>\n",
       "      <th>home.dest</th>\n",
       "    </tr>\n",
       "  </thead>\n",
       "  <tbody>\n",
       "    <tr>\n",
       "      <th>0</th>\n",
       "      <td>1</td>\n",
       "      <td>1</td>\n",
       "      <td>Allen, Miss. Elisabeth Walton</td>\n",
       "      <td>female</td>\n",
       "      <td>29.00</td>\n",
       "      <td>0</td>\n",
       "      <td>0</td>\n",
       "      <td>24160</td>\n",
       "      <td>211.3375</td>\n",
       "      <td>B5</td>\n",
       "      <td>S</td>\n",
       "      <td>2</td>\n",
       "      <td>NaN</td>\n",
       "      <td>St Louis, MO</td>\n",
       "    </tr>\n",
       "    <tr>\n",
       "      <th>1</th>\n",
       "      <td>1</td>\n",
       "      <td>1</td>\n",
       "      <td>Allison, Master. Hudson Trevor</td>\n",
       "      <td>male</td>\n",
       "      <td>0.92</td>\n",
       "      <td>1</td>\n",
       "      <td>2</td>\n",
       "      <td>113781</td>\n",
       "      <td>151.5500</td>\n",
       "      <td>C22 C26</td>\n",
       "      <td>S</td>\n",
       "      <td>11</td>\n",
       "      <td>NaN</td>\n",
       "      <td>Montreal, PQ / Chesterville, ON</td>\n",
       "    </tr>\n",
       "    <tr>\n",
       "      <th>2</th>\n",
       "      <td>1</td>\n",
       "      <td>0</td>\n",
       "      <td>Allison, Miss. Helen Loraine</td>\n",
       "      <td>female</td>\n",
       "      <td>2.00</td>\n",
       "      <td>1</td>\n",
       "      <td>2</td>\n",
       "      <td>113781</td>\n",
       "      <td>151.5500</td>\n",
       "      <td>C22 C26</td>\n",
       "      <td>S</td>\n",
       "      <td>NaN</td>\n",
       "      <td>NaN</td>\n",
       "      <td>Montreal, PQ / Chesterville, ON</td>\n",
       "    </tr>\n",
       "    <tr>\n",
       "      <th>3</th>\n",
       "      <td>1</td>\n",
       "      <td>0</td>\n",
       "      <td>Allison, Mr. Hudson Joshua Creighton</td>\n",
       "      <td>male</td>\n",
       "      <td>30.00</td>\n",
       "      <td>1</td>\n",
       "      <td>2</td>\n",
       "      <td>113781</td>\n",
       "      <td>151.5500</td>\n",
       "      <td>C22 C26</td>\n",
       "      <td>S</td>\n",
       "      <td>NaN</td>\n",
       "      <td>135.0</td>\n",
       "      <td>Montreal, PQ / Chesterville, ON</td>\n",
       "    </tr>\n",
       "    <tr>\n",
       "      <th>4</th>\n",
       "      <td>1</td>\n",
       "      <td>0</td>\n",
       "      <td>Allison, Mrs. Hudson J C (Bessie Waldo Daniels)</td>\n",
       "      <td>female</td>\n",
       "      <td>25.00</td>\n",
       "      <td>1</td>\n",
       "      <td>2</td>\n",
       "      <td>113781</td>\n",
       "      <td>151.5500</td>\n",
       "      <td>C22 C26</td>\n",
       "      <td>S</td>\n",
       "      <td>NaN</td>\n",
       "      <td>NaN</td>\n",
       "      <td>Montreal, PQ / Chesterville, ON</td>\n",
       "    </tr>\n",
       "  </tbody>\n",
       "</table>\n",
       "</div>"
      ],
      "text/plain": [
       "   pclass  survived                                             name     sex  \\\n",
       "0       1         1                    Allen, Miss. Elisabeth Walton  female   \n",
       "1       1         1                   Allison, Master. Hudson Trevor    male   \n",
       "2       1         0                     Allison, Miss. Helen Loraine  female   \n",
       "3       1         0             Allison, Mr. Hudson Joshua Creighton    male   \n",
       "4       1         0  Allison, Mrs. Hudson J C (Bessie Waldo Daniels)  female   \n",
       "\n",
       "     age  sibsp  parch  ticket      fare    cabin embarked boat   body  \\\n",
       "0  29.00      0      0   24160  211.3375       B5        S    2    NaN   \n",
       "1   0.92      1      2  113781  151.5500  C22 C26        S   11    NaN   \n",
       "2   2.00      1      2  113781  151.5500  C22 C26        S  NaN    NaN   \n",
       "3  30.00      1      2  113781  151.5500  C22 C26        S  NaN  135.0   \n",
       "4  25.00      1      2  113781  151.5500  C22 C26        S  NaN    NaN   \n",
       "\n",
       "                         home.dest  \n",
       "0                     St Louis, MO  \n",
       "1  Montreal, PQ / Chesterville, ON  \n",
       "2  Montreal, PQ / Chesterville, ON  \n",
       "3  Montreal, PQ / Chesterville, ON  \n",
       "4  Montreal, PQ / Chesterville, ON  "
      ]
     },
     "execution_count": 4,
     "metadata": {},
     "output_type": "execute_result"
    }
   ],
   "source": [
    "# display first 5 rows\n",
    "titanic.head(5)\n"
   ]
  },
  {
   "cell_type": "code",
   "execution_count": 7,
   "id": "6cf84719",
   "metadata": {
    "execution": {
     "iopub.execute_input": "2023-05-10T07:10:03.184919Z",
     "iopub.status.busy": "2023-05-10T07:10:03.184370Z",
     "iopub.status.idle": "2023-05-10T07:10:03.206119Z",
     "shell.execute_reply": "2023-05-10T07:10:03.204731Z"
    },
    "id": "vjo3zTDN4oEu",
    "outputId": "76a841c6-2e8e-493d-b0c4-c113c27a5204",
    "papermill": {
     "duration": 0.035001,
     "end_time": "2023-05-10T07:10:03.208817",
     "exception": false,
     "start_time": "2023-05-10T07:10:03.173816",
     "status": "completed"
    },
    "tags": []
   },
   "outputs": [
    {
     "data": {
      "application/vnd.microsoft.datawrangler.viewer.v0+json": {
       "columns": [
        {
         "name": "index",
         "rawType": "int64",
         "type": "integer"
        },
        {
         "name": "pclass",
         "rawType": "int64",
         "type": "integer"
        },
        {
         "name": "survived",
         "rawType": "int64",
         "type": "integer"
        },
        {
         "name": "name",
         "rawType": "object",
         "type": "string"
        },
        {
         "name": "sex",
         "rawType": "object",
         "type": "string"
        },
        {
         "name": "age",
         "rawType": "float64",
         "type": "float"
        },
        {
         "name": "sibsp",
         "rawType": "int64",
         "type": "integer"
        },
        {
         "name": "parch",
         "rawType": "int64",
         "type": "integer"
        },
        {
         "name": "ticket",
         "rawType": "object",
         "type": "string"
        },
        {
         "name": "fare",
         "rawType": "float64",
         "type": "float"
        },
        {
         "name": "cabin",
         "rawType": "object",
         "type": "unknown"
        },
        {
         "name": "embarked",
         "rawType": "object",
         "type": "string"
        },
        {
         "name": "boat",
         "rawType": "object",
         "type": "unknown"
        },
        {
         "name": "body",
         "rawType": "float64",
         "type": "float"
        },
        {
         "name": "home.dest",
         "rawType": "object",
         "type": "unknown"
        }
       ],
       "ref": "5f3b3989-4d89-457b-972b-0e6cc4a2da50",
       "rows": [
        [
         "1304",
         "3",
         "0",
         "Zabour, Miss. Hileni",
         "female",
         "14.5",
         "1",
         "0",
         "2665",
         "14.4542",
         null,
         "C",
         null,
         "328.0",
         null
        ],
        [
         "1305",
         "3",
         "0",
         "Zabour, Miss. Thamine",
         "female",
         null,
         "1",
         "0",
         "2665",
         "14.4542",
         null,
         "C",
         null,
         null,
         null
        ],
        [
         "1306",
         "3",
         "0",
         "Zakarian, Mr. Mapriededer",
         "male",
         "26.5",
         "0",
         "0",
         "2656",
         "7.225",
         null,
         "C",
         null,
         "304.0",
         null
        ],
        [
         "1307",
         "3",
         "0",
         "Zakarian, Mr. Ortin",
         "male",
         "27.0",
         "0",
         "0",
         "2670",
         "7.225",
         null,
         "C",
         null,
         null,
         null
        ],
        [
         "1308",
         "3",
         "0",
         "Zimmerman, Mr. Leo",
         "male",
         "29.0",
         "0",
         "0",
         "315082",
         "7.875",
         null,
         "S",
         null,
         null,
         null
        ]
       ],
       "shape": {
        "columns": 14,
        "rows": 5
       }
      },
      "text/html": [
       "<div>\n",
       "<style scoped>\n",
       "    .dataframe tbody tr th:only-of-type {\n",
       "        vertical-align: middle;\n",
       "    }\n",
       "\n",
       "    .dataframe tbody tr th {\n",
       "        vertical-align: top;\n",
       "    }\n",
       "\n",
       "    .dataframe thead th {\n",
       "        text-align: right;\n",
       "    }\n",
       "</style>\n",
       "<table border=\"1\" class=\"dataframe\">\n",
       "  <thead>\n",
       "    <tr style=\"text-align: right;\">\n",
       "      <th></th>\n",
       "      <th>pclass</th>\n",
       "      <th>survived</th>\n",
       "      <th>name</th>\n",
       "      <th>sex</th>\n",
       "      <th>age</th>\n",
       "      <th>sibsp</th>\n",
       "      <th>parch</th>\n",
       "      <th>ticket</th>\n",
       "      <th>fare</th>\n",
       "      <th>cabin</th>\n",
       "      <th>embarked</th>\n",
       "      <th>boat</th>\n",
       "      <th>body</th>\n",
       "      <th>home.dest</th>\n",
       "    </tr>\n",
       "  </thead>\n",
       "  <tbody>\n",
       "    <tr>\n",
       "      <th>1304</th>\n",
       "      <td>3</td>\n",
       "      <td>0</td>\n",
       "      <td>Zabour, Miss. Hileni</td>\n",
       "      <td>female</td>\n",
       "      <td>14.5</td>\n",
       "      <td>1</td>\n",
       "      <td>0</td>\n",
       "      <td>2665</td>\n",
       "      <td>14.4542</td>\n",
       "      <td>NaN</td>\n",
       "      <td>C</td>\n",
       "      <td>NaN</td>\n",
       "      <td>328.0</td>\n",
       "      <td>NaN</td>\n",
       "    </tr>\n",
       "    <tr>\n",
       "      <th>1305</th>\n",
       "      <td>3</td>\n",
       "      <td>0</td>\n",
       "      <td>Zabour, Miss. Thamine</td>\n",
       "      <td>female</td>\n",
       "      <td>NaN</td>\n",
       "      <td>1</td>\n",
       "      <td>0</td>\n",
       "      <td>2665</td>\n",
       "      <td>14.4542</td>\n",
       "      <td>NaN</td>\n",
       "      <td>C</td>\n",
       "      <td>NaN</td>\n",
       "      <td>NaN</td>\n",
       "      <td>NaN</td>\n",
       "    </tr>\n",
       "    <tr>\n",
       "      <th>1306</th>\n",
       "      <td>3</td>\n",
       "      <td>0</td>\n",
       "      <td>Zakarian, Mr. Mapriededer</td>\n",
       "      <td>male</td>\n",
       "      <td>26.5</td>\n",
       "      <td>0</td>\n",
       "      <td>0</td>\n",
       "      <td>2656</td>\n",
       "      <td>7.2250</td>\n",
       "      <td>NaN</td>\n",
       "      <td>C</td>\n",
       "      <td>NaN</td>\n",
       "      <td>304.0</td>\n",
       "      <td>NaN</td>\n",
       "    </tr>\n",
       "    <tr>\n",
       "      <th>1307</th>\n",
       "      <td>3</td>\n",
       "      <td>0</td>\n",
       "      <td>Zakarian, Mr. Ortin</td>\n",
       "      <td>male</td>\n",
       "      <td>27.0</td>\n",
       "      <td>0</td>\n",
       "      <td>0</td>\n",
       "      <td>2670</td>\n",
       "      <td>7.2250</td>\n",
       "      <td>NaN</td>\n",
       "      <td>C</td>\n",
       "      <td>NaN</td>\n",
       "      <td>NaN</td>\n",
       "      <td>NaN</td>\n",
       "    </tr>\n",
       "    <tr>\n",
       "      <th>1308</th>\n",
       "      <td>3</td>\n",
       "      <td>0</td>\n",
       "      <td>Zimmerman, Mr. Leo</td>\n",
       "      <td>male</td>\n",
       "      <td>29.0</td>\n",
       "      <td>0</td>\n",
       "      <td>0</td>\n",
       "      <td>315082</td>\n",
       "      <td>7.8750</td>\n",
       "      <td>NaN</td>\n",
       "      <td>S</td>\n",
       "      <td>NaN</td>\n",
       "      <td>NaN</td>\n",
       "      <td>NaN</td>\n",
       "    </tr>\n",
       "  </tbody>\n",
       "</table>\n",
       "</div>"
      ],
      "text/plain": [
       "      pclass  survived                       name     sex   age  sibsp  parch  \\\n",
       "1304       3         0       Zabour, Miss. Hileni  female  14.5      1      0   \n",
       "1305       3         0      Zabour, Miss. Thamine  female   NaN      1      0   \n",
       "1306       3         0  Zakarian, Mr. Mapriededer    male  26.5      0      0   \n",
       "1307       3         0        Zakarian, Mr. Ortin    male  27.0      0      0   \n",
       "1308       3         0         Zimmerman, Mr. Leo    male  29.0      0      0   \n",
       "\n",
       "      ticket     fare cabin embarked boat   body home.dest  \n",
       "1304    2665  14.4542   NaN        C  NaN  328.0       NaN  \n",
       "1305    2665  14.4542   NaN        C  NaN    NaN       NaN  \n",
       "1306    2656   7.2250   NaN        C  NaN  304.0       NaN  \n",
       "1307    2670   7.2250   NaN        C  NaN    NaN       NaN  \n",
       "1308  315082   7.8750   NaN        S  NaN    NaN       NaN  "
      ]
     },
     "execution_count": 7,
     "metadata": {},
     "output_type": "execute_result"
    }
   ],
   "source": [
    "# display last 5 rows\n",
    "\n",
    "titanic.tail(5)"
   ]
  },
  {
   "cell_type": "code",
   "execution_count": 10,
   "id": "8f5fdacd",
   "metadata": {
    "execution": {
     "iopub.execute_input": "2023-05-10T07:10:03.230067Z",
     "iopub.status.busy": "2023-05-10T07:10:03.229574Z",
     "iopub.status.idle": "2023-05-10T07:10:03.258843Z",
     "shell.execute_reply": "2023-05-10T07:10:03.257660Z"
    },
    "id": "uzZRAY5N4oIZ",
    "outputId": "b3a183c7-3403-48f3-d154-5ca7f76693e7",
    "papermill": {
     "duration": 0.0437,
     "end_time": "2023-05-10T07:10:03.261944",
     "exception": false,
     "start_time": "2023-05-10T07:10:03.218244",
     "status": "completed"
    },
    "tags": []
   },
   "outputs": [
    {
     "name": "stdout",
     "output_type": "stream",
     "text": [
      "<class 'pandas.core.frame.DataFrame'>\n",
      "RangeIndex: 1309 entries, 0 to 1308\n",
      "Data columns (total 14 columns):\n",
      " #   Column     Non-Null Count  Dtype  \n",
      "---  ------     --------------  -----  \n",
      " 0   pclass     1309 non-null   int64  \n",
      " 1   survived   1309 non-null   int64  \n",
      " 2   name       1309 non-null   object \n",
      " 3   sex        1309 non-null   object \n",
      " 4   age        1046 non-null   float64\n",
      " 5   sibsp      1309 non-null   int64  \n",
      " 6   parch      1309 non-null   int64  \n",
      " 7   ticket     1309 non-null   object \n",
      " 8   fare       1308 non-null   float64\n",
      " 9   cabin      295 non-null    object \n",
      " 10  embarked   1307 non-null   object \n",
      " 11  boat       486 non-null    object \n",
      " 12  body       121 non-null    float64\n",
      " 13  home.dest  745 non-null    object \n",
      "dtypes: float64(3), int64(4), object(7)\n",
      "memory usage: 143.3+ KB\n"
     ]
    }
   ],
   "source": [
    "# dataframe info\n",
    "\n",
    "titanic.info()\n"
   ]
  },
  {
   "cell_type": "markdown",
   "id": "3b764bab",
   "metadata": {
    "id": "wFTbVDah42YQ",
    "papermill": {
     "duration": 0.008993,
     "end_time": "2023-05-10T07:10:03.280238",
     "exception": false,
     "start_time": "2023-05-10T07:10:03.271245",
     "status": "completed"
    },
    "tags": []
   },
   "source": [
    "info() function prints information about a DataFrame including the index dtype and columns, non-null values and memory usage."
   ]
  },
  {
   "cell_type": "code",
   "execution_count": 13,
   "id": "ac94f149",
   "metadata": {
    "execution": {
     "iopub.execute_input": "2023-05-10T07:10:03.301041Z",
     "iopub.status.busy": "2023-05-10T07:10:03.300560Z",
     "iopub.status.idle": "2023-05-10T07:10:03.340109Z",
     "shell.execute_reply": "2023-05-10T07:10:03.338821Z"
    },
    "id": "JQ_zYmDJ4oLu",
    "outputId": "0f052ca1-139f-4896-fb06-720ac1e61cba",
    "papermill": {
     "duration": 0.053628,
     "end_time": "2023-05-10T07:10:03.342980",
     "exception": false,
     "start_time": "2023-05-10T07:10:03.289352",
     "status": "completed"
    },
    "tags": []
   },
   "outputs": [
    {
     "data": {
      "application/vnd.microsoft.datawrangler.viewer.v0+json": {
       "columns": [
        {
         "name": "index",
         "rawType": "object",
         "type": "string"
        },
        {
         "name": "pclass",
         "rawType": "float64",
         "type": "float"
        },
        {
         "name": "survived",
         "rawType": "float64",
         "type": "float"
        },
        {
         "name": "age",
         "rawType": "float64",
         "type": "float"
        },
        {
         "name": "sibsp",
         "rawType": "float64",
         "type": "float"
        },
        {
         "name": "parch",
         "rawType": "float64",
         "type": "float"
        },
        {
         "name": "fare",
         "rawType": "float64",
         "type": "float"
        },
        {
         "name": "body",
         "rawType": "float64",
         "type": "float"
        }
       ],
       "ref": "b234e42f-36f5-4749-b05d-9d9e4efd9f54",
       "rows": [
        [
         "count",
         "1309.0",
         "1309.0",
         "1046.0",
         "1309.0",
         "1309.0",
         "1308.0",
         "121.0"
        ],
        [
         "mean",
         "2.294881588999236",
         "0.3819709702062643",
         "29.881137667304014",
         "0.4988540870893812",
         "0.3850267379679144",
         "33.29547928134557",
         "160.8099173553719"
        ],
        [
         "std",
         "0.8378360189701274",
         "0.4860551708664827",
         "14.413493211271321",
         "1.041658390596102",
         "0.8655602753495147",
         "51.75866823917411",
         "97.6969219960031"
        ],
        [
         "min",
         "1.0",
         "0.0",
         "0.17",
         "0.0",
         "0.0",
         "0.0",
         "1.0"
        ],
        [
         "25%",
         "2.0",
         "0.0",
         "21.0",
         "0.0",
         "0.0",
         "7.8958",
         "72.0"
        ],
        [
         "50%",
         "3.0",
         "0.0",
         "28.0",
         "0.0",
         "0.0",
         "14.4542",
         "155.0"
        ],
        [
         "75%",
         "3.0",
         "1.0",
         "39.0",
         "1.0",
         "0.0",
         "31.275",
         "256.0"
        ],
        [
         "max",
         "3.0",
         "1.0",
         "80.0",
         "8.0",
         "9.0",
         "512.3292",
         "328.0"
        ]
       ],
       "shape": {
        "columns": 7,
        "rows": 8
       }
      },
      "text/html": [
       "<div>\n",
       "<style scoped>\n",
       "    .dataframe tbody tr th:only-of-type {\n",
       "        vertical-align: middle;\n",
       "    }\n",
       "\n",
       "    .dataframe tbody tr th {\n",
       "        vertical-align: top;\n",
       "    }\n",
       "\n",
       "    .dataframe thead th {\n",
       "        text-align: right;\n",
       "    }\n",
       "</style>\n",
       "<table border=\"1\" class=\"dataframe\">\n",
       "  <thead>\n",
       "    <tr style=\"text-align: right;\">\n",
       "      <th></th>\n",
       "      <th>pclass</th>\n",
       "      <th>survived</th>\n",
       "      <th>age</th>\n",
       "      <th>sibsp</th>\n",
       "      <th>parch</th>\n",
       "      <th>fare</th>\n",
       "      <th>body</th>\n",
       "    </tr>\n",
       "  </thead>\n",
       "  <tbody>\n",
       "    <tr>\n",
       "      <th>count</th>\n",
       "      <td>1309.000000</td>\n",
       "      <td>1309.000000</td>\n",
       "      <td>1046.000000</td>\n",
       "      <td>1309.000000</td>\n",
       "      <td>1309.000000</td>\n",
       "      <td>1308.000000</td>\n",
       "      <td>121.000000</td>\n",
       "    </tr>\n",
       "    <tr>\n",
       "      <th>mean</th>\n",
       "      <td>2.294882</td>\n",
       "      <td>0.381971</td>\n",
       "      <td>29.881138</td>\n",
       "      <td>0.498854</td>\n",
       "      <td>0.385027</td>\n",
       "      <td>33.295479</td>\n",
       "      <td>160.809917</td>\n",
       "    </tr>\n",
       "    <tr>\n",
       "      <th>std</th>\n",
       "      <td>0.837836</td>\n",
       "      <td>0.486055</td>\n",
       "      <td>14.413493</td>\n",
       "      <td>1.041658</td>\n",
       "      <td>0.865560</td>\n",
       "      <td>51.758668</td>\n",
       "      <td>97.696922</td>\n",
       "    </tr>\n",
       "    <tr>\n",
       "      <th>min</th>\n",
       "      <td>1.000000</td>\n",
       "      <td>0.000000</td>\n",
       "      <td>0.170000</td>\n",
       "      <td>0.000000</td>\n",
       "      <td>0.000000</td>\n",
       "      <td>0.000000</td>\n",
       "      <td>1.000000</td>\n",
       "    </tr>\n",
       "    <tr>\n",
       "      <th>25%</th>\n",
       "      <td>2.000000</td>\n",
       "      <td>0.000000</td>\n",
       "      <td>21.000000</td>\n",
       "      <td>0.000000</td>\n",
       "      <td>0.000000</td>\n",
       "      <td>7.895800</td>\n",
       "      <td>72.000000</td>\n",
       "    </tr>\n",
       "    <tr>\n",
       "      <th>50%</th>\n",
       "      <td>3.000000</td>\n",
       "      <td>0.000000</td>\n",
       "      <td>28.000000</td>\n",
       "      <td>0.000000</td>\n",
       "      <td>0.000000</td>\n",
       "      <td>14.454200</td>\n",
       "      <td>155.000000</td>\n",
       "    </tr>\n",
       "    <tr>\n",
       "      <th>75%</th>\n",
       "      <td>3.000000</td>\n",
       "      <td>1.000000</td>\n",
       "      <td>39.000000</td>\n",
       "      <td>1.000000</td>\n",
       "      <td>0.000000</td>\n",
       "      <td>31.275000</td>\n",
       "      <td>256.000000</td>\n",
       "    </tr>\n",
       "    <tr>\n",
       "      <th>max</th>\n",
       "      <td>3.000000</td>\n",
       "      <td>1.000000</td>\n",
       "      <td>80.000000</td>\n",
       "      <td>8.000000</td>\n",
       "      <td>9.000000</td>\n",
       "      <td>512.329200</td>\n",
       "      <td>328.000000</td>\n",
       "    </tr>\n",
       "  </tbody>\n",
       "</table>\n",
       "</div>"
      ],
      "text/plain": [
       "            pclass     survived          age        sibsp        parch  \\\n",
       "count  1309.000000  1309.000000  1046.000000  1309.000000  1309.000000   \n",
       "mean      2.294882     0.381971    29.881138     0.498854     0.385027   \n",
       "std       0.837836     0.486055    14.413493     1.041658     0.865560   \n",
       "min       1.000000     0.000000     0.170000     0.000000     0.000000   \n",
       "25%       2.000000     0.000000    21.000000     0.000000     0.000000   \n",
       "50%       3.000000     0.000000    28.000000     0.000000     0.000000   \n",
       "75%       3.000000     1.000000    39.000000     1.000000     0.000000   \n",
       "max       3.000000     1.000000    80.000000     8.000000     9.000000   \n",
       "\n",
       "              fare        body  \n",
       "count  1308.000000  121.000000  \n",
       "mean     33.295479  160.809917  \n",
       "std      51.758668   97.696922  \n",
       "min       0.000000    1.000000  \n",
       "25%       7.895800   72.000000  \n",
       "50%      14.454200  155.000000  \n",
       "75%      31.275000  256.000000  \n",
       "max     512.329200  328.000000  "
      ]
     },
     "execution_count": 13,
     "metadata": {},
     "output_type": "execute_result"
    }
   ],
   "source": [
    "# display summary statistics of numerical columns\n",
    "\n",
    "titanic.describe(exclude=[object])"
   ]
  },
  {
   "cell_type": "code",
   "execution_count": 12,
   "id": "500b968f",
   "metadata": {
    "execution": {
     "iopub.execute_input": "2023-05-10T07:10:03.364244Z",
     "iopub.status.busy": "2023-05-10T07:10:03.363830Z",
     "iopub.status.idle": "2023-05-10T07:10:03.423621Z",
     "shell.execute_reply": "2023-05-10T07:10:03.422297Z"
    },
    "id": "6fdaGpCi4oOy",
    "outputId": "1132c299-b005-45c9-811d-31d0f011ee93",
    "papermill": {
     "duration": 0.073792,
     "end_time": "2023-05-10T07:10:03.426379",
     "exception": false,
     "start_time": "2023-05-10T07:10:03.352587",
     "status": "completed"
    },
    "tags": []
   },
   "outputs": [
    {
     "data": {
      "application/vnd.microsoft.datawrangler.viewer.v0+json": {
       "columns": [
        {
         "name": "index",
         "rawType": "object",
         "type": "string"
        },
        {
         "name": "pclass",
         "rawType": "float64",
         "type": "float"
        },
        {
         "name": "survived",
         "rawType": "float64",
         "type": "float"
        },
        {
         "name": "age",
         "rawType": "float64",
         "type": "float"
        },
        {
         "name": "sibsp",
         "rawType": "float64",
         "type": "float"
        },
        {
         "name": "parch",
         "rawType": "float64",
         "type": "float"
        },
        {
         "name": "fare",
         "rawType": "float64",
         "type": "float"
        },
        {
         "name": "body",
         "rawType": "float64",
         "type": "float"
        }
       ],
       "ref": "62f4fee4-e867-4473-8582-09191e576b27",
       "rows": [
        [
         "count",
         "1309.0",
         "1309.0",
         "1046.0",
         "1309.0",
         "1309.0",
         "1308.0",
         "121.0"
        ],
        [
         "mean",
         "2.294881588999236",
         "0.3819709702062643",
         "29.881137667304014",
         "0.4988540870893812",
         "0.3850267379679144",
         "33.29547928134557",
         "160.8099173553719"
        ],
        [
         "std",
         "0.8378360189701274",
         "0.4860551708664827",
         "14.413493211271321",
         "1.041658390596102",
         "0.8655602753495147",
         "51.75866823917411",
         "97.6969219960031"
        ],
        [
         "min",
         "1.0",
         "0.0",
         "0.17",
         "0.0",
         "0.0",
         "0.0",
         "1.0"
        ],
        [
         "25%",
         "2.0",
         "0.0",
         "21.0",
         "0.0",
         "0.0",
         "7.8958",
         "72.0"
        ],
        [
         "50%",
         "3.0",
         "0.0",
         "28.0",
         "0.0",
         "0.0",
         "14.4542",
         "155.0"
        ],
        [
         "75%",
         "3.0",
         "1.0",
         "39.0",
         "1.0",
         "0.0",
         "31.275",
         "256.0"
        ],
        [
         "max",
         "3.0",
         "1.0",
         "80.0",
         "8.0",
         "9.0",
         "512.3292",
         "328.0"
        ]
       ],
       "shape": {
        "columns": 7,
        "rows": 8
       }
      },
      "text/html": [
       "<div>\n",
       "<style scoped>\n",
       "    .dataframe tbody tr th:only-of-type {\n",
       "        vertical-align: middle;\n",
       "    }\n",
       "\n",
       "    .dataframe tbody tr th {\n",
       "        vertical-align: top;\n",
       "    }\n",
       "\n",
       "    .dataframe thead th {\n",
       "        text-align: right;\n",
       "    }\n",
       "</style>\n",
       "<table border=\"1\" class=\"dataframe\">\n",
       "  <thead>\n",
       "    <tr style=\"text-align: right;\">\n",
       "      <th></th>\n",
       "      <th>pclass</th>\n",
       "      <th>survived</th>\n",
       "      <th>age</th>\n",
       "      <th>sibsp</th>\n",
       "      <th>parch</th>\n",
       "      <th>fare</th>\n",
       "      <th>body</th>\n",
       "    </tr>\n",
       "  </thead>\n",
       "  <tbody>\n",
       "    <tr>\n",
       "      <th>count</th>\n",
       "      <td>1309.000000</td>\n",
       "      <td>1309.000000</td>\n",
       "      <td>1046.000000</td>\n",
       "      <td>1309.000000</td>\n",
       "      <td>1309.000000</td>\n",
       "      <td>1308.000000</td>\n",
       "      <td>121.000000</td>\n",
       "    </tr>\n",
       "    <tr>\n",
       "      <th>mean</th>\n",
       "      <td>2.294882</td>\n",
       "      <td>0.381971</td>\n",
       "      <td>29.881138</td>\n",
       "      <td>0.498854</td>\n",
       "      <td>0.385027</td>\n",
       "      <td>33.295479</td>\n",
       "      <td>160.809917</td>\n",
       "    </tr>\n",
       "    <tr>\n",
       "      <th>std</th>\n",
       "      <td>0.837836</td>\n",
       "      <td>0.486055</td>\n",
       "      <td>14.413493</td>\n",
       "      <td>1.041658</td>\n",
       "      <td>0.865560</td>\n",
       "      <td>51.758668</td>\n",
       "      <td>97.696922</td>\n",
       "    </tr>\n",
       "    <tr>\n",
       "      <th>min</th>\n",
       "      <td>1.000000</td>\n",
       "      <td>0.000000</td>\n",
       "      <td>0.170000</td>\n",
       "      <td>0.000000</td>\n",
       "      <td>0.000000</td>\n",
       "      <td>0.000000</td>\n",
       "      <td>1.000000</td>\n",
       "    </tr>\n",
       "    <tr>\n",
       "      <th>25%</th>\n",
       "      <td>2.000000</td>\n",
       "      <td>0.000000</td>\n",
       "      <td>21.000000</td>\n",
       "      <td>0.000000</td>\n",
       "      <td>0.000000</td>\n",
       "      <td>7.895800</td>\n",
       "      <td>72.000000</td>\n",
       "    </tr>\n",
       "    <tr>\n",
       "      <th>50%</th>\n",
       "      <td>3.000000</td>\n",
       "      <td>0.000000</td>\n",
       "      <td>28.000000</td>\n",
       "      <td>0.000000</td>\n",
       "      <td>0.000000</td>\n",
       "      <td>14.454200</td>\n",
       "      <td>155.000000</td>\n",
       "    </tr>\n",
       "    <tr>\n",
       "      <th>75%</th>\n",
       "      <td>3.000000</td>\n",
       "      <td>1.000000</td>\n",
       "      <td>39.000000</td>\n",
       "      <td>1.000000</td>\n",
       "      <td>0.000000</td>\n",
       "      <td>31.275000</td>\n",
       "      <td>256.000000</td>\n",
       "    </tr>\n",
       "    <tr>\n",
       "      <th>max</th>\n",
       "      <td>3.000000</td>\n",
       "      <td>1.000000</td>\n",
       "      <td>80.000000</td>\n",
       "      <td>8.000000</td>\n",
       "      <td>9.000000</td>\n",
       "      <td>512.329200</td>\n",
       "      <td>328.000000</td>\n",
       "    </tr>\n",
       "  </tbody>\n",
       "</table>\n",
       "</div>"
      ],
      "text/plain": [
       "            pclass     survived          age        sibsp        parch  \\\n",
       "count  1309.000000  1309.000000  1046.000000  1309.000000  1309.000000   \n",
       "mean      2.294882     0.381971    29.881138     0.498854     0.385027   \n",
       "std       0.837836     0.486055    14.413493     1.041658     0.865560   \n",
       "min       1.000000     0.000000     0.170000     0.000000     0.000000   \n",
       "25%       2.000000     0.000000    21.000000     0.000000     0.000000   \n",
       "50%       3.000000     0.000000    28.000000     0.000000     0.000000   \n",
       "75%       3.000000     1.000000    39.000000     1.000000     0.000000   \n",
       "max       3.000000     1.000000    80.000000     8.000000     9.000000   \n",
       "\n",
       "              fare        body  \n",
       "count  1308.000000  121.000000  \n",
       "mean     33.295479  160.809917  \n",
       "std      51.758668   97.696922  \n",
       "min       0.000000    1.000000  \n",
       "25%       7.895800   72.000000  \n",
       "50%      14.454200  155.000000  \n",
       "75%      31.275000  256.000000  \n",
       "max     512.329200  328.000000  "
      ]
     },
     "execution_count": 12,
     "metadata": {},
     "output_type": "execute_result"
    }
   ],
   "source": [
    "# display summary statistics of all columns\n",
    "\n",
    "titanic.describe()"
   ]
  },
  {
   "cell_type": "code",
   "execution_count": 17,
   "id": "4c10d7ea",
   "metadata": {
    "execution": {
     "iopub.execute_input": "2023-05-10T07:10:03.449155Z",
     "iopub.status.busy": "2023-05-10T07:10:03.448741Z",
     "iopub.status.idle": "2023-05-10T07:10:03.456524Z",
     "shell.execute_reply": "2023-05-10T07:10:03.455233Z"
    },
    "id": "0j079MGC4oR3",
    "outputId": "518f9cca-106b-4081-d002-a70c200d4c0e",
    "papermill": {
     "duration": 0.022226,
     "end_time": "2023-05-10T07:10:03.459138",
     "exception": false,
     "start_time": "2023-05-10T07:10:03.436912",
     "status": "completed"
    },
    "tags": []
   },
   "outputs": [
    {
     "data": {
      "text/plain": [
       "(1309, 14)"
      ]
     },
     "execution_count": 17,
     "metadata": {},
     "output_type": "execute_result"
    }
   ],
   "source": [
    "# display shape\n",
    "\n",
    "titanic.shape"
   ]
  },
  {
   "cell_type": "code",
   "execution_count": null,
   "id": "f2884310",
   "metadata": {
    "execution": {
     "iopub.execute_input": "2023-05-10T07:10:03.481886Z",
     "iopub.status.busy": "2023-05-10T07:10:03.481434Z",
     "iopub.status.idle": "2023-05-10T07:10:03.489563Z",
     "shell.execute_reply": "2023-05-10T07:10:03.488283Z"
    },
    "id": "MPV3lEov4oVF",
    "outputId": "1392fe6a-44f6-484c-ca5a-e0fe349bb111",
    "papermill": {
     "duration": 0.022917,
     "end_time": "2023-05-10T07:10:03.492338",
     "exception": false,
     "start_time": "2023-05-10T07:10:03.469421",
     "status": "completed"
    },
    "tags": []
   },
   "outputs": [
    {
     "data": {
      "text/plain": [
       "Index(['pclass', 'survived', 'name', 'sex', 'age', 'sibsp', 'parch', 'ticket',\n",
       "       'fare', 'cabin', 'embarked', 'boat', 'body', 'home.dest'],\n",
       "      dtype='object')"
      ]
     },
     "execution_count": 19,
     "metadata": {},
     "output_type": "execute_result"
    }
   ],
   "source": [
    "# display column labels\n",
    "titanic.columns"
   ]
  },
  {
   "cell_type": "code",
   "execution_count": null,
   "id": "f3b7bec7",
   "metadata": {
    "execution": {
     "iopub.execute_input": "2023-05-10T07:10:03.514927Z",
     "iopub.status.busy": "2023-05-10T07:10:03.514460Z",
     "iopub.status.idle": "2023-05-10T07:10:03.522747Z",
     "shell.execute_reply": "2023-05-10T07:10:03.521424Z"
    },
    "papermill": {
     "duration": 0.022861,
     "end_time": "2023-05-10T07:10:03.525579",
     "exception": false,
     "start_time": "2023-05-10T07:10:03.502718",
     "status": "completed"
    },
    "tags": []
   },
   "outputs": [],
   "source": [
    "# display row index, either row numbers or row names\n"
   ]
  },
  {
   "cell_type": "code",
   "execution_count": 25,
   "id": "bf3f8a17",
   "metadata": {
    "execution": {
     "iopub.execute_input": "2023-05-10T07:10:03.550470Z",
     "iopub.status.busy": "2023-05-10T07:10:03.549988Z",
     "iopub.status.idle": "2023-05-10T07:10:03.560231Z",
     "shell.execute_reply": "2023-05-10T07:10:03.558962Z"
    },
    "id": "aiCkW9-m5b2T",
    "outputId": "daa0e77a-d5ce-49c3-a992-81a77116df66",
    "papermill": {
     "duration": 0.02501,
     "end_time": "2023-05-10T07:10:03.562708",
     "exception": false,
     "start_time": "2023-05-10T07:10:03.537698",
     "status": "completed"
    },
    "tags": []
   },
   "outputs": [
    {
     "name": "stdout",
     "output_type": "stream",
     "text": [
      "0       1\n",
      "1       1\n",
      "2       1\n",
      "3       1\n",
      "4       1\n",
      "       ..\n",
      "1304    3\n",
      "1305    3\n",
      "1306    3\n",
      "1307    3\n",
      "1308    3\n",
      "Name: pclass, Length: 1309, dtype: int64\n"
     ]
    }
   ],
   "source": [
    "# select a column as a series\n",
    "\n",
    "titanic['pclass'] \n",
    "\n",
    "print(titanic['pclass'])"
   ]
  },
  {
   "cell_type": "code",
   "execution_count": 29,
   "id": "0f53b4c8",
   "metadata": {
    "execution": {
     "iopub.execute_input": "2023-05-10T07:10:03.586201Z",
     "iopub.status.busy": "2023-05-10T07:10:03.585400Z",
     "iopub.status.idle": "2023-05-10T07:10:03.593255Z",
     "shell.execute_reply": "2023-05-10T07:10:03.591943Z"
    },
    "id": "TR_o_65v6POd",
    "outputId": "e561c5fd-2f7b-48d3-f2c8-08c5a3e63b1d",
    "papermill": {
     "duration": 0.022413,
     "end_time": "2023-05-10T07:10:03.595741",
     "exception": false,
     "start_time": "2023-05-10T07:10:03.573328",
     "status": "completed"
    },
    "tags": []
   },
   "outputs": [
    {
     "data": {
      "text/plain": [
       "(1309,)"
      ]
     },
     "execution_count": 29,
     "metadata": {},
     "output_type": "execute_result"
    }
   ],
   "source": [
    "# shape of pandas series\n",
    "\n",
    "srs = titanic['name']\n",
    "\n",
    "srs.shape"
   ]
  },
  {
   "cell_type": "code",
   "execution_count": 31,
   "id": "be294c0e",
   "metadata": {
    "execution": {
     "iopub.execute_input": "2023-05-10T07:10:03.619763Z",
     "iopub.status.busy": "2023-05-10T07:10:03.618903Z",
     "iopub.status.idle": "2023-05-10T07:10:03.633149Z",
     "shell.execute_reply": "2023-05-10T07:10:03.631979Z"
    },
    "id": "JsRmzjlS6LcQ",
    "outputId": "04618adf-f8c2-4082-e9d4-e90f769c630e",
    "papermill": {
     "duration": 0.029277,
     "end_time": "2023-05-10T07:10:03.635904",
     "exception": false,
     "start_time": "2023-05-10T07:10:03.606627",
     "status": "completed"
    },
    "tags": []
   },
   "outputs": [
    {
     "data": {
      "application/vnd.microsoft.datawrangler.viewer.v0+json": {
       "columns": [
        {
         "name": "index",
         "rawType": "int64",
         "type": "integer"
        },
        {
         "name": "name",
         "rawType": "object",
         "type": "string"
        }
       ],
       "ref": "7a2cc347-f1bd-4cbd-bb22-d9e1ed3b7cc9",
       "rows": [
        [
         "0",
         "Allen, Miss. Elisabeth Walton"
        ],
        [
         "1",
         "Allison, Master. Hudson Trevor"
        ],
        [
         "2",
         "Allison, Miss. Helen Loraine"
        ],
        [
         "3",
         "Allison, Mr. Hudson Joshua Creighton"
        ],
        [
         "4",
         "Allison, Mrs. Hudson J C (Bessie Waldo Daniels)"
        ],
        [
         "5",
         "Anderson, Mr. Harry"
        ],
        [
         "6",
         "Andrews, Miss. Kornelia Theodosia"
        ],
        [
         "7",
         "Andrews, Mr. Thomas Jr"
        ],
        [
         "8",
         "Appleton, Mrs. Edward Dale (Charlotte Lamson)"
        ],
        [
         "9",
         "Artagaveytia, Mr. Ramon"
        ],
        [
         "10",
         "Astor, Col. John Jacob"
        ],
        [
         "11",
         "Astor, Mrs. John Jacob (Madeleine Talmadge Force)"
        ],
        [
         "12",
         "Aubart, Mme. Leontine Pauline"
        ],
        [
         "13",
         "Barber, Miss. Ellen \"Nellie\""
        ],
        [
         "14",
         "Barkworth, Mr. Algernon Henry Wilson"
        ],
        [
         "15",
         "Baumann, Mr. John D"
        ],
        [
         "16",
         "Baxter, Mr. Quigg Edmond"
        ],
        [
         "17",
         "Baxter, Mrs. James (Helene DeLaudeniere Chaput)"
        ],
        [
         "18",
         "Bazzani, Miss. Albina"
        ],
        [
         "19",
         "Beattie, Mr. Thomson"
        ],
        [
         "20",
         "Beckwith, Mr. Richard Leonard"
        ],
        [
         "21",
         "Beckwith, Mrs. Richard Leonard (Sallie Monypeny)"
        ],
        [
         "22",
         "Behr, Mr. Karl Howell"
        ],
        [
         "23",
         "Bidois, Miss. Rosalie"
        ],
        [
         "24",
         "Bird, Miss. Ellen"
        ],
        [
         "25",
         "Birnbaum, Mr. Jakob"
        ],
        [
         "26",
         "Bishop, Mr. Dickinson H"
        ],
        [
         "27",
         "Bishop, Mrs. Dickinson H (Helen Walton)"
        ],
        [
         "28",
         "Bissette, Miss. Amelia"
        ],
        [
         "29",
         "Bjornstrom-Steffansson, Mr. Mauritz Hakan"
        ],
        [
         "30",
         "Blackwell, Mr. Stephen Weart"
        ],
        [
         "31",
         "Blank, Mr. Henry"
        ],
        [
         "32",
         "Bonnell, Miss. Caroline"
        ],
        [
         "33",
         "Bonnell, Miss. Elizabeth"
        ],
        [
         "34",
         "Borebank, Mr. John James"
        ],
        [
         "35",
         "Bowen, Miss. Grace Scott"
        ],
        [
         "36",
         "Bowerman, Miss. Elsie Edith"
        ],
        [
         "37",
         "Bradley, Mr. George (\"George Arthur Brayton\")"
        ],
        [
         "38",
         "Brady, Mr. John Bertram"
        ],
        [
         "39",
         "Brandeis, Mr. Emil"
        ],
        [
         "40",
         "Brewe, Dr. Arthur Jackson"
        ],
        [
         "41",
         "Brown, Mrs. James Joseph (Margaret Tobin)"
        ],
        [
         "42",
         "Brown, Mrs. John Murray (Caroline Lane Lamson)"
        ],
        [
         "43",
         "Bucknell, Mrs. William Robert (Emma Eliza Ward)"
        ],
        [
         "44",
         "Burns, Miss. Elizabeth Margaret"
        ],
        [
         "45",
         "Butt, Major. Archibald Willingham"
        ],
        [
         "46",
         "Cairns, Mr. Alexander"
        ],
        [
         "47",
         "Calderhead, Mr. Edward Pennington"
        ],
        [
         "48",
         "Candee, Mrs. Edward (Helen Churchill Hungerford)"
        ],
        [
         "49",
         "Cardeza, Mr. Thomas Drake Martinez"
        ]
       ],
       "shape": {
        "columns": 1,
        "rows": 1309
       }
      },
      "text/html": [
       "<div>\n",
       "<style scoped>\n",
       "    .dataframe tbody tr th:only-of-type {\n",
       "        vertical-align: middle;\n",
       "    }\n",
       "\n",
       "    .dataframe tbody tr th {\n",
       "        vertical-align: top;\n",
       "    }\n",
       "\n",
       "    .dataframe thead th {\n",
       "        text-align: right;\n",
       "    }\n",
       "</style>\n",
       "<table border=\"1\" class=\"dataframe\">\n",
       "  <thead>\n",
       "    <tr style=\"text-align: right;\">\n",
       "      <th></th>\n",
       "      <th>name</th>\n",
       "    </tr>\n",
       "  </thead>\n",
       "  <tbody>\n",
       "    <tr>\n",
       "      <th>0</th>\n",
       "      <td>Allen, Miss. Elisabeth Walton</td>\n",
       "    </tr>\n",
       "    <tr>\n",
       "      <th>1</th>\n",
       "      <td>Allison, Master. Hudson Trevor</td>\n",
       "    </tr>\n",
       "    <tr>\n",
       "      <th>2</th>\n",
       "      <td>Allison, Miss. Helen Loraine</td>\n",
       "    </tr>\n",
       "    <tr>\n",
       "      <th>3</th>\n",
       "      <td>Allison, Mr. Hudson Joshua Creighton</td>\n",
       "    </tr>\n",
       "    <tr>\n",
       "      <th>4</th>\n",
       "      <td>Allison, Mrs. Hudson J C (Bessie Waldo Daniels)</td>\n",
       "    </tr>\n",
       "    <tr>\n",
       "      <th>...</th>\n",
       "      <td>...</td>\n",
       "    </tr>\n",
       "    <tr>\n",
       "      <th>1304</th>\n",
       "      <td>Zabour, Miss. Hileni</td>\n",
       "    </tr>\n",
       "    <tr>\n",
       "      <th>1305</th>\n",
       "      <td>Zabour, Miss. Thamine</td>\n",
       "    </tr>\n",
       "    <tr>\n",
       "      <th>1306</th>\n",
       "      <td>Zakarian, Mr. Mapriededer</td>\n",
       "    </tr>\n",
       "    <tr>\n",
       "      <th>1307</th>\n",
       "      <td>Zakarian, Mr. Ortin</td>\n",
       "    </tr>\n",
       "    <tr>\n",
       "      <th>1308</th>\n",
       "      <td>Zimmerman, Mr. Leo</td>\n",
       "    </tr>\n",
       "  </tbody>\n",
       "</table>\n",
       "<p>1309 rows × 1 columns</p>\n",
       "</div>"
      ],
      "text/plain": [
       "                                                 name\n",
       "0                       Allen, Miss. Elisabeth Walton\n",
       "1                      Allison, Master. Hudson Trevor\n",
       "2                        Allison, Miss. Helen Loraine\n",
       "3                Allison, Mr. Hudson Joshua Creighton\n",
       "4     Allison, Mrs. Hudson J C (Bessie Waldo Daniels)\n",
       "...                                               ...\n",
       "1304                             Zabour, Miss. Hileni\n",
       "1305                            Zabour, Miss. Thamine\n",
       "1306                        Zakarian, Mr. Mapriededer\n",
       "1307                              Zakarian, Mr. Ortin\n",
       "1308                               Zimmerman, Mr. Leo\n",
       "\n",
       "[1309 rows x 1 columns]"
      ]
     },
     "execution_count": 31,
     "metadata": {},
     "output_type": "execute_result"
    }
   ],
   "source": [
    "# select a column as a dataframe\n",
    "\n",
    "dfr = titanic[['name']]\n",
    "\n",
    "dfr"
   ]
  },
  {
   "cell_type": "code",
   "execution_count": null,
   "id": "c7310d98",
   "metadata": {
    "execution": {
     "iopub.execute_input": "2023-05-10T07:10:03.661455Z",
     "iopub.status.busy": "2023-05-10T07:10:03.660358Z",
     "iopub.status.idle": "2023-05-10T07:10:03.670209Z",
     "shell.execute_reply": "2023-05-10T07:10:03.668932Z"
    },
    "id": "VHUla3s86Sv5",
    "outputId": "397ed470-c69b-46e7-e4f1-1d582d0f5d6c",
    "papermill": {
     "duration": 0.025229,
     "end_time": "2023-05-10T07:10:03.672934",
     "exception": false,
     "start_time": "2023-05-10T07:10:03.647705",
     "status": "completed"
    },
    "tags": []
   },
   "outputs": [],
   "source": [
    "# shape of pandas dataframe\n",
    "\n"
   ]
  },
  {
   "cell_type": "code",
   "execution_count": 36,
   "id": "48759f33",
   "metadata": {
    "execution": {
     "iopub.execute_input": "2023-05-10T07:10:03.698201Z",
     "iopub.status.busy": "2023-05-10T07:10:03.697774Z",
     "iopub.status.idle": "2023-05-10T07:10:03.706311Z",
     "shell.execute_reply": "2023-05-10T07:10:03.704863Z"
    },
    "id": "HES3mWV25q1T",
    "outputId": "0052bb58-5a25-4f05-bd3a-f17c65d0bbf7",
    "papermill": {
     "duration": 0.024813,
     "end_time": "2023-05-10T07:10:03.709112",
     "exception": false,
     "start_time": "2023-05-10T07:10:03.684299",
     "status": "completed"
    },
    "tags": []
   },
   "outputs": [
    {
     "name": "stdout",
     "output_type": "stream",
     "text": [
      "98\n"
     ]
    }
   ],
   "source": [
    "# unique categories in a column\n",
    "\n",
    "uniques = titanic['age'].nunique()\n",
    "\n",
    "print(uniques)"
   ]
  },
  {
   "cell_type": "code",
   "execution_count": 35,
   "id": "02cfe69f",
   "metadata": {
    "execution": {
     "iopub.execute_input": "2023-05-10T07:10:03.734908Z",
     "iopub.status.busy": "2023-05-10T07:10:03.734470Z",
     "iopub.status.idle": "2023-05-10T07:10:03.742985Z",
     "shell.execute_reply": "2023-05-10T07:10:03.741544Z"
    },
    "id": "MgBihKy45Ura",
    "outputId": "d396747d-7b11-46b9-acb0-be90d171c561",
    "papermill": {
     "duration": 0.024957,
     "end_time": "2023-05-10T07:10:03.745674",
     "exception": false,
     "start_time": "2023-05-10T07:10:03.720717",
     "status": "completed"
    },
    "tags": []
   },
   "outputs": [
    {
     "name": "stdout",
     "output_type": "stream",
     "text": [
      "[29.    0.92  2.   30.   25.   48.   63.   39.   53.   71.   47.   18.\n",
      " 24.   26.   80.     nan 50.   32.   36.   37.   42.   19.   35.   28.\n",
      " 45.   40.   58.   22.   41.   44.   59.   60.   33.   17.   11.   14.\n",
      " 49.   76.   46.   27.   64.   55.   70.   38.   51.   31.    4.   54.\n",
      " 23.   43.   52.   16.   32.5  21.   15.   65.   28.5  45.5  56.   13.\n",
      " 61.   34.    6.   57.   62.   67.    1.   12.   20.    0.83  8.    0.67\n",
      "  7.    3.   36.5  18.5   5.   66.    9.    0.75 70.5  22.5   0.33  0.17\n",
      " 40.5  10.   23.5  34.5  20.5  30.5  55.5  38.5  14.5  24.5  60.5  74.\n",
      "  0.42 11.5  26.5 ]\n"
     ]
    }
   ],
   "source": [
    "# number of unique categories in a column\n",
    "uniquecolumns = titanic['age'].unique()\n",
    "\n",
    "print(uniquecolumns)\n"
   ]
  },
  {
   "cell_type": "code",
   "execution_count": null,
   "id": "99a826c2",
   "metadata": {
    "execution": {
     "iopub.execute_input": "2023-05-10T07:10:03.770775Z",
     "iopub.status.busy": "2023-05-10T07:10:03.770343Z",
     "iopub.status.idle": "2023-05-10T07:10:03.780846Z",
     "shell.execute_reply": "2023-05-10T07:10:03.779301Z"
    },
    "id": "72690XDP5UuS",
    "outputId": "26b4c021-b1c1-44e7-883f-5213e008325b",
    "papermill": {
     "duration": 0.026382,
     "end_time": "2023-05-10T07:10:03.783567",
     "exception": false,
     "start_time": "2023-05-10T07:10:03.757185",
     "status": "completed"
    },
    "tags": []
   },
   "outputs": [],
   "source": [
    "# categories wise number of observations in a column\n",
    "\n"
   ]
  },
  {
   "cell_type": "code",
   "execution_count": 37,
   "id": "e44fd938",
   "metadata": {
    "execution": {
     "iopub.execute_input": "2023-05-10T07:10:03.809081Z",
     "iopub.status.busy": "2023-05-10T07:10:03.808640Z",
     "iopub.status.idle": "2023-05-10T07:10:03.820623Z",
     "shell.execute_reply": "2023-05-10T07:10:03.819313Z"
    },
    "id": "BzHaSkbs5Uxc",
    "outputId": "7fe51e8b-350d-497f-a838-25e5d882c01f",
    "papermill": {
     "duration": 0.028098,
     "end_time": "2023-05-10T07:10:03.823334",
     "exception": false,
     "start_time": "2023-05-10T07:10:03.795236",
     "status": "completed"
    },
    "tags": []
   },
   "outputs": [
    {
     "data": {
      "application/vnd.microsoft.datawrangler.viewer.v0+json": {
       "columns": [
        {
         "name": "index",
         "rawType": "object",
         "type": "string"
        },
        {
         "name": "0",
         "rawType": "int64",
         "type": "integer"
        }
       ],
       "ref": "888e46b1-d0db-46d8-875f-a71d1dcbeffd",
       "rows": [
        [
         "pclass",
         "0"
        ],
        [
         "survived",
         "0"
        ],
        [
         "name",
         "0"
        ],
        [
         "sex",
         "0"
        ],
        [
         "age",
         "263"
        ],
        [
         "sibsp",
         "0"
        ],
        [
         "parch",
         "0"
        ],
        [
         "ticket",
         "0"
        ],
        [
         "fare",
         "1"
        ],
        [
         "cabin",
         "1014"
        ],
        [
         "embarked",
         "2"
        ],
        [
         "boat",
         "823"
        ],
        [
         "body",
         "1188"
        ],
        [
         "home.dest",
         "564"
        ]
       ],
       "shape": {
        "columns": 1,
        "rows": 14
       }
      },
      "text/plain": [
       "pclass          0\n",
       "survived        0\n",
       "name            0\n",
       "sex             0\n",
       "age           263\n",
       "sibsp           0\n",
       "parch           0\n",
       "ticket          0\n",
       "fare            1\n",
       "cabin        1014\n",
       "embarked        2\n",
       "boat          823\n",
       "body         1188\n",
       "home.dest     564\n",
       "dtype: int64"
      ]
     },
     "execution_count": 37,
     "metadata": {},
     "output_type": "execute_result"
    }
   ],
   "source": [
    "# count of missing values as na\n",
    "\n",
    "titanic.isna().sum()"
   ]
  },
  {
   "cell_type": "code",
   "execution_count": 38,
   "id": "15d6ec50",
   "metadata": {
    "execution": {
     "iopub.execute_input": "2023-05-10T07:10:03.849855Z",
     "iopub.status.busy": "2023-05-10T07:10:03.849387Z",
     "iopub.status.idle": "2023-05-10T07:10:03.861705Z",
     "shell.execute_reply": "2023-05-10T07:10:03.860059Z"
    },
    "id": "YZNjN9Jg5U0c",
    "outputId": "e762ae8e-fd75-47a7-9ced-4291a1f49b26",
    "papermill": {
     "duration": 0.028821,
     "end_time": "2023-05-10T07:10:03.864490",
     "exception": false,
     "start_time": "2023-05-10T07:10:03.835669",
     "status": "completed"
    },
    "tags": []
   },
   "outputs": [
    {
     "data": {
      "application/vnd.microsoft.datawrangler.viewer.v0+json": {
       "columns": [
        {
         "name": "index",
         "rawType": "object",
         "type": "string"
        },
        {
         "name": "0",
         "rawType": "int64",
         "type": "integer"
        }
       ],
       "ref": "0139fe06-3e86-42ad-8b5b-77e603cd6c25",
       "rows": [
        [
         "pclass",
         "0"
        ],
        [
         "survived",
         "0"
        ],
        [
         "name",
         "0"
        ],
        [
         "sex",
         "0"
        ],
        [
         "age",
         "263"
        ],
        [
         "sibsp",
         "0"
        ],
        [
         "parch",
         "0"
        ],
        [
         "ticket",
         "0"
        ],
        [
         "fare",
         "1"
        ],
        [
         "cabin",
         "1014"
        ],
        [
         "embarked",
         "2"
        ],
        [
         "boat",
         "823"
        ],
        [
         "body",
         "1188"
        ],
        [
         "home.dest",
         "564"
        ]
       ],
       "shape": {
        "columns": 1,
        "rows": 14
       }
      },
      "text/plain": [
       "pclass          0\n",
       "survived        0\n",
       "name            0\n",
       "sex             0\n",
       "age           263\n",
       "sibsp           0\n",
       "parch           0\n",
       "ticket          0\n",
       "fare            1\n",
       "cabin        1014\n",
       "embarked        2\n",
       "boat          823\n",
       "body         1188\n",
       "home.dest     564\n",
       "dtype: int64"
      ]
     },
     "execution_count": 38,
     "metadata": {},
     "output_type": "execute_result"
    }
   ],
   "source": [
    "# count of missing values as null\n",
    "\n",
    "titanic.isnull().sum()"
   ]
  },
  {
   "cell_type": "code",
   "execution_count": 41,
   "id": "bb403a13",
   "metadata": {
    "execution": {
     "iopub.execute_input": "2023-05-10T07:10:03.891150Z",
     "iopub.status.busy": "2023-05-10T07:10:03.890709Z",
     "iopub.status.idle": "2023-05-10T07:10:03.899826Z",
     "shell.execute_reply": "2023-05-10T07:10:03.898521Z"
    },
    "papermill": {
     "duration": 0.025842,
     "end_time": "2023-05-10T07:10:03.902557",
     "exception": false,
     "start_time": "2023-05-10T07:10:03.876715",
     "status": "completed"
    },
    "tags": []
   },
   "outputs": [
    {
     "name": "stdout",
     "output_type": "stream",
     "text": [
      "[[1 1 'Allen, Miss. Elisabeth Walton' ... '2' nan 'St Louis, MO']\n",
      " [1 1 'Allison, Master. Hudson Trevor' ... '11' nan\n",
      "  'Montreal, PQ / Chesterville, ON']\n",
      " [1 0 'Allison, Miss. Helen Loraine' ... nan nan\n",
      "  'Montreal, PQ / Chesterville, ON']\n",
      " ...\n",
      " [3 0 'Zakarian, Mr. Mapriededer' ... nan 304.0 nan]\n",
      " [3 0 'Zakarian, Mr. Ortin' ... nan nan nan]\n",
      " [3 0 'Zimmerman, Mr. Leo' ... nan nan nan]]\n"
     ]
    }
   ],
   "source": [
    "# convert dataframe to array\n",
    "\n",
    "import numpy as np\n",
    "\n",
    "array = np.array(titanic)\n",
    "\n",
    "print(array)\n"
   ]
  },
  {
   "cell_type": "code",
   "execution_count": 44,
   "id": "fdc6e626",
   "metadata": {
    "execution": {
     "iopub.execute_input": "2023-05-10T07:10:03.929285Z",
     "iopub.status.busy": "2023-05-10T07:10:03.928836Z",
     "iopub.status.idle": "2023-05-10T07:10:03.937014Z",
     "shell.execute_reply": "2023-05-10T07:10:03.935642Z"
    },
    "papermill": {
     "duration": 0.024611,
     "end_time": "2023-05-10T07:10:03.939558",
     "exception": false,
     "start_time": "2023-05-10T07:10:03.914947",
     "status": "completed"
    },
    "tags": []
   },
   "outputs": [
    {
     "name": "stdout",
     "output_type": "stream",
     "text": [
      "[29.    0.92  2.   ... 26.5  27.   29.  ]\n"
     ]
    }
   ],
   "source": [
    "# convert a series to array\n",
    "\n",
    "s_array = np.array(titanic['age'])\n",
    "\n",
    "print(s_array)\n",
    "\n"
   ]
  },
  {
   "cell_type": "code",
   "execution_count": null,
   "id": "5a1f89e0",
   "metadata": {},
   "outputs": [],
   "source": []
  }
 ],
 "metadata": {
  "kernelspec": {
   "display_name": "datascience",
   "language": "python",
   "name": "python3"
  },
  "language_info": {
   "codemirror_mode": {
    "name": "ipython",
    "version": 3
   },
   "file_extension": ".py",
   "mimetype": "text/x-python",
   "name": "python",
   "nbconvert_exporter": "python",
   "pygments_lexer": "ipython3",
   "version": "3.13.2"
  },
  "papermill": {
   "default_parameters": {},
   "duration": 14.966658,
   "end_time": "2023-05-10T07:10:04.674752",
   "environment_variables": {},
   "exception": null,
   "input_path": "__notebook__.ipynb",
   "output_path": "__notebook__.ipynb",
   "parameters": {},
   "start_time": "2023-05-10T07:09:49.708094",
   "version": "2.4.0"
  }
 },
 "nbformat": 4,
 "nbformat_minor": 5
}
