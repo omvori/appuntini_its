{
 "cells": [
  {
   "cell_type": "code",
   "execution_count": null,
   "metadata": {},
   "outputs": [],
   "source": [
    "#variabili arbitrarie *args\n",
    "\n",
    "def menupiatto(piatto: str, *args, prezzo:float=10.5) -> str:\n",
    "\t\treturn f\"{piatto}: {prezzo} € ingredienti {args}\"\n",
    "\n",
    "menupiatto(\"lasagna\",\"mozzarella\",\"pomodoro\",\"besciamella\",prezzo = 22.5)\n"
   ]
  },
  {
   "cell_type": "code",
   "execution_count": null,
   "metadata": {},
   "outputs": [],
   "source": []
  },
  {
   "cell_type": "code",
   "execution_count": null,
   "metadata": {},
   "outputs": [],
   "source": [
    "#variabili arbitrarie **kwargs\n",
    "\n",
    "def menupiatto(piatto: str, prezzo:float=10.5, **kwargs) -> str:\n",
    "\t\t\n",
    "        tempo = kwargs.get('tempo')\n",
    "        surgelata = kwargs.get('surgelata')\n",
    "\n",
    "        return f\"{piatto}: {prezzo} € tempo di cottura {tempo} minuti, surgelata {surgelata}\"\n",
    "\n",
    "\n",
    "print(menupiatto(\"lasagna\",20.0,tempo = 55, surgelata = False))\n"
   ]
  },
  {
   "cell_type": "code",
   "execution_count": null,
   "metadata": {},
   "outputs": [],
   "source": [
    "\n",
    "\n",
    "def somma_numeri_nominali(**kwargs):\n",
    "\n",
    "    print(kwargs.items()) \n",
    "    return sum(some_number for some_number in kwargs.values() if type(some_number) == int or type(some_number) == float)\n",
    "\n",
    "\n",
    "somma_numeri_nominali(numero1= 4.5,numero2=3,numero3='ciao')\n"
   ]
  },
  {
   "cell_type": "code",
   "execution_count": null,
   "metadata": {},
   "outputs": [],
   "source": [
    "def somma_numeri_misti(number1, *, number2, number3):\n",
    "    return number1 + number2 + number3\n",
    "\n",
    "somma_numeri_misti(19,number2 = 3, number3 = 20)"
   ]
  },
  {
   "cell_type": "code",
   "execution_count": null,
   "metadata": {},
   "outputs": [],
   "source": [
    "#à\n",
    "def somma_numeri_misti_posizionali(numero1,numero2,numero3, /):\n",
    "    return numero1+numero2+numero3\n",
    "\n",
    "somma_numeri_misti_posizionali(numero1 = 29,49,2)"
   ]
  },
  {
   "cell_type": "code",
   "execution_count": null,
   "metadata": {},
   "outputs": [],
   "source": [
    "#docstring\n",
    "\n",
    "def somma_numeri_misti_posizionali(numero1,numero2,numero3, /):\n",
    "    \"\"\"\n",
    "    somma i numeri prendendo gli argomenti posizionali\n",
    "    @return: risultato della somma\n",
    "        @rtype: int\n",
    "    \"\"\"\n",
    "\n",
    "    return numero1+numero2+numero3\n",
    "\n",
    "somma_numeri_misti_posizionali(29,49,2)\n",
    "\n",
    "print(somma_numeri_misti_posizionali.__doc__)"
   ]
  },
  {
   "cell_type": "code",
   "execution_count": null,
   "metadata": {},
   "outputs": [],
   "source": [
    "#lambda functions\n",
    "s = 5\n",
    "\n",
    "double = lambda x : x*2\n",
    "\n",
    "print(double(s))\n",
    "\n",
    "elevap = lambda x,n : x**n\n",
    "\n",
    "elevap(x=2, n=3)\n"
   ]
  },
  {
   "cell_type": "code",
   "execution_count": null,
   "metadata": {},
   "outputs": [],
   "source": [
    "mylist = [(\"Carlo\",2),(\"Alberto\",1),(\"Beatrice\",3)]\n",
    "\n",
    "mylist.sort(key=lambda mytuple: mytuple[1])\n",
    "mylist"
   ]
  },
  {
   "cell_type": "code",
   "execution_count": null,
   "metadata": {},
   "outputs": [],
   "source": [
    "#map\n",
    "\n",
    "lista_= [1,2,3,4,5,6]\n",
    "\n",
    "listanuova = list(map(str,lista_))\n",
    "listanuova"
   ]
  },
  {
   "cell_type": "code",
   "execution_count": null,
   "metadata": {},
   "outputs": [],
   "source": []
  }
 ],
 "metadata": {
  "kernelspec": {
   "display_name": "Python 3",
   "language": "python",
   "name": "python3"
  },
  "language_info": {
   "codemirror_mode": {
    "name": "ipython",
    "version": 3
   },
   "file_extension": ".py",
   "mimetype": "text/x-python",
   "name": "python",
   "nbconvert_exporter": "python",
   "pygments_lexer": "ipython3",
   "version": "3.13.2"
  }
 },
 "nbformat": 4,
 "nbformat_minor": 2
}
