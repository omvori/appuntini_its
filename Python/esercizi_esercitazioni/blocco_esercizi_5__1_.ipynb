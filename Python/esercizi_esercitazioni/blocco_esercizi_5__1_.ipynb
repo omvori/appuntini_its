{
 "cells": [
  {
   "cell_type": "code",
   "execution_count": 92,
   "metadata": {},
   "outputs": [
    {
     "name": "stdout",
     "output_type": "stream",
     "text": [
      "la lista ordinata in ordine crescente [7, 20, 29, 35, 97]\n",
      "la lista ordinata in ordine decrescente [97, 35, 29, 20, 7]\n"
     ]
    },
    {
     "data": {
      "text/plain": [
       "13783700"
      ]
     },
     "execution_count": 92,
     "metadata": {},
     "output_type": "execute_result"
    }
   ],
   "source": [
    "from functools import reduce\n",
    "my_numbers = [20,7,97,35,29]\n",
    "\n",
    "def moltipl(x,y):\n",
    "    return x*y\n",
    "\n",
    "\n",
    "def ordinala(x,ordine: bool = True):\n",
    "    x.sort()\n",
    "    print(f\"la lista ordinata in ordine crescente {x}\")\n",
    "    x.sort(reverse=ordine)\n",
    "    print(f\"la lista ordinata in ordine decrescente {x}\")\n",
    "\n",
    "    res = reduce(moltipl,x)\n",
    "    return res\n",
    "\n",
    "\n",
    "\n",
    "ordinala(my_numbers)\n"
   ]
  },
  {
   "cell_type": "code",
   "execution_count": 57,
   "metadata": {},
   "outputs": [
    {
     "data": {
      "text/plain": [
       "'àtivitta elled enoizatnocidner al iuc art ,esoc esrevid id apucco is otreblA'"
      ]
     },
     "execution_count": 57,
     "metadata": {},
     "output_type": "execute_result"
    }
   ],
   "source": [
    "#es 2\n",
    "\n",
    "my_string = \"Alberto si occupa di diverse cose, tra cui la rendicontazione delle attività\"\n",
    "\n",
    "def reverse_str( x : str):\n",
    "    f = x[::-1]\n",
    "\n",
    "    return f\n",
    "\n",
    "reverse_str(my_string)"
   ]
  },
  {
   "cell_type": "code",
   "execution_count": null,
   "metadata": {},
   "outputs": [
    {
     "name": "stdout",
     "output_type": "stream",
     "text": [
      "['casa', 'osso', 'radar', 'albero', 'forchetta', 'pallone', 'afa', 'mirtilli', 'vocabolario', 'ingegni', 'ottetto', 'tatto', 'penna', 'dvd', 'meteo', 'onorarono']\n",
      "Palindroma : osso\n",
      "Palindroma : radar\n",
      "Palindroma : afa\n",
      "Palindroma : ingegni\n",
      "Palindroma : ottetto\n",
      "Palindroma : dvd\n",
      "Palindroma : onorarono\n"
     ]
    }
   ],
   "source": [
    "#es 3\n",
    "words_in_list = ['casa', 'Osso', 'radar', 'albero', 'forchetta', 'pallone',\n",
    "                 'afa', 'mirtilli', 'vocabolario', 'INGEGNI', 'ottetto',\n",
    "                 'tatto', 'penna', 'DVD', 'meteo', \"Onorarono\"]\n",
    "\n",
    "\n",
    "def ispalindroma(x:list):\n",
    "    for i in range(len(x)):\n",
    "        x[i] = x[i].lower()\n",
    "    print(words_in_list)\n",
    "\n",
    "    for e in x:\n",
    "        if e == e[::-1]:\n",
    "            print(f\"Palindroma : {e}\")\n",
    "\n",
    "\n",
    "\n",
    "ispalindroma(words_in_list)\n"
   ]
  },
  {
   "cell_type": "code",
   "execution_count": 26,
   "metadata": {},
   "outputs": [
    {
     "name": "stdout",
     "output_type": "stream",
     "text": [
      "6.125\n"
     ]
    }
   ],
   "source": [
    "#es 4\n",
    "\n",
    "words_in_list = ['casa', 'Osso', 'radar', 'albero', 'forchetta', 'pallone',\n",
    "                 'afa', 'mirtilli', 'vocabolario', 'INGEGNI', 'ottetto',\n",
    "                 'tatto', 'penna', 'DVD', 'meteo', \"Onorarono\"]\n",
    "\n",
    "\n",
    "result = lambda p: sum(len(p) for p in words_in_list) /len(words_in_list)\n",
    "\n",
    "\n",
    "print(result(words_in_list))\n",
    "\n",
    "\n",
    "\n"
   ]
  },
  {
   "cell_type": "code",
   "execution_count": 42,
   "metadata": {},
   "outputs": [
    {
     "data": {
      "text/plain": [
       "({'index': 7}, {'item': 'ciao'})"
      ]
     },
     "execution_count": 42,
     "metadata": {},
     "output_type": "execute_result"
    }
   ],
   "source": [
    "#es 5\n",
    "\n",
    "items_in_list = ['scuola', 'corso', 'python', 3.4, 1, 'Roma', 'tiburtina', ('ciao'), {'a': 7.5}]\n",
    "\n",
    "def afunction(some_list:list , index_list:int,/,index = 'index', item = 'item'):\n",
    "    itemdict = {item : None}\n",
    "    indexdict = {index : None}\n",
    "    \n",
    "    indexdict = {index:index_list}\n",
    "    itemdict = {item:some_list[index_list]}\n",
    "\n",
    "    return indexdict, itemdict\n",
    "\n",
    "afunction(items_in_list,7)\n"
   ]
  },
  {
   "cell_type": "code",
   "execution_count": null,
   "metadata": {},
   "outputs": [
    {
     "data": {
      "text/plain": [
       "{'Manuela': 4, 'Simone': 3, 'Eleonora': 3, 'Samuele': 3}"
      ]
     },
     "execution_count": 44,
     "metadata": {},
     "output_type": "execute_result"
    }
   ],
   "source": [
    "#es 6\n",
    "\n",
    "italian_names = ['Manuela', 'Simone', 'Eleonora', 'Manuela', 'Manuela', 'Samuele', 'Simone', 'Andrea',\n",
    "                 'Eleonora', 'Carmine', 'Dario', 'Simone', 'Manuela', 'Andrea', 'Samuele', 'Samuele',\n",
    "                 'Dario', 'Eleonora', 'Carmine', 'Luciano']\n",
    "\n",
    "\n",
    "def italiancount(*,some_list)->dict:\n",
    "    newsdict = {}\n",
    "\n",
    "    for e in some_list:\n",
    "        j = 0\n",
    "        for k in some_list:\n",
    "            if e == k:\n",
    "                j+=1\n",
    "            newsdict[e] = j\n",
    "            \n",
    "    dicttoprint = dict(filter(lambda x: x[1]>2,newsdict.items())) \n",
    "    \n",
    "    return dicttoprint\n",
    "\n",
    "italiancount(some_list=italian_names)\n",
    " "
   ]
  },
  {
   "cell_type": "code",
   "execution_count": 96,
   "metadata": {},
   "outputs": [
    {
     "data": {
      "text/plain": [
       "[6, 27, 33, 78, 111, 144]"
      ]
     },
     "execution_count": 96,
     "metadata": {},
     "output_type": "execute_result"
    }
   ],
   "source": [
    "#es 7\n",
    "some_numbers = [5, 7, 6, 29, 27, 33, 78, 95, 111, 144]\n",
    "\n",
    "def divby3(some_list:list):\n",
    "    \n",
    "    return list(filter(lambda x: x if x%3 == 0 else None,some_list))\n",
    "\n",
    "divby3(some_numbers)"
   ]
  },
  {
   "cell_type": "code",
   "execution_count": null,
   "metadata": {},
   "outputs": [
    {
     "data": {
      "text/plain": [
       "['ASAC',\n",
       " 'OSSO',\n",
       " 'RADAR',\n",
       " 'OREBLA',\n",
       " 'ATTEHCROF',\n",
       " 'ENOLLAP',\n",
       " 'AFA',\n",
       " 'ILLITRIM',\n",
       " 'OIRALOBACOV',\n",
       " 'INGEGNI',\n",
       " 'OTTETTO',\n",
       " 'OTTAT',\n",
       " 'ANNEP',\n",
       " 'DVD',\n",
       " 'OETEM',\n",
       " 'ONORARONO']"
      ]
     },
     "execution_count": 107,
     "metadata": {},
     "output_type": "execute_result"
    }
   ],
   "source": [
    "#es 8\n",
    "words_in_list = ['casa', 'Osso', 'radar', 'albero', 'forchetta', 'pallone',\n",
    "                 'afa', 'mirtilli', 'vocabolario', 'INGEGNI', 'ottetto',\n",
    "                 'tatto', 'penna', 'DVD', 'meteo', \"Onorarono\"]\n",
    "\n",
    "def maiuscreverse(some_list:list):\n",
    "    maiusc = list(map(lambda x : x.upper(),some_list))\n",
    "    \n",
    "    return list(map(lambda x : x[::-1],maiusc))\n",
    "    \n",
    "maiuscreverse(words_in_list)"
   ]
  },
  {
   "cell_type": "code",
   "execution_count": 3,
   "metadata": {},
   "outputs": [
    {
     "data": {
      "text/plain": [
       "(8, 125, 343, 512, 729, 1000)"
      ]
     },
     "execution_count": 3,
     "metadata": {},
     "output_type": "execute_result"
    }
   ],
   "source": [
    "#es 9\n",
    "numbers_tuple = (2, 5, 7, 'ciao', 8, 9, 'programmo', 'in', 10, 'python')\n",
    "\n",
    "def cub(some_tuple:tuple)->tuple:\n",
    "    filteredtuple = tuple(filter(lambda x : type(x)==int,some_tuple))\n",
    "\n",
    "    return tuple(map(lambda x : x**3,filteredtuple ))\n",
    "\n",
    "cub(numbers_tuple)\n"
   ]
  },
  {
   "cell_type": "code",
   "execution_count": 58,
   "metadata": {},
   "outputs": [
    {
     "data": {
      "text/plain": [
       "{'nome': 'nicolo',\n",
       " 'cognome': 'perpignani',\n",
       " 'età': 21,\n",
       " 'luogo_nascita': '29/04/2004',\n",
       " 'data_nascita': 'Roma',\n",
       " 'Hobby': 'videogiochi',\n",
       " 'Musica_preferita': 'Rap'}"
      ]
     },
     "execution_count": 58,
     "metadata": {},
     "output_type": "execute_result"
    }
   ],
   "source": [
    "#es 10\n",
    "\n",
    "def afunction(nome ,cognome:str,età, data_nascita,luogo_nascita= None,*args,**kwargs)->dict: \n",
    "    idcard = {\n",
    "        'nome' : nome,\n",
    "        'cognome' : cognome,\n",
    "        'età': età,\n",
    "        'luogo_nascita' : luogo_nascita,\n",
    "        'data_nascita' : data_nascita\n",
    "\n",
    "    }\n",
    "    if args:\n",
    "        idcard.update(args)\n",
    "\n",
    "    if kwargs:\n",
    "        idcard.update(kwargs)    \n",
    "\n",
    "    return idcard\n",
    "\n",
    "\n",
    "\n",
    "afunction(\"nicolo\",\"perpignani\",21,\"Roma\",\"29/04/2004\",Hobby = \"videogiochi\",Musica_preferita = \"Rap\")\n",
    "\n",
    "\n",
    "\n",
    "\n",
    "\n"
   ]
  },
  {
   "cell_type": "code",
   "execution_count": null,
   "metadata": {},
   "outputs": [
    {
     "data": {
      "text/plain": [
       "['Simone', 'Samuele', 'Manuela', 'Luciano', 'Eleonora', 'Dario', 'Carmine', 'Andrea']\n"
      ]
     },
     "metadata": {},
     "output_type": "display_data"
    }
   ],
   "source": [
    "#es 11\n",
    "italian_names = ['Manuela', 'Simone', 'Eleonora', 'Manuela', 'Manuela', 'Samuele', 'Simone', 'Andrea',\n",
    "                 'Eleonora', 'Carmine', 'Dario', 'Simone', 'Manuela', 'Andrea', 'Samuele', 'Samuele',\n",
    "                 'Dario', 'Eleonora', 'Carmine', 'Luciano']\n",
    "\n",
    "\n",
    "def alfarev(some_list):\n",
    "\n",
    "    return list(sorted(set(some_list),reverse=True))\n",
    "\n",
    "print(alfarev(italian_names))"
   ]
  },
  {
   "cell_type": "code",
   "execution_count": null,
   "metadata": {},
   "outputs": [
    {
     "data": {
      "text/plain": [
       "['Barcellona', 'Londra', 'Parigi', 'Roma']\n"
      ]
     },
     "metadata": {},
     "output_type": "display_data"
    }
   ],
   "source": [
    "#es 12 \n",
    "\n",
    "cities_1 = ['Roma', 'Milano', 'Parigi', 'Londra', 'Marsiglia', 'Francoforte', 'Berlino', 'Barcellona', 'Madrid',\n",
    "            'Lisbona', 'Varsavia', 'Budapest']\n",
    "\n",
    "cities_2 = ['Copenhagen', 'Oslo', 'parigi', 'londra', 'Roma', 'Siviglia', 'valencia', 'barcellona']\n",
    "\n",
    "\n",
    "def no_repeat_city(lista1,lista2):\n",
    "    \n",
    "    fcity = set(map(lambda x : x.capitalize(),lista1))\n",
    "    scity = set(map(lambda x : x.capitalize(),lista2))\n",
    "\n",
    "    unioncity = sorted(fcity.intersection(scity))\n",
    "\n",
    "    return unioncity\n",
    "\n",
    "print(no_repeat_city(cities_1,cities_2))\n",
    "\n",
    "        \n",
    "    \n",
    "\n"
   ]
  },
  {
   "cell_type": "code",
   "execution_count": 88,
   "metadata": {},
   "outputs": [
    {
     "data": {
      "text/plain": [
       "9.0"
      ]
     },
     "execution_count": 88,
     "metadata": {},
     "output_type": "execute_result"
    }
   ],
   "source": [
    "#es 19\n",
    "\n",
    "def calcola_prezzo_finale(og_price : float, promo_code:bool, fixed_discount = 10.0):\n",
    "    \n",
    "    sconto = (og_price*fixed_discount)/100\n",
    "\n",
    "    if promo_code:\n",
    "        \n",
    "        fixed_discount+=5\n",
    "        sconto = (og_price*fixed_discount)/100\n",
    "        fprice = og_price - sconto\n",
    "\n",
    "        return fprice \n",
    "    else:\n",
    "        fprice = og_price - sconto\n",
    "        return fprice\n",
    "    \n",
    "calcola_prezzo_finale(og_price=10.0,promo_code=False)\n",
    "\n"
   ]
  },
  {
   "cell_type": "code",
   "execution_count": null,
   "metadata": {},
   "outputs": [
    {
     "data": {
      "text/plain": [
       "[5, 7, 29]\n"
      ]
     },
     "metadata": {},
     "output_type": "display_data"
    }
   ],
   "source": [
    "#es 13\n",
    "some_numbers = [5, 7, 6, 29, 27, 33, 78, 95, 111, 144]\n",
    "\n",
    "def isprime(numb_list):\n",
    "    prime = True\n",
    "    primelist = []\n",
    "    \n",
    "    for num in numb_list:\n",
    "        prime = True\n",
    "\n",
    "        for i in range(2,num):\n",
    "            if num % i == 0:\n",
    "              prime = False\n",
    "              break\n",
    "            \n",
    "        if prime:\n",
    "            primelist.append(num)\n",
    "\n",
    "    return primelist\n",
    "\n",
    "print(isprime(some_numbers))\n",
    "\n",
    "\n"
   ]
  },
  {
   "cell_type": "code",
   "execution_count": null,
   "metadata": {},
   "outputs": [],
   "source": []
  }
 ],
 "metadata": {
  "kernelspec": {
   "display_name": "Python 3",
   "language": "python",
   "name": "python3"
  },
  "language_info": {
   "codemirror_mode": {
    "name": "ipython",
    "version": 3
   },
   "file_extension": ".py",
   "mimetype": "text/x-python",
   "name": "python",
   "nbconvert_exporter": "python",
   "pygments_lexer": "ipython3",
   "version": "3.13.2"
  }
 },
 "nbformat": 4,
 "nbformat_minor": 2
}
