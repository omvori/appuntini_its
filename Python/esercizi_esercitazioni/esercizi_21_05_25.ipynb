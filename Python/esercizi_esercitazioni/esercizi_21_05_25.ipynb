{
 "cells": [
  {
   "cell_type": "code",
   "execution_count": 29,
   "id": "00475071",
   "metadata": {},
   "outputs": [
    {
     "name": "stdout",
     "output_type": "stream",
     "text": [
      "[82, 17, 49, 69, 28, 63, 93, 81, 26, 51]\n",
      "[82, 17, 49]\n",
      "[51, 26]\n",
      "[17, 69, 63, 81, 51]\n"
     ]
    }
   ],
   "source": [
    "#1\n",
    "import random\n",
    "emptylist = []\n",
    "\n",
    "for n in range(10):\n",
    "    randomsnumer = random.randint(1,100)\n",
    "    emptylist.append(randomsnumer)\n",
    "\n",
    "\n",
    "print(emptylist)\n",
    "\n",
    "#1.1\n",
    "\n",
    "print(emptylist[:3])\n",
    "\n",
    "print(emptylist[:-3:-1])\n",
    "\n",
    "print(emptylist[1::2])\n",
    "\n",
    "\n",
    "b = len(emptylist)\n",
    "\n"
   ]
  },
  {
   "cell_type": "code",
   "execution_count": 70,
   "id": "6fe527c1",
   "metadata": {},
   "outputs": [
    {
     "name": "stdout",
     "output_type": "stream",
     "text": [
      "{0: 82, 1: 17, 2: 49, 3: 69, 4: 28, 5: 63, 6: 93, 7: 81, 8: 26, 9: 51}\n",
      "93\n",
      "17\n",
      "76\n",
      "[82, 28, 26]\n",
      "59696\n"
     ]
    }
   ],
   "source": [
    "#2\n",
    "\n",
    "set(emptylist)\n",
    "tuple(emptylist)\n",
    "\n",
    "dizio = {}\n",
    "\n",
    "for n,e in enumerate(emptylist):\n",
    "    dizio.update({n:e})\n",
    "    \n",
    "\n",
    "\n",
    "print(dizio)\n",
    "    \n",
    "#3\n",
    "\n",
    "sorted(emptylist)\n",
    "sorted(emptylist, reverse=True)\n",
    "\n",
    "print(max(emptylist))\n",
    "print(min(emptylist))\n",
    "\n",
    "a = max(emptylist)\n",
    "b = min(emptylist)\n",
    "print(a-b)\n",
    "\n",
    "lista_pari = []\n",
    "\n",
    "for x in emptylist:\n",
    "    if x % 2 == 0:\n",
    "        lista_pari.append(x)\n",
    "        \n",
    "print(lista_pari)\n",
    "########################\n",
    "\n",
    "product = 1\n",
    "\n",
    "for e in lista_pari:\n",
    "    product = e*product\n",
    "\n",
    "\n",
    "print(product)\n",
    "\n"
   ]
  },
  {
   "cell_type": "code",
   "execution_count": null,
   "id": "fb9403b2",
   "metadata": {},
   "outputs": [],
   "source": []
  },
  {
   "cell_type": "code",
   "execution_count": null,
   "id": "64a01580",
   "metadata": {},
   "outputs": [],
   "source": []
  },
  {
   "cell_type": "code",
   "execution_count": null,
   "id": "deaf2d61",
   "metadata": {},
   "outputs": [],
   "source": []
  }
 ],
 "metadata": {
  "kernelspec": {
   "display_name": "datascience",
   "language": "python",
   "name": "python3"
  },
  "language_info": {
   "codemirror_mode": {
    "name": "ipython",
    "version": 3
   },
   "file_extension": ".py",
   "mimetype": "text/x-python",
   "name": "python",
   "nbconvert_exporter": "python",
   "pygments_lexer": "ipython3",
   "version": "3.13.2"
  }
 },
 "nbformat": 4,
 "nbformat_minor": 5
}
