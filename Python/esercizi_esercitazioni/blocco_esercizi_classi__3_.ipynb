{
 "cells": [
  {
   "cell_type": "code",
   "execution_count": 34,
   "metadata": {},
   "outputs": [
    {
     "name": "stdout",
     "output_type": "stream",
     "text": [
      "Nicolo\n",
      "succhiacazzi\n"
     ]
    }
   ],
   "source": [
    "#es 1 \n",
    "\n",
    "\n",
    "class Lavoratore:\n",
    "    def __init__(self,nome,cognome,professione,ag_name):\n",
    "        self.nome = nome\n",
    "        self.cognome = cognome\n",
    "        self.professione = professione\n",
    "        self.ag_name = ag_name\n",
    "\n",
    "    def ag_change(self):\n",
    "        self.ag_name = input()\n",
    "        \n",
    "\n",
    "        return f\"la sua nuova azienda è {self.ag_name}\"\n",
    "    \n",
    "    def profchange(self):\n",
    "        self.ag_name = input()\n",
    "\n",
    "        return f\"la sua nuova azienda è {self.professione}\"\n",
    "\n",
    "\n",
    "        \n",
    "        \n",
    "    \n",
    "\n",
    "\n",
    "\n",
    "\n",
    "dipendente1 = Lavoratore(\"Nicolo\",\"Perpignans\",\"Cacciatore\",\"Pisellomany\")\n",
    "\n",
    "print(dipendente1.nome)\n",
    "\n",
    "dipendente1.profchange()\n",
    "print(dipendente1.ag_name)\n",
    "\n",
    "\n",
    "\n"
   ]
  },
  {
   "cell_type": "code",
   "execution_count": null,
   "metadata": {},
   "outputs": [
    {
     "data": {
      "text/plain": [
       "{'titolo': 'M il figlio del secolo',\n",
       " 'autore': 'Antonio Scurati',\n",
       " 'anno di pubblicazione': '2018',\n",
       " 'disponibilità': False}"
      ]
     },
     "execution_count": 51,
     "metadata": {},
     "output_type": "execute_result"
    }
   ],
   "source": [
    "#es 2\n",
    "\n",
    "class Libro :\n",
    "    def __init__(self,titolo : str, autore : str, anno_pubblicazione : str, disponibile : None):\n",
    "\n",
    "        self.titolo = titolo\n",
    "        self.autore = autore\n",
    "        self.anno_pubblicazione = anno_pubblicazione\n",
    "        self.disponibile = None\n",
    "\n",
    "    def inizio_prestito(self):\n",
    "        self.disponibile = False\n",
    "\n",
    "        return f\"il libro {self.titolo} non è disponibile\"\n",
    "\n",
    "    def fine_prestito(self):\n",
    "        self.disponibile = True\n",
    "\n",
    "        return f\"il libro {self.titolo} non è disponibile\"\n",
    "    \n",
    "    def __info(self):\n",
    "        return {\"titolo\" : self.titolo,\n",
    "                \"autore\" : self.autore,\n",
    "                \"anno di pubblicazione\" : self.anno_pubblicazione,\n",
    "                \"disponibilità\":self.disponibile}\n",
    "\n",
    "    def __str__(self):\n",
    "        return str(self.__info)w\n",
    "    \n",
    "    def summary(self):\n",
    "        return self.__info()\n",
    "    \n",
    "    \n",
    "\n",
    "newinsert = Libro(\"M il figlio del secolo\",\"Antonio Scurati\",\"2018\",True)\n",
    "\n",
    "newinsert.inizio_prestito()\n",
    "newinsert.summary()\n"
   ]
  },
  {
   "cell_type": "code",
   "execution_count": 50,
   "metadata": {},
   "outputs": [
    {
     "data": {
      "text/plain": [
       "{'titolo': 'M il figlio del secolo',\n",
       " 'autore': 'Antonio Scurati',\n",
       " 'anno di pubblicazione': '2018',\n",
       " 'disponibilità': True}"
      ]
     },
     "execution_count": 50,
     "metadata": {},
     "output_type": "execute_result"
    }
   ],
   "source": [
    "newinsert.fine_prestito()\n",
    "newinsert.summary()"
   ]
  },
  {
   "cell_type": "code",
   "execution_count": null,
   "metadata": {},
   "outputs": [
    {
     "data": {
      "text/plain": [
       "{'Cersosimo': {'nome': 'Andrea', 'cognome': 'Cersosimo', 'orario': 12, 'numero persone': 3}}\n",
       "Successfuly deleted Cersosimo booking\n",
       "{'Cersosimo': {'nome': 'Andrea', 'cognome': 'Cersosimo', 'orario': 12, 'numero persone': 3}}\n"
      ]
     },
     "metadata": {},
     "output_type": "display_data"
    }
   ],
   "source": [
    "class Prenotazione:\n",
    "    def __init__(self,nome,cognome,orario : float,num_persone:int):\n",
    "        self.nome = nome\n",
    "        self.cognome = cognome\n",
    "        self.orario = orario\n",
    "        self.num_persone = num_persone\n",
    "        \n",
    "\n",
    "    def isok(self):\n",
    "        if ((int(self.orario) in range(12,16)) or (int(self.orario) in range(19,25))) and (1<= self.num_persone <= 8):\n",
    "            self.quad_prenotazioni = {self.cognome : \n",
    "                                      {\"nome\":self.nome,\n",
    "                                      \"cognome\":self.cognome,\n",
    "                                      \"orario\":self.orario,\n",
    "                                      \"numero persone\": self.num_persone}}\n",
    "            return print(self.quad_prenotazioni) \n",
    "        else:\n",
    "            return print(\"Prenotazione non valida \\n, ricordi che siamo aperti dalle 12 alle 15 e dalle 19 alle 24\\n intoltre accettiamo solo tavoli da max 8 persone \")\n",
    "        \n",
    "    def removebooking(self,cognome):\n",
    "        if cognome in self.quad_prenotazioni:\n",
    "            del self.quad_prenotazioni[cognome]\n",
    "            return print(f\"Successfuly deleted {cognome} booking\")\n",
    "    \n",
    "    def modbooking(self,cognome,newtime,newperson):\n",
    "        if cognome in self.quad_prenotazioni:\n",
    "            self.quad_prenotazioni[cognome][\"orario\"] = newtime\n",
    "            self.quad_prenotazioni[cognome][\"numero persone\"] = newperson \n",
    "            return self.quad_prenotazioni\n",
    "\n",
    "\n",
    "            \n",
    "\n",
    "\n",
    "\n",
    "\n",
    "\n",
    "newcl = Prenotazione(\"Andrea\",\"Cersosimo\",12,3)\n",
    "\n",
    "newcl.isok()\n",
    "\n",
    "newcl.removebooking(\"Cersosimo\")\n",
    "newcl.modbooking(\"Cersosimo\",13,4)\n",
    "newcl.isok()\n",
    "\n"
   ]
  },
  {
   "cell_type": "code",
   "execution_count": null,
   "metadata": {},
   "outputs": [],
   "source": []
  }
 ],
 "metadata": {
  "kernelspec": {
   "display_name": "Python 3",
   "language": "python",
   "name": "python3"
  },
  "language_info": {
   "codemirror_mode": {
    "name": "ipython",
    "version": 3
   },
   "file_extension": ".py",
   "mimetype": "text/x-python",
   "name": "python",
   "nbconvert_exporter": "python",
   "pygments_lexer": "ipython3",
   "version": "3.13.2"
  }
 },
 "nbformat": 4,
 "nbformat_minor": 2
}
