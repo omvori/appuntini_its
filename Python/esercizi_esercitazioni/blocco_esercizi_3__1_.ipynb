{
 "cells": [
  {
   "cell_type": "code",
   "execution_count": null,
   "metadata": {},
   "outputs": [
    {
     "name": "stdout",
     "output_type": "stream",
     "text": [
      "[5, 2, 3, 4, 1]\n"
     ]
    }
   ],
   "source": [
    "x = [1,2,3,4,5]\n",
    "y = x[0]\n",
    "x[0] = x[-1]\n",
    "x[-1] = y\n",
    "\n",
    "print(x)"
   ]
  },
  {
   "cell_type": "code",
   "execution_count": null,
   "metadata": {},
   "outputs": [
    {
     "name": "stdout",
     "output_type": "stream",
     "text": [
      "30.0\n",
      "150\n"
     ]
    }
   ],
   "source": [
    "a = [10,20,30,40,50]\n",
    "somma = sum(a)\n",
    "b = len(a)\n",
    "\n",
    "print(somma/b)\n"
   ]
  },
  {
   "cell_type": "code",
   "execution_count": null,
   "metadata": {},
   "outputs": [
    {
     "name": "stdout",
     "output_type": "stream",
     "text": [
      "[3, 4, 5, 6, 10, 20, 30, 40, 50, 7777]\n",
      "50\n"
     ]
    }
   ],
   "source": [
    "a = [10,20,30,40,50,3,5,6,7777,4]\n",
    "y = sorted(a)\n",
    "print(y)\n",
    "print(y[-2])\n"
   ]
  },
  {
   "cell_type": "code",
   "execution_count": null,
   "metadata": {},
   "outputs": [
    {
     "data": {
      "text/plain": [
       "'orco odio sportivo'"
      ]
     },
     "execution_count": 37,
     "metadata": {},
     "output_type": "execute_result"
    }
   ],
   "source": [
    "f = [\"orco\",\"odio\",\"sportivo\"]\n",
    "\n",
    "\" \".join(f)\n"
   ]
  },
  {
   "cell_type": "code",
   "execution_count": null,
   "metadata": {},
   "outputs": [
    {
     "name": "stdout",
     "output_type": "stream",
     "text": [
      "osdptoIScdm\n"
     ]
    }
   ],
   "source": [
    "a = \"Corso di python ITS Academy\"\n",
    "\n",
    "b = a.replace(\" \",\"\")\n",
    "\n",
    "print(b[1::2])\n",
    "\n",
    "\n"
   ]
  },
  {
   "cell_type": "code",
   "execution_count": null,
   "metadata": {},
   "outputs": [
    {
     "data": {
      "text/plain": [
       "[9, 6, 3]\n",
       "[3, 6, 9]\n"
      ]
     },
     "metadata": {},
     "output_type": "display_data"
    }
   ],
   "source": [
    "a = [1,2,3,4,5,6,7,8,9,10]\n",
    "\n",
    "print(a[::-1][1::3])\n",
    "print(a[2::3])\n"
   ]
  },
  {
   "cell_type": "code",
   "execution_count": null,
   "metadata": {},
   "outputs": [
    {
     "data": {
      "text/plain": [
       "[1, 2, 3, 4, 5]\n",
       "[6, 7, 8, 9, 10]\n"
      ]
     },
     "metadata": {},
     "output_type": "display_data"
    }
   ],
   "source": [
    "#8.2\n",
    "a = [1,2,3,4,5,6,7,8,9,10]\n",
    "print(a[0:5]) \n",
    "print(a[5:11])"
   ]
  },
  {
   "cell_type": "code",
   "execution_count": null,
   "metadata": {},
   "outputs": [
    {
     "data": {
      "text/plain": [
       "[1, 2, 3, 4, 5, 6]\n"
      ]
     },
     "metadata": {},
     "output_type": "display_data"
    }
   ],
   "source": [
    "#8.3\n",
    "a = [1,3,5]\n",
    "b = [2,4,6]\n",
    "\n",
    "print(sorted(a+b))\n"
   ]
  },
  {
   "cell_type": "code",
   "execution_count": null,
   "metadata": {},
   "outputs": [
    {
     "data": {
      "text/plain": [
       "[2, 3, 4, 5, 6, 7, 8, 9]\n"
      ]
     },
     "metadata": {},
     "output_type": "display_data"
    }
   ],
   "source": [
    "#8.4\n",
    "\n",
    "l = [1,2,3,4,5,6,7,8,9,10]\n",
    "\n",
    "m = l[1:-1:]\n",
    "\n",
    "print(m)"
   ]
  },
  {
   "cell_type": "code",
   "execution_count": null,
   "metadata": {},
   "outputs": [
    {
     "data": {
      "text/plain": [
       "[[1, 2, 3], [4, 5, 6], [7, 8]]\n",
       "3\n",
       "5\n",
       "7\n",
       "[[4, 5, 6], [7, 8, 9], [4, 5, 6]]\n"
      ]
     },
     "metadata": {},
     "output_type": "display_data"
    }
   ],
   "source": [
    "#8.7\n",
    "\n",
    "l = [[1,2,3],\n",
    "     [4,5,6],\n",
    "     [7,8,9]]\n",
    "\n",
    "#l.remove(l[-1])\n",
    "l[-1].pop()\n",
    "\n",
    "print(l)\n",
    "\n",
    "l = [[1,2,3],\n",
    "     [4,5,6],\n",
    "     [7,8,9]]\n",
    "\n",
    "print(l[0][2])\n",
    "print(l[1][1])\n",
    "print(l[2][0])\n",
    "\n",
    "#8.8\n",
    "l = [[1,2,3],\n",
    "     [4,5,6],\n",
    "     [7,8,9]]\n",
    "\n",
    "for e in l:\n",
    "    m = l[0::-1]\n",
    "    m.pop()\n",
    "    n = l[1::-1]\n",
    "    n.pop()\n",
    "    o = l[2::-1]\n",
    "    o.pop()\n",
    "\n",
    "    p = m+n+o\n",
    "\n",
    "print(p)\n",
    "\n",
    "#8.9\n",
    "    \n",
    "\n"
   ]
  },
  {
   "cell_type": "code",
   "execution_count": null,
   "metadata": {},
   "outputs": [
    {
     "name": "stdout",
     "output_type": "stream",
     "text": [
      "{'a': 1, 'b': 2, 'c': 3}\n",
      "dict_items([('a', 1), ('b', 2), ('c', 3)])\n"
     ]
    }
   ],
   "source": [
    "#Dizionari \n",
    "\n",
    "#1\n",
    "\n",
    "keys = [\"a\",\"b\",\"c\"]\n",
    "values = [1,2,3]\n",
    "\n",
    "a = dict(zip(keys,values))\n",
    "\n",
    "print(a)\n",
    "\n",
    "print(a.items())\n"
   ]
  },
  {
   "cell_type": "code",
   "execution_count": null,
   "metadata": {},
   "outputs": [
    {
     "name": "stdout",
     "output_type": "stream",
     "text": [
      "dict_items([('x', 10), ('y', 20), ('z', 30)])\n",
      "30\n"
     ]
    }
   ],
   "source": [
    "#2\n",
    "d = {\"x\": 10, \"y\" : 20}\n",
    "\n",
    "d [\"z\"] = 30\n",
    "\n",
    "print(d.items())\n",
    "\n",
    "print(d[\"z\"])\n",
    "\n"
   ]
  },
  {
   "cell_type": "code",
   "execution_count": null,
   "metadata": {},
   "outputs": [],
   "source": [
    "#3\n",
    "dict1 = {'Ten': 10, 'Twenty': 20, 'Thirty': 30} \n",
    "dict2 = {'Thirty': 30, 'Fourty': 40, 'Fifty': 50}\n",
    "\n",
    "dict3 = {**dict1,**dict2}\n"
   ]
  },
  {
   "cell_type": "code",
   "execution_count": null,
   "metadata": {},
   "outputs": [
    {
     "name": "stdout",
     "output_type": "stream",
     "text": [
      "z non esiste brutto down\n",
      "dict_items([('x', 15), ('y', 20)])\n"
     ]
    }
   ],
   "source": [
    "d = {\"x\" : 10, \"y\" : 20 }\n",
    "\n",
    "if d.get(\"z\") != None:\n",
    "    d[\"z\"] += 5\n",
    "else:\n",
    "    print(\"z non esiste brutto down\")\n",
    "\n",
    "\n",
    "if d.get(\"x\") != None:\n",
    "    d[\"x\"] += 5\n",
    "\n",
    "print(d.items())\n"
   ]
  },
  {
   "cell_type": "code",
   "execution_count": null,
   "metadata": {},
   "outputs": [
    {
     "name": "stdout",
     "output_type": "stream",
     "text": [
      "C non esiste\n"
     ]
    }
   ],
   "source": [
    "#5\n",
    "\n",
    "d = {\"a\":1,\"b\":2}\n",
    "\n",
    "if d.get(\"c\") != None:\n",
    "    d.pop(\"c\")\n",
    "else:\n",
    "    print(\"C non esiste\")"
   ]
  },
  {
   "cell_type": "code",
   "execution_count": null,
   "metadata": {},
   "outputs": [
    {
     "name": "stdout",
     "output_type": "stream",
     "text": [
      "6.5\n",
      "Il voto più alto è : Mat ,quello più piccolo è Lat \n"
     ]
    }
   ],
   "source": [
    "#6\n",
    "\n",
    "sample_dict = {'Ita': 8, 'Mat': 9, 'Sto': 6, 'Chem': 5, 'Fil': 7, 'Lat': 4}\n",
    "\n",
    "somma = sum(sample_dict.values())\n",
    "a = len(sample_dict.keys()) \n",
    "media = somma/a\n",
    "\n",
    "print(media)\n",
    "\n",
    "ngrande = max(sample_dict,key = sample_dict.get)\n",
    "npiccolo = min(sample_dict,key = sample_dict.get)\n",
    "\n",
    "print(f\"Il voto più alto è : {ngrande} ,quello più piccolo è {npiccolo} \")\n"
   ]
  },
  {
   "cell_type": "code",
   "execution_count": null,
   "metadata": {},
   "outputs": [
    {
     "name": "stdout",
     "output_type": "stream",
     "text": [
      "dict_items([('name', 'Kelly'), ('age', 25), ('salary', 8000), ('location', 'New york')])\n"
     ]
    }
   ],
   "source": [
    "#7\n",
    "\n",
    "sample_dict = {\"name\": \"Kelly\", \"age\":25, \"salary\": 8000, \"city\": \"New york\"}\n",
    "\n",
    "sample_dict[\"location\"] = sample_dict.pop(\"city\")\n",
    "\n",
    "print(sample_dict.items())"
   ]
  },
  {
   "cell_type": "code",
   "execution_count": null,
   "metadata": {},
   "outputs": [
    {
     "data": {
      "text/plain": [
       "dict_items([('one', 11), ('two', 22), ('three', 33), ('four', 44), ('five', 55)])\n"
      ]
     },
     "metadata": {},
     "output_type": "display_data"
    }
   ],
   "source": [
    "#8\n",
    "d1 = {\"one\":11, \"two\":22, \"three\":33, \"four\":44, \"five\":55}\n",
    "\n",
    "print(d1.items())\n"
   ]
  },
  {
   "cell_type": "code",
   "execution_count": null,
   "metadata": {},
   "outputs": [
    {
     "data": {
      "text/plain": [
       "{1, 2, 3, 4, 5}\n"
      ]
     },
     "metadata": {},
     "output_type": "display_data"
    }
   ],
   "source": [
    "#Esercizi Set\n",
    "\n",
    "#1\n",
    "\n",
    "s1 = {1,2,3}\n",
    "s2 = {3,4,5}\n",
    "\n",
    "s1.update(s2)\n",
    "\n",
    "print(s1)\n",
    "\n",
    "\n",
    "\n"
   ]
  },
  {
   "cell_type": "code",
   "execution_count": null,
   "metadata": {},
   "outputs": [
    {
     "data": {
      "text/plain": [
       "{3}\n"
      ]
     },
     "metadata": {},
     "output_type": "display_data"
    }
   ],
   "source": [
    "#2\n",
    "\n",
    "s1 = {1,2,3}\n",
    "s2 = {3,4,5}\n",
    "\n",
    "s3 = s1&s2\n",
    "\n",
    "print(s3)\n"
   ]
  },
  {
   "cell_type": "code",
   "execution_count": null,
   "metadata": {},
   "outputs": [
    {
     "data": {
      "text/plain": [
       "{3, 5}\n"
      ]
     },
     "metadata": {},
     "output_type": "display_data"
    }
   ],
   "source": [
    "#3\n",
    "\n",
    "s1 = {1,2,3,5,7}\n",
    "s2 = {3,4,5}\n",
    "\n",
    "s3 = set(s1&s2)\n",
    "\n",
    "print(s3)"
   ]
  },
  {
   "cell_type": "code",
   "execution_count": null,
   "metadata": {},
   "outputs": [
    {
     "data": {
      "text/plain": [
       "[1, 2, 4, 5]\n",
       "[1, 2] []\n"
      ]
     },
     "metadata": {},
     "output_type": "display_data"
    }
   ],
   "source": [
    "#4\n",
    "\n",
    "s1 = {1,2,3}\n",
    "s2 = {3,4,5}\n",
    "s3 = []\n",
    "\n",
    "for e in s1:\n",
    "    if e in s1 and e not in s2:\n",
    "        s3.append(e)\n",
    "    elif e in s2 and e not in s1:\n",
    "        s3.append(e)\n",
    "\n",
    "for e in s2:\n",
    "    if e in s1 and e not in s2:\n",
    "        s3.append(e)\n",
    "    elif e in s2 and e not in s1:\n",
    "        s3.append(e)\n",
    "\n",
    "\n",
    "print(s3)\n",
    "\n",
    "\n"
   ]
  },
  {
   "cell_type": "code",
   "execution_count": null,
   "metadata": {},
   "outputs": [
    {
     "data": {
      "text/plain": [
       "[1, 2] [4, 5]\n"
      ]
     },
     "metadata": {},
     "output_type": "display_data"
    }
   ],
   "source": [
    "#4 (parte 2)\n",
    "\n",
    "s1 = {1,2,3}\n",
    "s2 = {3,4,5}\n",
    "\n",
    "diff1 = []\n",
    "diff2 = []\n",
    "\n",
    "for e in s1:\n",
    "    if e in s1 and e not in s2:\n",
    "        diff1.append(e)\n",
    "\n",
    "for e in s2:\n",
    "    if e in s2 and e not in s1:\n",
    "        diff2.append(e)\n",
    "\n",
    "\n",
    "print(diff1,diff2)"
   ]
  },
  {
   "cell_type": "code",
   "execution_count": null,
   "metadata": {},
   "outputs": [
    {
     "data": {
      "text/plain": [
       "False\n"
      ]
     },
     "metadata": {},
     "output_type": "display_data"
    }
   ],
   "source": [
    "#5\n",
    "s1 = {1,2}\n",
    "s2 = {1,2,3,4}\n",
    "\n",
    "print(s1 in s2)\n",
    "if s1 in s2:\n",
    "    print(f\"{s1} è un sottoinsieme di {s2}\")\n",
    "\n",
    "\n",
    "\n",
    "        "
   ]
  },
  {
   "cell_type": "code",
   "execution_count": null,
   "metadata": {},
   "outputs": [
    {
     "data": {
      "text/plain": [
       "{1, 2, 3}\n"
      ]
     },
     "metadata": {},
     "output_type": "display_data"
    }
   ],
   "source": [
    "#6\n",
    "\n",
    "sets = {1,2,3}\n",
    "\n",
    "target = {2,3,1}\n",
    "\n",
    "print(sets & target)\n",
    "\n",
    "\n"
   ]
  },
  {
   "cell_type": "code",
   "execution_count": null,
   "metadata": {},
   "outputs": [
    {
     "data": {
      "text/plain": [
       "['Roma', 'Milano', 'Napoli', 'Torino']\n",
       "((101, 'Roma', (41.9028, 12.4964)), (102, 'Milano', (45.4642, 9.19)), (103, 'Napoli', (40.8518, 14.2681)), (104, 'Torino', (45.0703, 7.6869)))\n"
      ]
     },
     "metadata": {},
     "output_type": "display_data"
    }
   ],
   "source": [
    "#tuple \n",
    "\n",
    "#1.1\n",
    "\n",
    "dati = (\n",
    "        (101, \"Roma\", (41.9028, 12.4964)),\n",
    "        (102, \"Milano\", (45.4642, 9.1900)),\n",
    "        (103, \"Napoli\", (40.8518, 14.2681)),\n",
    "        (104, \"Torino\", (45.0703, 7.6869))\n",
    ")\n",
    "\n",
    "cities = []\n",
    "\n",
    "for e in dati:\n",
    "    cities.append(e[1])\n",
    "\n",
    "print(cities)\n",
    "\n",
    "#1.2\n",
    "coords = []\n",
    "\n",
    "for e in dati:\n",
    "    coords.append(e[-1])\n",
    "\n",
    "#print(coords)\n",
    "\n",
    "#1.3 \n",
    "\n"
   ]
  },
  {
   "cell_type": "code",
   "execution_count": null,
   "metadata": {},
   "outputs": [],
   "source": []
  }
 ],
 "metadata": {
  "kernelspec": {
   "display_name": "usr",
   "language": "python",
   "name": "python3"
  },
  "language_info": {
   "codemirror_mode": {
    "name": "ipython",
    "version": 3
   },
   "file_extension": ".py",
   "mimetype": "text/x-python",
   "name": "python",
   "nbconvert_exporter": "python",
   "pygments_lexer": "ipython3",
   "version": "3.12.3"
  }
 },
 "nbformat": 4,
 "nbformat_minor": 2
}
