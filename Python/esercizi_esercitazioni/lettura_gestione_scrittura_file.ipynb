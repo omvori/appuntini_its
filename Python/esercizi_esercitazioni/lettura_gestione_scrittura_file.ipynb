{
 "cells": [
  {
   "cell_type": "code",
   "execution_count": null,
   "metadata": {},
   "outputs": [],
   "source": []
  },
  {
   "cell_type": "code",
   "execution_count": 9,
   "metadata": {},
   "outputs": [
    {
     "name": "stdout",
     "output_type": "stream",
     "text": [
      "uel ramo del lago di Como, che volge a mezzogiorno, tra due\n",
      "catene non interrotte di monti, tutto a seni e a golfi, a seconda\n",
      "dello sporgere e del rientrare di quelli, vien, quasi a un tratto, a\n",
      "ristringersi, e a prender corso e figura di fiume, tra un\n",
      "promontorio a destra, e unâ€™ampia costiera dallâ€™altra parte; e il\n",
      "ponte, che ivi congiunge le due rive, par che renda ancor piÃ¹\n",
      "sensibile allâ€™occhio questa trasformazione, e segni il punto in cui\n",
      "il lago cessa, e lâ€™Adda rincomincia, per ripigliar poi nome di lago\n",
      "dove le rive, allontanandosi di nuovo, lascian lâ€™acqua distendersi e rallentarsi in\n",
      "nuovi golfi e in nuovi seni. La costiera, formata dal deposito di tre grossi torrenti,\n",
      "scende appoggiata a due monti contigui, lâ€™uno detto di san Martino, lâ€™altro, con\n",
      "voce lombarda, il Resegone, dai molti suoi cocuzzoli in fila, che in vero lo fanno\n",
      "somigliare a una sega: talchÃ¨ non Ã¨ chi, al primo vederlo, purchÃ¨ sia di fronte,\n",
      "come per esempio di su le mura di Milano che guardano a settentrione, non lo\n",
      "discerna tosto, a un tal contrassegno, in quella lunga e vasta giogaia, dagli altri\n",
      "monti di nome piÃ¹ oscuro e di forma piÃ¹ comune. Per un buon pezzo, la costa sale\n",
      "con un pendÃ¬o lento e continuo; poi si rompe in poggi e in valloncelli, in erte e in\n",
      "3\n",
      "ispianate, secondo lâ€™ossatura deâ€™ due monti, e il lavoro dellâ€™acque. Il lembo\n",
      "estremo, tagliato dalle foci deâ€™ torrenti, Ã¨ quasi tutto ghiaia e ciottoloni; il resto,\n",
      "campi e vigne, sparse di terre, di ville, di casali; in qualche parte boschi, che si\n",
      "prolungano su per la montagna. Lecco, la principale di quelle terre, e che dÃ  nome\n",
      "al territorio, giace poco discosto dal ponte, alla riva del lago, anzi viene in parte a\n",
      "trovarsi nel lago stesso, quando questo ingrossa: un gran borgo al giorno dâ€™oggi, e\n",
      "che sâ€™incammina a diventar cittÃ . Ai tempi in cui accaddero i fatti che prendiamo\n",
      "a raccontare, quel borgo, giÃ  considerabile, era anche un castello, e aveva perciÃ²\n",
      "lâ€™onore dâ€™alloggiare un comandante, e il vantaggio di possedere una stabile\n",
      "guarnigione di soldati spagnoli, che insegnavan la modestia alle fanciulle e alle\n",
      "donne del paese, accarezzavan di tempo in tempo le spalle a qualche marito, a\n",
      "qualche padre; e, sul finir dellâ€™estate, non mancavan mai di spandersi nelle vigne,\n",
      "per diradar lâ€™uve, e alleggerire aâ€™ contadini le fatiche della vendemmia. Dallâ€™una\n",
      "allâ€™altra di quelle terre, dallâ€™alture alla riva, da un poggio allâ€™altro, correvano, e\n",
      "corrono tuttavia, strade e stradette, piÃ¹ o men ripide, o piane; ogni tanto affondate,\n",
      "sepolte tra due muri, donde, alzando lo sguardo, non iscoprite che un pezzo di\n",
      "cielo e qualche vetta di monte; ogni tanto elevate su terrapieni aperti: e da qui la\n",
      "vista spazia per prospetti piÃ¹ o meno estesi, ma ricchi sempre e sempre qualcosa\n",
      "nuovi, secondo che i diversi punti piglian piÃ¹ o meno della vasta scena\n",
      "circostante, e secondo che questa o quella parte campeggia o si scorcia, spunta o\n",
      "sparisce a vicenda. Dove un pezzo, dove un altro, dove una lunga distesa di quel\n",
      "vasto e variato specchio dellâ€™acqua; di qua lago, chiuso allâ€™estremitÃ  o piuttosto\n",
      "smarrito in un gruppo, in un andirivieni di montagne, e di mano in mano piÃ¹\n",
      "allargato tra altri monti che si spiegano, a uno a uno, allo sguardo, e che lâ€™acqua\n",
      "riflette capovolti, coâ€™ paesetti posti sulle rive; di lÃ  braccio di fiume, poi lago, poi\n",
      "fiume ancora, che va a perdersi in lucido serpeggiamento pur traâ€™ monti che\n",
      "lâ€™accompagnano, degradando via via, e perdendosi quasi anchâ€™essi nellâ€™orizzonte.\n",
      "Il luogo stesso da dove contemplate queâ€™ vari spettacoli, vi fa spettacolo da ogni\n",
      "parte: il monte di cui passeggiate le falde, vi svolge, al di sopra, dâ€™intorno, le sue\n",
      "cime e le balze, distinte, rilevate, mutabili quasi a ogni passo, aprendosi e\n",
      "contornandosi in gioghi ciÃ² che vâ€™era sembrato prima un sol giogo, e comparendo\n",
      "in vetta ciÃ² che poco innanzi vi si rappresentava sulla costa: e lâ€™ameno, il\n",
      "domestico di quelle falde tempera gradevolmente il selvaggio, e orna vie piÃ¹ il\n",
      "magnifico dellâ€™altre vedute.\n",
      "4\n",
      "Per una di queste stradicciole, tornava bel bello dalla passeggiata ve\n"
     ]
    }
   ],
   "source": [
    "with open(\"file_anonimo.txt\",\"r\") as file:\n",
    "    contenuto = file.read()\n",
    "\n",
    "print(contenuto)\n"
   ]
  },
  {
   "cell_type": "code",
   "execution_count": 10,
   "metadata": {},
   "outputs": [
    {
     "name": "stdout",
     "output_type": "stream",
     "text": [
      "uel ramo del lago di Como, che volge a mezzogiorno, tra due\n",
      "\n",
      "catene non interrotte di monti, tutto a seni e a golfi, a seconda\n",
      "\n",
      "dello sporgere e del rientrare di quelli, vien, quasi a un tratto, a\n",
      "\n",
      "ristringersi, e a prender corso e figura di fiume, tra un\n",
      "\n",
      "promontorio a destra, e unâ€™ampia costiera dallâ€™altra parte; e il\n",
      "\n",
      "ponte, che ivi congiunge le due rive, par che renda ancor piÃ¹\n",
      "\n",
      "sensibile allâ€™occhio questa trasformazione, e segni il punto in cui\n",
      "\n",
      "il lago cessa, e lâ€™Adda rincomincia, per ripigliar poi nome di lago\n",
      "\n",
      "dove le rive, allontanandosi di nuovo, lascian lâ€™acqua distendersi e rallentarsi in\n",
      "\n",
      "nuovi golfi e in nuovi seni. La costiera, formata dal deposito di tre grossi torrenti,\n",
      "\n",
      "scende appoggiata a due monti contigui, lâ€™uno detto di san Martino, lâ€™altro, con\n",
      "\n",
      "voce lombarda, il Resegone, dai molti suoi cocuzzoli in fila, che in vero lo fanno\n",
      "\n",
      "somigliare a una sega: talchÃ¨ non Ã¨ chi, al primo vederlo, purchÃ¨ sia di fronte,\n",
      "\n",
      "come per esempio di su le mura di Milano che guardano a settentrione, non lo\n",
      "\n",
      "discerna tosto, a un tal contrassegno, in quella lunga e vasta giogaia, dagli altri\n",
      "\n",
      "monti di nome piÃ¹ oscuro e di forma piÃ¹ comune. Per un buon pezzo, la costa sale\n",
      "\n",
      "con un pendÃ¬o lento e continuo; poi si rompe in poggi e in valloncelli, in erte e in\n",
      "\n",
      "3\n",
      "\n",
      "ispianate, secondo lâ€™ossatura deâ€™ due monti, e il lavoro dellâ€™acque. Il lembo\n",
      "\n",
      "estremo, tagliato dalle foci deâ€™ torrenti, Ã¨ quasi tutto ghiaia e ciottoloni; il resto,\n",
      "\n",
      "campi e vigne, sparse di terre, di ville, di casali; in qualche parte boschi, che si\n",
      "\n",
      "prolungano su per la montagna. Lecco, la principale di quelle terre, e che dÃ  nome\n",
      "\n",
      "al territorio, giace poco discosto dal ponte, alla riva del lago, anzi viene in parte a\n",
      "\n",
      "trovarsi nel lago stesso, quando questo ingrossa: un gran borgo al giorno dâ€™oggi, e\n",
      "\n",
      "che sâ€™incammina a diventar cittÃ . Ai tempi in cui accaddero i fatti che prendiamo\n",
      "\n",
      "a raccontare, quel borgo, giÃ  considerabile, era anche un castello, e aveva perciÃ²\n",
      "\n",
      "lâ€™onore dâ€™alloggiare un comandante, e il vantaggio di possedere una stabile\n",
      "\n",
      "guarnigione di soldati spagnoli, che insegnavan la modestia alle fanciulle e alle\n",
      "\n",
      "donne del paese, accarezzavan di tempo in tempo le spalle a qualche marito, a\n",
      "\n",
      "qualche padre; e, sul finir dellâ€™estate, non mancavan mai di spandersi nelle vigne,\n",
      "\n",
      "per diradar lâ€™uve, e alleggerire aâ€™ contadini le fatiche della vendemmia. Dallâ€™una\n",
      "\n",
      "allâ€™altra di quelle terre, dallâ€™alture alla riva, da un poggio allâ€™altro, correvano, e\n",
      "\n",
      "corrono tuttavia, strade e stradette, piÃ¹ o men ripide, o piane; ogni tanto affondate,\n",
      "\n",
      "sepolte tra due muri, donde, alzando lo sguardo, non iscoprite che un pezzo di\n",
      "\n",
      "cielo e qualche vetta di monte; ogni tanto elevate su terrapieni aperti: e da qui la\n",
      "\n",
      "vista spazia per prospetti piÃ¹ o meno estesi, ma ricchi sempre e sempre qualcosa\n",
      "\n",
      "nuovi, secondo che i diversi punti piglian piÃ¹ o meno della vasta scena\n",
      "\n",
      "circostante, e secondo che questa o quella parte campeggia o si scorcia, spunta o\n",
      "\n",
      "sparisce a vicenda. Dove un pezzo, dove un altro, dove una lunga distesa di quel\n",
      "\n",
      "vasto e variato specchio dellâ€™acqua; di qua lago, chiuso allâ€™estremitÃ  o piuttosto\n",
      "\n",
      "smarrito in un gruppo, in un andirivieni di montagne, e di mano in mano piÃ¹\n",
      "\n",
      "allargato tra altri monti che si spiegano, a uno a uno, allo sguardo, e che lâ€™acqua\n",
      "\n",
      "riflette capovolti, coâ€™ paesetti posti sulle rive; di lÃ  braccio di fiume, poi lago, poi\n",
      "\n",
      "fiume ancora, che va a perdersi in lucido serpeggiamento pur traâ€™ monti che\n",
      "\n",
      "lâ€™accompagnano, degradando via via, e perdendosi quasi anchâ€™essi nellâ€™orizzonte.\n",
      "\n",
      "Il luogo stesso da dove contemplate queâ€™ vari spettacoli, vi fa spettacolo da ogni\n",
      "\n",
      "parte: il monte di cui passeggiate le falde, vi svolge, al di sopra, dâ€™intorno, le sue\n",
      "\n",
      "cime e le balze, distinte, rilevate, mutabili quasi a ogni passo, aprendosi e\n",
      "\n",
      "contornandosi in gioghi ciÃ² che vâ€™era sembrato prima un sol giogo, e comparendo\n",
      "\n",
      "in vetta ciÃ² che poco innanzi vi si rappresentava sulla costa: e lâ€™ameno, il\n",
      "\n",
      "domestico di quelle falde tempera gradevolmente il selvaggio, e orna vie piÃ¹ il\n",
      "\n",
      "magnifico dellâ€™altre vedute.\n",
      "\n",
      "4\n",
      "\n",
      "Per una di queste stradicciole, tornava bel bello dalla passeggiata ve\n",
      "uel ramo del lago di Como, che volge a mezzogiorno, tra due\n",
      "catene non interrotte di monti, tutto a seni e a golfi, a seconda\n",
      "dello sporgere e del rientrare di quelli, vien, quasi a un tratto, a\n",
      "ristringersi, e a prender corso e figura di fiume, tra un\n",
      "promontorio a destra, e unâ€™ampia costiera dallâ€™altra parte; e il\n",
      "ponte, che ivi congiunge le due rive, par che renda ancor piÃ¹\n",
      "sensibile allâ€™occhio questa trasformazione, e segni il punto in cui\n",
      "il lago cessa, e lâ€™Adda rincomincia, per ripigliar poi nome di lago\n",
      "dove le rive, allontanandosi di nuovo, lascian lâ€™acqua distendersi e rallentarsi in\n",
      "nuovi golfi e in nuovi seni. La costiera, formata dal deposito di tre grossi torrenti,\n",
      "scende appoggiata a due monti contigui, lâ€™uno detto di san Martino, lâ€™altro, con\n",
      "voce lombarda, il Resegone, dai molti suoi cocuzzoli in fila, che in vero lo fanno\n",
      "somigliare a una sega: talchÃ¨ non Ã¨ chi, al primo vederlo, purchÃ¨ sia di fronte,\n",
      "come per esempio di su le mura di Milano che guardano a settentrione, non lo\n",
      "discerna tosto, a un tal contrassegno, in quella lunga e vasta giogaia, dagli altri\n",
      "monti di nome piÃ¹ oscuro e di forma piÃ¹ comune. Per un buon pezzo, la costa sale\n",
      "con un pendÃ¬o lento e continuo; poi si rompe in poggi e in valloncelli, in erte e in\n",
      "3\n",
      "ispianate, secondo lâ€™ossatura deâ€™ due monti, e il lavoro dellâ€™acque. Il lembo\n",
      "estremo, tagliato dalle foci deâ€™ torrenti, Ã¨ quasi tutto ghiaia e ciottoloni; il resto,\n",
      "campi e vigne, sparse di terre, di ville, di casali; in qualche parte boschi, che si\n",
      "prolungano su per la montagna. Lecco, la principale di quelle terre, e che dÃ  nome\n",
      "al territorio, giace poco discosto dal ponte, alla riva del lago, anzi viene in parte a\n",
      "trovarsi nel lago stesso, quando questo ingrossa: un gran borgo al giorno dâ€™oggi, e\n",
      "che sâ€™incammina a diventar cittÃ . Ai tempi in cui accaddero i fatti che prendiamo\n",
      "a raccontare, quel borgo, giÃ  considerabile, era anche un castello, e aveva perciÃ²\n",
      "lâ€™onore dâ€™alloggiare un comandante, e il vantaggio di possedere una stabile\n",
      "guarnigione di soldati spagnoli, che insegnavan la modestia alle fanciulle e alle\n",
      "donne del paese, accarezzavan di tempo in tempo le spalle a qualche marito, a\n",
      "qualche padre; e, sul finir dellâ€™estate, non mancavan mai di spandersi nelle vigne,\n",
      "per diradar lâ€™uve, e alleggerire aâ€™ contadini le fatiche della vendemmia. Dallâ€™una\n",
      "allâ€™altra di quelle terre, dallâ€™alture alla riva, da un poggio allâ€™altro, correvano, e\n",
      "corrono tuttavia, strade e stradette, piÃ¹ o men ripide, o piane; ogni tanto affondate,\n",
      "sepolte tra due muri, donde, alzando lo sguardo, non iscoprite che un pezzo di\n",
      "cielo e qualche vetta di monte; ogni tanto elevate su terrapieni aperti: e da qui la\n",
      "vista spazia per prospetti piÃ¹ o meno estesi, ma ricchi sempre e sempre qualcosa\n",
      "nuovi, secondo che i diversi punti piglian piÃ¹ o meno della vasta scena\n",
      "circostante, e secondo che questa o quella parte campeggia o si scorcia, spunta o\n",
      "sparisce a vicenda. Dove un pezzo, dove un altro, dove una lunga distesa di quel\n",
      "vasto e variato specchio dellâ€™acqua; di qua lago, chiuso allâ€™estremitÃ  o piuttosto\n",
      "smarrito in un gruppo, in un andirivieni di montagne, e di mano in mano piÃ¹\n",
      "allargato tra altri monti che si spiegano, a uno a uno, allo sguardo, e che lâ€™acqua\n",
      "riflette capovolti, coâ€™ paesetti posti sulle rive; di lÃ  braccio di fiume, poi lago, poi\n",
      "fiume ancora, che va a perdersi in lucido serpeggiamento pur traâ€™ monti che\n",
      "lâ€™accompagnano, degradando via via, e perdendosi quasi anchâ€™essi nellâ€™orizzonte.\n",
      "Il luogo stesso da dove contemplate queâ€™ vari spettacoli, vi fa spettacolo da ogni\n",
      "parte: il monte di cui passeggiate le falde, vi svolge, al di sopra, dâ€™intorno, le sue\n",
      "cime e le balze, distinte, rilevate, mutabili quasi a ogni passo, aprendosi e\n",
      "contornandosi in gioghi ciÃ² che vâ€™era sembrato prima un sol giogo, e comparendo\n",
      "in vetta ciÃ² che poco innanzi vi si rappresentava sulla costa: e lâ€™ameno, il\n",
      "domestico di quelle falde tempera gradevolmente il selvaggio, e orna vie piÃ¹ il\n",
      "magnifico dellâ€™altre vedute.\n",
      "4\n",
      "Per una di queste stradicciole, tornava bel bello dalla passeggiata ve\n"
     ]
    }
   ],
   "source": [
    "with open(\"file_anonimo.txt\",\"r\") as file:\n",
    "    for riga in file:\n",
    "        print(riga)\n",
    "\n",
    "print(contenuto)\n"
   ]
  },
  {
   "cell_type": "code",
   "execution_count": 13,
   "metadata": {},
   "outputs": [
    {
     "name": "stdout",
     "output_type": "stream",
     "text": [
      "<class 'str'>\n"
     ]
    }
   ],
   "source": [
    "with open(\"file_anonimo.txt\",\"r\") as file:\n",
    "    righe = file.readlines()\n",
    "    print(type(righe[10]))\n",
    "\n"
   ]
  },
  {
   "cell_type": "code",
   "execution_count": 15,
   "metadata": {},
   "outputs": [
    {
     "name": "stdout",
     "output_type": "stream",
     "text": [
      "Lorem Ipsum is simply dummy text of the printing and typesetting industry. Lorem Ipsum has been the industry's standard dummy text ever since the 1500s, when an unknown printer took a galley of type and scrambled it to make a type specimen book. It has survived not only five centuries, but also the leap into electronic typesetting, remaining essentially unchanged. It was popularised in the 1960s with the release of Letraset sheets containing Lorem Ipsum passages, and more recently with desktop publishing software like Aldus PageMaker including versions of Lorem Ipsum.\n",
      "\n",
      "Why do we use it?\n",
      "It is a long established fact that a reader will be distracted by the readable content of a page when looking at its layout. The point of using Lorem Ipsum is that it has a more-or-less normal distribution of letters, as opposed to using 'Content here, content here', making it look like readable English. Many desktop publishing packages and web page editors now use Lorem Ipsum as their default model text, and a search for 'lorem ipsum' will uncover many web sites still in their infancy. Various versions have evolved over the years, sometimes by accident, sometimes on purpose (injected humour and the like).\n",
      "\n",
      "\n",
      "Where does it come from?\n",
      "Contrary to popular belief, Lorem Ipsum is not simply random text. It has roots in a piece of classical Latin literature from 45 BC, making it over 2000 years old. Richard McClintock, a Latin professor at Hampden-Sydney College in Virginia, looked up one of the more obscure Latin words, consectetur, from a Lorem Ipsum passage, and going through the cites of the word in classical literature, discovered the undoubtable source. Lorem Ipsum comes from sections 1.10.32 and 1.10.33 of \"de Finibus Bonorum et Malorum\" (The Extremes of Good and Evil) by Cicero, written in 45 BC. This book is a treatise on the theory of ethics, very popular during the Renaissance. The first line of Lorem Ipsum, \"Lorem ipsum dolor sit amet..\", comes from a line in section 1.10.32.\n",
      "\n",
      "The standard chunk of Lorem Ipsum used since the 1500s is reproduced below for those interested. Sections 1.10.32 and 1.10.33 from \"de Finibus Bonorum et Malorum\" by Cicero are also reproduced in their exact original form, accompanied by English versions from the 1914 translation by H. Rackham.\n",
      "\n",
      "Where can I get some?\n",
      "There are many variations of passages of Lorem Ipsum available, but the majority have suffered alteration in some form, by injected humour, or randomised words which don't look even slightly believable. If you are going to use a passage of Lorem Ipsum, you need to be sure there isn't anything embarrassing hidden in the middle of text. All the Lorem Ipsum generators on the Internet tend to repeat predefined chunks as necessary, making this the first true generator on the Internet. It uses a dictionary of over 200 Latin words, combined with a handful of model sentence structures, to generate Lorem Ipsum which looks reasonable. The generated Lorem Ipsum is therefore always free from repetition, injected humour, or non-characteristic words etc.\n",
      "\n",
      "fine testo\n"
     ]
    }
   ],
   "source": [
    "with open(\"file_anonimo.txt\",\"r\") as file:\n",
    "    while True:\n",
    "        f = file.readline()\n",
    "        print(f.strip())\n",
    "        if not f:\n",
    "            print(\"fine testo\")\n",
    "            break\n",
    "\n"
   ]
  },
  {
   "cell_type": "code",
   "execution_count": 16,
   "metadata": {},
   "outputs": [],
   "source": [
    "with open(\"file_non_esistente\",\"w\") as f:\n",
    "    pass"
   ]
  },
  {
   "cell_type": "code",
   "execution_count": 23,
   "metadata": {},
   "outputs": [],
   "source": [
    "with open(\"file_non_esistente\",\"w\") as file:\n",
    "    for i in range(5):\n",
    "        file.write(f\"Ciao{i+1}\\n\")\n",
    "\n",
    "\n"
   ]
  },
  {
   "cell_type": "code",
   "execution_count": 28,
   "metadata": {},
   "outputs": [],
   "source": [
    "with open(\"file_non_esistente\",\"a\") as file:\n",
    "    for i in range(5):\n",
    "        file.write(f\"Ciao{i+1}\\n\")"
   ]
  },
  {
   "cell_type": "code",
   "execution_count": 29,
   "metadata": {},
   "outputs": [],
   "source": [
    "with open(\"file_non_esistente\",\"w\") as file:\n",
    "    righe = [\"prima riga\\n\",\"seconda riga\\n\",\"terza riga\\n\"]\n",
    "    file.writelines(righe)\n",
    "\n",
    "    "
   ]
  },
  {
   "cell_type": "code",
   "execution_count": 33,
   "metadata": {},
   "outputs": [],
   "source": [
    "with open(\"dati.csv\",\"w\") as file:\n",
    "    pass\n",
    "\n",
    "with open(\"dati.csv\",\"r\") as f: \n",
    "    for riga in f:\n",
    "        campi = riga.strip().split(\",\")\n",
    "        print(campi)"
   ]
  },
  {
   "cell_type": "code",
   "execution_count": 34,
   "metadata": {},
   "outputs": [
    {
     "name": "stdout",
     "output_type": "stream",
     "text": [
      "Colonne:  None\n"
     ]
    }
   ],
   "source": [
    "import csv\n",
    "\n",
    "with open(\"dati.csv\",\"r\",newline=\"\",encoding=\"utf-8\") as file:\n",
    "    dict_reader = csv.DictReader(file)\n",
    "\n",
    "    print(f\"Colonne:  {dict_reader.fieldnames}\")\n",
    "\n",
    "    "
   ]
  },
  {
   "cell_type": "code",
   "execution_count": 37,
   "metadata": {},
   "outputs": [
    {
     "name": "stdout",
     "output_type": "stream",
     "text": [
      "{\"Nome\": \"Mario Rossi\", \"eta'\": 30, \"lingue\": [\"italiano\", \"inglese\"]}\n"
     ]
    }
   ],
   "source": [
    "import json\n",
    "\n",
    "dati = {\n",
    "    \"Nome\":\"Mario Rossi\",\n",
    "    \"eta'\": 30,\n",
    "    \"lingue\":[\"italiano\",\"inglese\"]\n",
    "}\n",
    "\n",
    "json_str = json.dumps(dati)\n",
    "print(json_str)"
   ]
  },
  {
   "cell_type": "markdown",
   "metadata": {},
   "source": []
  },
  {
   "cell_type": "code",
   "execution_count": null,
   "metadata": {},
   "outputs": [],
   "source": []
  }
 ],
 "metadata": {
  "kernelspec": {
   "display_name": "Python 3",
   "language": "python",
   "name": "python3"
  },
  "language_info": {
   "codemirror_mode": {
    "name": "ipython",
    "version": 3
   },
   "file_extension": ".py",
   "mimetype": "text/x-python",
   "name": "python",
   "nbconvert_exporter": "python",
   "pygments_lexer": "ipython3",
   "version": "3.13.2"
  }
 },
 "nbformat": 4,
 "nbformat_minor": 2
}
