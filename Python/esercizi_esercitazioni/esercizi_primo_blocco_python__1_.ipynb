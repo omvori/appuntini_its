{
 "cells": [
  {
   "cell_type": "code",
   "execution_count": 8,
   "metadata": {},
   "outputs": [
    {
     "name": "stdout",
     "output_type": "stream",
     "text": [
      "Non possono essere anagrammi\n",
      "Non sono anagrammi\n"
     ]
    }
   ],
   "source": [
    "#12. determina se due parole costituiscono un anagramma\n",
    "x = input(\"Inserire una parola\")\n",
    "y = input(\"Inserire una parola\")\n",
    "\n",
    "if len(x) != len(y):\n",
    "    print(\"Non possono essere anagrammi\")\n",
    "else:\n",
    "    lista_y = []\n",
    "    \n",
    "for lettera in y:\n",
    "    lista_y.append(lettera)\n",
    "    \n",
    "anagramma = True\n",
    "\n",
    "for lettera in x:\n",
    "    if lettera in lista_y:\n",
    "        lista_y.remove(lettera)\n",
    "    else:\n",
    "        anagramma = False\n",
    "        break\n",
    "    \n",
    "if anagramma:\n",
    "    print(\"sono Anagrammi\")\n",
    "else:\n",
    "    print(\"Non sono anagrammi\")"
   ]
  },
  {
   "cell_type": "code",
   "execution_count": null,
   "metadata": {},
   "outputs": [
    {
     "name": "stdout",
     "output_type": "stream",
     "text": [
      "[None, None, None, None, None]\n",
      "['Python!', 'di', 'corso', 'al', 'Benvenuti']\n"
     ]
    }
   ],
   "source": [
    "# 13. inverti l'ordine delle parole nella frase \"Benvenuti al corso di Python!\"\n",
    "f = \"Benven   uti al corso di Python!\"\n",
    "\n",
    "flist = f.split()\n",
    "list(flist)\n",
    "\n",
    "i = 0\n",
    "j = -1\n",
    "nlist = [None] * len(flist)\n",
    "print(nlist)\n",
    "\n",
    "while i < len(flist):\n",
    "    nlist[i] = flist[j]\n",
    "    i+=1\n",
    "    j-=1\n",
    "    \n",
    "    \n",
    "\n",
    "print(nlist)\n",
    "    "
   ]
  },
  {
   "cell_type": "code",
   "execution_count": 62,
   "metadata": {},
   "outputs": [
    {
     "name": "stdout",
     "output_type": "stream",
     "text": [
      "Benvenuti al crs di Pythn!\n"
     ]
    }
   ],
   "source": [
    "# 14. dalla stessa stringa rimuovi le lettere \"o\"\n",
    "f = \"Benvenuti al corso di Python!\"\n",
    "c = list(f)\n",
    "\n",
    "\n",
    "\n",
    "for e in c:\n",
    "   if 'o' in c:\n",
    "      c.remove(\"o\")\n",
    "      \n",
    "print(\"\".join(c))\n",
    "      \n",
    "\n",
    "\n",
    "    "
   ]
  },
  {
   "cell_type": "code",
   "execution_count": 66,
   "metadata": {},
   "outputs": [
    {
     "name": "stdout",
     "output_type": "stream",
     "text": [
      "Sei ancora un nabbetto del cazzo,hai la patente da 1 anno/i\n"
     ]
    }
   ],
   "source": [
    "# 15. scrivi un programma che verifica se si può ottenere una patente speciale: tale patente si può ottenere solo se l'età è compresa tra 18 e 65 anni e se la persona ha già una patente normale da almeno 2 anni.\n",
    "age = int(input(\"inserire la propria età : \"))\n",
    "dlage = int(input(\"inserire da quanti anni si possiede la patente : \"))\n",
    "            \n",
    "if age < 18:\n",
    "    print(\"Non puoi ottenere questa patente\")\n",
    "\n",
    "\n",
    "if 18 < age < 65 and dlage > 2:\n",
    "    print(\"puoi ottenere la patente speciale,brutto down\")\n",
    "elif age < 18:\n",
    "    print(f\"La tua età di : {age} è troppo piccola\")\n",
    "elif age > 65:\n",
    "    print(f\"La tua età di : {age} è troppo grande,accirt\")\n",
    "elif dlage < 2:\n",
    "    print(f\"Sei ancora un nabbetto del cazzo,hai la patente da {dlage} anno/i\")"
   ]
  },
  {
   "cell_type": "code",
   "execution_count": null,
   "metadata": {},
   "outputs": [],
   "source": [
    "# 16. scrivi un programma che, dati peso e altezza calcoli l'indice di massa corporea ( imc = peso(kg)/altezza(m)**2 ) e dica se un paziente è sottopeso (imc < 18.5), normopeso (18.5 < imc < 25 ), sovrappeso (25 < imc < 30 ) o obeso (imc > 30). Risolvere in due modi, sia usando elif che non usandolo."
   ]
  },
  {
   "cell_type": "code",
   "execution_count": null,
   "metadata": {},
   "outputs": [],
   "source": []
  }
 ],
 "metadata": {
  "kernelspec": {
   "display_name": "Python 3",
   "language": "python",
   "name": "python3"
  },
  "language_info": {
   "codemirror_mode": {
    "name": "ipython",
    "version": 3
   },
   "file_extension": ".py",
   "mimetype": "text/x-python",
   "name": "python",
   "nbconvert_exporter": "python",
   "pygments_lexer": "ipython3",
   "version": "3.12.0"
  }
 },
 "nbformat": 4,
 "nbformat_minor": 2
}
