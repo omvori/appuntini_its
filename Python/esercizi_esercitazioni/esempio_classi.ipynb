{
 "cells": [
  {
   "cell_type": "code",
   "execution_count": 1,
   "metadata": {},
   "outputs": [
    {
     "name": "stdout",
     "output_type": "stream",
     "text": [
      "La media voti di Mario Rossi, studente dell'ITS, è 27.6\n"
     ]
    }
   ],
   "source": [
    "class Studente:\n",
    "\n",
    "    def __init__(self, voti: list, scuola: str = 'ITS'):\n",
    "        self.nome = 'Mario'\n",
    "        self.cognome = 'Rossi'\n",
    "        self.scuola = scuola\n",
    "        self.voti = voti\n",
    "        self.indice = 0\n",
    "\n",
    "    def __iter__(self):\n",
    "        \"\"\"\n",
    "            Rende l'oggetto iterabile restituendo se stesso come iteratore.\n",
    "        \"\"\"\n",
    "        return self\n",
    "    \n",
    "    def __str__(self):\n",
    "        \"\"\"\n",
    "            Di default stampa a schermo nome, cognome e scuola dello studente.\n",
    "        \"\"\"\n",
    "        base_info = f'{self.nome} {self.cognome}, studente dell\\'{self.scuola}'\n",
    "        \n",
    "        return base_info\n",
    "    \n",
    "    def summary(self, *extra):\n",
    "        \n",
    "        \"\"\"\n",
    "            Di default stampa a schermo nome, cognome e scuola dello studente.\n",
    "            Vi è però la possibilità di aggiungere parametri arbitrari posizionali\n",
    "        \"\"\"\n",
    "\n",
    "        # Ricorda che i parametri arbitrari posizionali sono\n",
    "        # contenuti in una tupla!\n",
    "        extra_info = ', '.join(map(str, extra)) if extra else ''\n",
    "\n",
    "        # possiamo richiamare str(direttamente su self)\n",
    "        return f'{str(self)}{extra_info}' if extra_info else str(self)\n",
    "\n",
    "    \n",
    "    def __next__(self):\n",
    "        \"\"\"\n",
    "            Restituisce il prossimo voto nella lista, o StopIteration se finiti.\n",
    "        \"\"\"\n",
    "        if self.indice < len(self.voti):\n",
    "            voto = self.voti[self.indice]\n",
    "            self.indice += 1\n",
    "            return voto\n",
    "        else:\n",
    "            raise StopIteration # segnala la fine dell'iterazione\n",
    "        \n",
    "    def __len__(self):\n",
    "        \"\"\"\n",
    "        Restituisce il numero di voti assegnati allo studente.\n",
    "        \"\"\"\n",
    "        return len(self.voti) # in questo modo anche l'istanza di Studente avrà len        \n",
    "studente = Studente(voti=[28, 25, 26, 30, 29])\n",
    "media_voti = sum(voto for voto in studente) / len(studente)\n",
    "print(f'La media voti di {str(studente)}, è {media_voti}')"
   ]
  },
  {
   "cell_type": "code",
   "execution_count": 3,
   "metadata": {},
   "outputs": [
    {
     "data": {
      "text/plain": [
       "\"<class '__main__.Studente'>\""
      ]
     },
     "execution_count": 3,
     "metadata": {},
     "output_type": "execute_result"
    }
   ],
   "source": [
    "repr(Studente)"
   ]
  },
  {
   "cell_type": "code",
   "execution_count": 63,
   "metadata": {},
   "outputs": [
    {
     "data": {
      "text/plain": [
       "\"Mario Rossi, studente dell'ITS, ha una media voti di 27.6.\""
      ]
     },
     "execution_count": 63,
     "metadata": {},
     "output_type": "execute_result"
    }
   ],
   "source": [
    "\n",
    "\n",
    "studente.summary(f', ha una media voti di {media_voti}.')"
   ]
  },
  {
   "cell_type": "code",
   "execution_count": 10,
   "metadata": {},
   "outputs": [],
   "source": [
    "studente = Studente() ## metodo __init__() viene chiamato automaticamente"
   ]
  },
  {
   "cell_type": "code",
   "execution_count": 12,
   "metadata": {},
   "outputs": [
    {
     "name": "stdout",
     "output_type": "stream",
     "text": [
      "Mario Rossi - Ente: ITS\n"
     ]
    },
    {
     "data": {
      "text/plain": [
       "'Mario Rossi - Ente: ITS'"
      ]
     },
     "execution_count": 12,
     "metadata": {},
     "output_type": "execute_result"
    }
   ],
   "source": [
    "print(studente)\n",
    "str(studente)"
   ]
  },
  {
   "cell_type": "code",
   "execution_count": null,
   "metadata": {},
   "outputs": [
    {
     "name": "stdout",
     "output_type": "stream",
     "text": [
      "Mario Rossi\n",
      "Luca Bianchi\n"
     ]
    }
   ],
   "source": [
    "# possiamo accedere agli attributi tramite l'operatore .\n",
    "print(studente.nome + ' ' + studente.cognome) \n",
    "# possiamo anche modificare il valore dei singoli attributi\n",
    "studente.nome = 'Luca' \n",
    "studente.cognome = 'Bianchi'\n",
    "\n",
    "print(studente.nome + ' ' + studente.cognome)\n"
   ]
  },
  {
   "cell_type": "code",
   "execution_count": 61,
   "metadata": {},
   "outputs": [],
   "source": [
    "class Persona:\n",
    "\n",
    "    contatore = 0\n",
    "\n",
    "    def __init__(self, nome: str, \n",
    "                 cognome: str, \n",
    "                 eta: int):\n",
    "\n",
    "        self.nome = nome\n",
    "        self.cognome = cognome\n",
    "        self._eta = eta\n",
    "        Persona.contatore += 1\n",
    "\n",
    "    @staticmethod\n",
    "    def cambia_nome(nome: str,\n",
    "                    cognome: str) -> str:\n",
    "        \n",
    "        # N. B nome e cognome sono argomenti \n",
    "        # del metodo\n",
    "        # e non hanno alcun riferimento \n",
    "        # agli attributi nome e cognome\n",
    "        # della classe. Notare l'assenza\n",
    "        # del parametro implicito self\n",
    "\n",
    "        return nome, cognome\n",
    "    \n",
    "    @property\n",
    "    def eta(self):\n",
    "        # Getter per l'età\n",
    "        return self._eta\n",
    "    \n",
    "    @eta.setter\n",
    "    def eta(self, valore):\n",
    "        # Setter con validazione\n",
    "        if valore < 0:\n",
    "            raise ValueError('L\\'età non può essere negativa')\n",
    "        self._eta = valore\n",
    "\n",
    "    @eta.deleter\n",
    "    def eta(self):\n",
    "        del self._eta\n",
    "    \n",
    "    #metodo privato\n",
    "    def __aggiungi_secondo_nome(self, \n",
    "                                secondo_nome: str = 'Giovanni'):\n",
    "        \n",
    "        return f'{self.nome} {secondo_nome} {self.cognome}'\n",
    "    \n",
    "    def assumi_secondo_nome(self):\n",
    "        # metodo privato richiamato all'interno\n",
    "        # di un metodo non privato\n",
    "        return self.__aggiungi_secondo_nome()\n",
    "    \n",
    "    def assumi_nuovo_nome(self, \n",
    "                          nuovo_nome: str,\n",
    "                          nuovo_cognome: str):\n",
    "        # Metodo di istanza al cui interno\n",
    "        # viene chiamato il metodo statico\n",
    "        \n",
    "        self.nome, self.cognome = self.cambia_nome(\n",
    "            nome=nuovo_nome, cognome=nuovo_cognome\n",
    "        )\n",
    "        return self.nome, self.cognome\n",
    "\n",
    "    @classmethod\n",
    "    def conta_persone(cls):\n",
    "        # metodo di classe a cui può avere accesso la classe stessa\n",
    "        return f'Numero di persone create: {cls.contatore}'\n",
    "\n",
    "    def _saluta(self):\n",
    "\n",
    "        return (f'Ciao, mi chiamo {self.nome} '\n",
    "        f'{self.cognome} e ho {self.eta} anni.')"
   ]
  },
  {
   "cell_type": "code",
   "execution_count": 60,
   "metadata": {},
   "outputs": [
    {
     "data": {
      "text/plain": [
       "('Gianni', 'Morandi', 8)"
      ]
     },
     "execution_count": 60,
     "metadata": {},
     "output_type": "execute_result"
    }
   ],
   "source": [
    "persona_1 = Persona(nome='Mario', \n",
    "                  cognome='Rossi',\n",
    "                  eta=25)\n",
    "\n",
    "persona_1.cambia_nome('Gianni', 'Morandi')"
   ]
  },
  {
   "cell_type": "code",
   "execution_count": 39,
   "metadata": {},
   "outputs": [
    {
     "data": {
      "text/plain": [
       "'Numero di persone create: 2'"
      ]
     },
     "execution_count": 39,
     "metadata": {},
     "output_type": "execute_result"
    }
   ],
   "source": [
    "# Accedo come un attributo\n",
    "# ma non è un attributo!!\n",
    "# È una metodo definito come\n",
    "# proprietà\n",
    "\n",
    "persona_1.conta_persone()"
   ]
  },
  {
   "cell_type": "code",
   "execution_count": 36,
   "metadata": {},
   "outputs": [
    {
     "data": {
      "text/plain": [
       "'Mario'"
      ]
     },
     "execution_count": 36,
     "metadata": {},
     "output_type": "execute_result"
    }
   ],
   "source": [
    "persona_1.nome"
   ]
  },
  {
   "cell_type": "code",
   "execution_count": 37,
   "metadata": {},
   "outputs": [
    {
     "data": {
      "text/plain": [
       "'Rossi'"
      ]
     },
     "execution_count": 37,
     "metadata": {},
     "output_type": "execute_result"
    }
   ],
   "source": [
    "persona_1.nome\n",
    "persona_1.cognome"
   ]
  },
  {
   "cell_type": "code",
   "execution_count": null,
   "metadata": {},
   "outputs": [],
   "source": [
    "class Animale:\n",
    "\n",
    "    def __init__(self):\n",
    "        self.animale = 'animale'\n",
    "\n",
    "    def si_muove(self):\n",
    "        return f\"{self.animale} si muove\"\n",
    "    \n",
    "class Cane(Animale):\n",
    "\n",
    "    #override metodo si muove\n",
    "    def si_muove(self): \n",
    "        self.animale = 'Il cane'\n",
    "        return f\"L'{self.animale} cammina abbaiando\""
   ]
  },
  {
   "cell_type": "code",
   "execution_count": 163,
   "metadata": {},
   "outputs": [],
   "source": [
    "class Volante:\n",
    "    def vola(self):\n",
    "        \n",
    "        return \"Vola!\"\n",
    "\n",
    "class Nuotatore:\n",
    "    def nuota(self):\n",
    "        return \"E nuota anche!\"\n",
    "\n",
    "class Anatra(Animale, Volante, Nuotatore):\n",
    "    \n",
    "    pass"
   ]
  },
  {
   "cell_type": "code",
   "execution_count": 164,
   "metadata": {},
   "outputs": [
    {
     "name": "stdout",
     "output_type": "stream",
     "text": [
      "animale si muove\n",
      "Vola!\n",
      "E nuota anche!\n"
     ]
    }
   ],
   "source": [
    "anatra = Anatra()\n",
    "print(anatra.si_muove())\n",
    "print(anatra.vola())\n",
    "print(anatra.nuota())\n"
   ]
  },
  {
   "cell_type": "code",
   "execution_count": 11,
   "metadata": {},
   "outputs": [],
   "source": [
    "class Lavoratore(Persona):\n",
    "\n",
    "    def __init__(self, nome, cognome, età, azienda):\n",
    "\n",
    "        super().__init__(nome, cognome, età)\n",
    "\n",
    "        self.azienda = azienda\n",
    "        \n",
    "    def è_attivo(self, lavora: bool = True):\n",
    "\n",
    "        if lavora:\n",
    "            return f'{self.nome} lavora in {self.azienda}'\n",
    "        \n",
    "        else:\n",
    "            return f'{self.nome} sta cercando lavoro'"
   ]
  },
  {
   "cell_type": "code",
   "execution_count": 16,
   "metadata": {},
   "outputs": [
    {
     "data": {
      "text/plain": [
       "'Mario lavora in Google'"
      ]
     },
     "execution_count": 16,
     "metadata": {},
     "output_type": "execute_result"
    }
   ],
   "source": [
    "lavoratore = Lavoratore('Mario', 'Rossi', 25, 'Google')\n",
    "lavoratore.assumi_secondo_nome()\n",
    "lavoratore.è_attivo()"
   ]
  },
  {
   "cell_type": "code",
   "execution_count": 18,
   "metadata": {},
   "outputs": [
    {
     "data": {
      "text/plain": [
       "'Mario Giovanni Rossi'"
      ]
     },
     "execution_count": 18,
     "metadata": {},
     "output_type": "execute_result"
    }
   ],
   "source": [
    "lavoratore.assumi_secondo_nome()"
   ]
  },
  {
   "cell_type": "code",
   "execution_count": 38,
   "metadata": {},
   "outputs": [
    {
     "name": "stdout",
     "output_type": "stream",
     "text": [
      "10\n",
      "Metodo pubblico\n",
      "20\n",
      "Metodo protetto\n",
      "Metodo privato\n",
      "30\n"
     ]
    }
   ],
   "source": [
    "class Base:\n",
    "    def __init__(self):\n",
    "        self.numero_pubblico = 10\n",
    "        self._numero_protetto = 20\n",
    "        self.__numero_privato = 30\n",
    "\n",
    "    def metodo_pubblico(self):\n",
    "        print(\"Metodo pubblico\")\n",
    "\n",
    "    def _metodo_protetto(self):\n",
    "        print(\"Metodo protetto\")\n",
    "\n",
    "    def __metodo_privato(self):\n",
    "        print(\"Metodo privato\")\n",
    "\n",
    "        # Si può accedere alla variabile privata anche dall'interno\n",
    "        print(self.__numero_privato)\n",
    "\n",
    "\n",
    "\n",
    "# Utilizzo\n",
    "base_instance = Base()\n",
    "print(base_instance.numero_pubblico)\n",
    "base_instance.metodo_pubblico()\n",
    "\n",
    "print(base_instance._numero_protetto) # Funziona, ma da evitare\n",
    "base_instance._metodo_protetto()    # Funziona, ma da evitare\n",
    "\n",
    "# print(base_instance.__numero_privato) # Causerebbe AttributeError\n",
    "# print(base_instance.__metodo_privato())    # Causerebbe AttributeError\n",
    "\n",
    "base_instance._Base__metodo_privato()"
   ]
  },
  {
   "cell_type": "code",
   "execution_count": null,
   "metadata": {},
   "outputs": [],
   "source": [
    "class Derivata(Base):\n",
    "    def accesso_al_metodo_privato(self):\n",
    "        print(self._numero_protetto)  # Accesso consentito\n",
    "        self._metodo_protetto()     # Accesso consentito\n",
    "\n",
    "    def prova_accesso_al_privato(self):\n",
    "        # print(self.__numero_privato)  # Causerebbe AttributeError: 'Derivata' object has no attribute '__numero_privato'\n",
    "        # Il name mangling cambia il nome dell'attributo.  Per accedervi si dovrebbe usare:\n",
    "        print(self._Base__numero_privato) # Accesso \"forzato\" ma possibile grazie al name mangling\n",
    "\n",
    "        # self.__metodo_privato() # Anche qui causerebbe AttributeError\n",
    "        self._Base__metodo_privato() # Accesso \"forzato\" possibile "
   ]
  },
  {
   "cell_type": "code",
   "execution_count": 7,
   "metadata": {},
   "outputs": [
    {
     "name": "stdout",
     "output_type": "stream",
     "text": [
      "20\n",
      "Metodo protetto\n",
      "30\n",
      "Metodo privato\n",
      "30\n"
     ]
    }
   ],
   "source": [
    "derived_instance = Derivata()\n",
    "derived_instance.accesso_al_metodo_privato()\n",
    "derived_instance.prova_accesso_al_privato()"
   ]
  }
 ],
 "metadata": {
  "kernelspec": {
   "display_name": "venv-test",
   "language": "python",
   "name": "venv-test"
  },
  "language_info": {
   "codemirror_mode": {
    "name": "ipython",
    "version": 3
   },
   "file_extension": ".py",
   "mimetype": "text/x-python",
   "name": "python",
   "nbconvert_exporter": "python",
   "pygments_lexer": "ipython3",
   "version": "3.10.11"
  }
 },
 "nbformat": 4,
 "nbformat_minor": 2
}
