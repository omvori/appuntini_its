{
 "cells": [
  {
   "cell_type": "code",
   "execution_count": null,
   "metadata": {},
   "outputs": [
    {
     "name": "stdout",
     "output_type": "stream",
     "text": [
      "[1, 2, 3, 4, 5, [1, 24, 45]]\n"
     ]
    }
   ],
   "source": [
    "#Metodo.append()\n",
    "\n",
    "ddio = [1,2,3,4,5]\n",
    "naggiacrist = [1,24,45]\n",
    "ddio.append(naggiacrist)\n",
    "\n",
    "print(ddio)"
   ]
  },
  {
   "cell_type": "code",
   "execution_count": 2,
   "metadata": {},
   "outputs": [
    {
     "name": "stdout",
     "output_type": "stream",
     "text": [
      "[9, 1, 2, 3, 4]\n"
     ]
    }
   ],
   "source": [
    "#metodo.insert()\n",
    "\n",
    "a = [1,2,3,4]\n",
    "\n",
    "a.insert(0,9)\n",
    "\n",
    "print(a)"
   ]
  },
  {
   "cell_type": "code",
   "execution_count": 5,
   "metadata": {},
   "outputs": [
    {
     "name": "stdout",
     "output_type": "stream",
     "text": [
      "[1, 2, 5, 6, 7, 8]\n"
     ]
    }
   ],
   "source": [
    "#metodo.remove()\n",
    "\n",
    "listanuova = [1,2,4,5,6,7,8]\n",
    "\n",
    "listanuova.remove(4)\n",
    "\n",
    "print(listanuova)"
   ]
  },
  {
   "cell_type": "code",
   "execution_count": null,
   "metadata": {},
   "outputs": [
    {
     "name": "stdout",
     "output_type": "stream",
     "text": [
      "6\n",
      "[1, 2, 4, 7]\n"
     ]
    }
   ],
   "source": [
    "#metodo.pop()\n",
    "\n",
    "oido = [1,2,4,6,7]\n",
    "\n",
    "print(oido.pop(3))\n",
    "print(oido)"
   ]
  },
  {
   "cell_type": "code",
   "execution_count": 8,
   "metadata": {},
   "outputs": [
    {
     "name": "stdout",
     "output_type": "stream",
     "text": [
      "[1, 'ciao', 4, 5, 6]\n"
     ]
    }
   ],
   "source": [
    "#modificare una lista con uno slice\n",
    "\n",
    "croporc = [1,2,3,4,5,6]\n",
    "\n",
    "croporc[1:3] = [\"ciao\"]\n",
    "\n",
    "print(croporc)"
   ]
  },
  {
   "cell_type": "code",
   "execution_count": 12,
   "metadata": {},
   "outputs": [
    {
     "name": "stdout",
     "output_type": "stream",
     "text": [
      "[0, 1, 2, 3, 4, 6, 8, 34, 145, 1233]\n"
     ]
    }
   ],
   "source": [
    "#Ordinare una lista con .sort()\n",
    "\n",
    "naggialamadon = [1,2,3,4,6,8,0,145,34,1233]\n",
    "\n",
    "naggialamadon.sort()\n",
    "\n",
    "print(naggialamadon)"
   ]
  },
  {
   "cell_type": "code",
   "execution_count": 18,
   "metadata": {},
   "outputs": [
    {
     "name": "stdout",
     "output_type": "stream",
     "text": [
      "2415905247232\n",
      "2415905247232\n"
     ]
    }
   ],
   "source": [
    "#Ordinare una lista con .sorted()\n",
    "\n",
    "odino = [4,5,6,8,2]\n",
    "print(id(odino))\n",
    "sorted(odino)\n",
    "print(id(odino))\n"
   ]
  },
  {
   "cell_type": "code",
   "execution_count": 22,
   "metadata": {},
   "outputs": [
    {
     "name": "stdout",
     "output_type": "stream",
     "text": [
      "[1, 2, 3, 4, 5, 6, 7, 8, 92, 3]\n"
     ]
    }
   ],
   "source": [
    "#metodo extend()\n",
    "\n",
    "pisellino = [1,2,3,4,5]\n",
    "pisellotto = [6,7,8,92,3]\n",
    "\n",
    "pisellino.extend(pisellotto)\n",
    "\n",
    "print(pisellino)"
   ]
  },
  {
   "cell_type": "code",
   "execution_count": null,
   "metadata": {},
   "outputs": [],
   "source": []
  }
 ],
 "metadata": {
  "kernelspec": {
   "display_name": "Python 3",
   "language": "python",
   "name": "python3"
  },
  "language_info": {
   "codemirror_mode": {
    "name": "ipython",
    "version": 3
   },
   "file_extension": ".py",
   "mimetype": "text/x-python",
   "name": "python",
   "nbconvert_exporter": "python",
   "pygments_lexer": "ipython3",
   "version": "3.13.2"
  }
 },
 "nbformat": 4,
 "nbformat_minor": 2
}
