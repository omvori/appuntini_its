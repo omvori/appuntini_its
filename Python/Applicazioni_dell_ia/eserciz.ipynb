{
 "cells": [
  {
   "cell_type": "code",
   "execution_count": null,
   "id": "e81725a1",
   "metadata": {},
   "outputs": [],
   "source": [
    "from crewai import Agent\n",
    "from crewai_tools import SerperDevTool,PDFSearchTool\n",
    "from crewai import LLM\n"
   ]
  },
  {
   "cell_type": "code",
   "execution_count": null,
   "id": "0ef19d49",
   "metadata": {},
   "outputs": [],
   "source": [
    "\n",
    "search_tool = SerperDevTool(n_results=3)"
   ]
  },
  {
   "cell_type": "code",
   "execution_count": null,
   "id": "92ef61bb",
   "metadata": {},
   "outputs": [],
   "source": [
    "\n",
    "\n",
    "# Create an agent with all available parameters\n",
    "agent = Agent(\n",
    "    role=\"Topic Analysist\",\n",
    "    goal=\"Using the tool that i gave to you analyze and interpret complex datasets to provide actionable insights\",\n",
    "    backstory=\"With over 10 years of experience in data science and machine learning, \"\n",
    "              \"you excel at finding patterns in complex datasets.\",\n",
    "    llm=ollama_llm, \n",
    "    tools=[SerperDevTool()],\n",
    "    verbose=True\n",
    ")"
   ]
  },
  {
   "cell_type": "code",
   "execution_count": null,
   "id": "329f2a47",
   "metadata": {},
   "outputs": [],
   "source": [
    "result = agent.kickoff(\"Chi è Kenan Yildiz\")\n",
    "\n",
    "print(result.raw)"
   ]
  },
  {
   "cell_type": "markdown",
   "id": "3aefa178",
   "metadata": {},
   "source": [
    " Provare in autonomia a creare una crew con un solo agente ed un solo task, con crewAI in un file .py/.ipynb con la configurazione che si preferisce, in modo che esegua la ricerca a piacere su di un file PDF (https://www.its-ictacademy.com/wp-content/uploads/2024/10/Regolamento-Iscrizioni-1.66fd1de210a445.09813304.pdf) tramite il tool PDFSearchTool configurato con llm ed embedder locale.\n"
   ]
  },
  {
   "cell_type": "code",
   "execution_count": null,
   "id": "42dcd111",
   "metadata": {},
   "outputs": [],
   "source": [
    "ollama_llm= LLM(model=\"ollama/qwen3:8b\",base_url=\"http://localhost:11434\")\n",
    "\n"
   ]
  },
  {
   "cell_type": "code",
   "execution_count": null,
   "id": "29a5eb59",
   "metadata": {},
   "outputs": [],
   "source": [
    "tool = PDFSearchTool(\n",
    "    config=dict(\n",
    "        llm=dict(\n",
    "            provider=\"ollama\", # or google, openai, anthropic, llama2, ...\n",
    "            config=dict(\n",
    "                model=\"bge-m3:latest\",\n",
    "                # temperature=0.5,\n",
    "                # top_p=1,\n",
    "                # stream=true,\n",
    "            ),\n",
    "        ),\n",
    "        embedder=dict(\n",
    "            provider=\"google\", # or openai, ollama, ...\n",
    "            config=dict(\n",
    "                model=\"models/bge-m3:latest\",\n",
    "                # title=\"Embeddings\",\n",
    "            ),\n",
    "        ),\n",
    "    )\n",
    ")"
   ]
  },
  {
   "cell_type": "markdown",
   "id": "5680be2b",
   "metadata": {},
   "source": [
    "## Es 2\n"
   ]
  },
  {
   "cell_type": "code",
   "execution_count": null,
   "id": "ab61a6d0",
   "metadata": {},
   "outputs": [],
   "source": [
    "from crewai import Agent, Crew, Task, Process\n",
    "\n",
    "agent_one = Agent (\n",
    "            role=\"Researcher\",\n",
    "            goal=\"Synopsis specialist, expert, actors and details about the {film}\",\n",
    "            backstory=\"A diligent researcher with a keen eye for detail\",\n",
    "            llm=ollama_llm,\n",
    "            verbose=True,\n",
    "            tools=[SerperDevTool()]\n",
    "        )\n",
    "\n",
    "agent_two = Agent(\n",
    "            role=\"Cinematographic critique\",\n",
    "            goal=\"Expert about the analysis and rewiew about {film}\",\n",
    "            backstory=\"A diligent researcher with a keen eye for detail\",\n",
    "            llm=ollama_llm,\n",
    "            verbose=True\n",
    "        )\n",
    "\n",
    "task_1 = Task(\n",
    "            description=\"Search the informations about the movie, informations about actors, and very deep details and trivia's about the movie\",\n",
    "            expected_output=\"A text with the summarized informations obtained in the research\",\n",
    "            agent=agent_one\n",
    "        )\n",
    "\n",
    "task_2 = Task(\n",
    "            description=\"Use the output of the Researcher to create a review about the movie in question\",\n",
    "            expected_output=\"A text with the review of the film, analyzed in details and with the focus on what could be improved\",\n",
    "            agent=agent_two\n",
    "        )\n",
    "\n",
    "\n"
   ]
  },
  {
   "cell_type": "code",
   "execution_count": null,
   "id": "22ec8206",
   "metadata": {},
   "outputs": [],
   "source": [
    "crew = Crew(\n",
    "            agents=[agent_one, agent_two],\n",
    "            tasks=[task_1, task_2],\n",
    "            process=Process.sequential,\n",
    "            verbose=True\n",
    "        )\n",
    "    "
   ]
  },
  {
   "cell_type": "code",
   "execution_count": null,
   "id": "f4aa3251",
   "metadata": {},
   "outputs": [],
   "source": [
    "input_films = {\"film\":\"Inception\"}\n",
    "\n",
    "result = crew.kickoff(inputs=input_films)\n",
    "\n",
    "print(result.raw)"
   ]
  },
  {
   "cell_type": "markdown",
   "id": "f82ec914",
   "metadata": {},
   "source": [
    "## ES 3\n"
   ]
  },
  {
   "cell_type": "code",
   "execution_count": null,
   "id": "ad8f2959",
   "metadata": {},
   "outputs": [],
   "source": [
    "ollama_llm= LLM(model=\"ollama/qwen3:8b\",base_url=\"http://localhost:11434\")"
   ]
  },
  {
   "cell_type": "markdown",
   "id": "0aaa95bf",
   "metadata": {},
   "source": []
  },
  {
   "cell_type": "code",
   "execution_count": null,
   "id": "087533ff",
   "metadata": {},
   "outputs": [],
   "source": [
    "import os\n",
    "from crewai import Agent, Task, Crew, Process\n",
    "\n",
    "# Define the manager agent\n",
    "manager = Agent(\n",
    "    role=\"Project Manager\",\n",
    "    goal=\"Efficiently manage the crew and ensure high-quality task completion\",\n",
    "    backstory=\"You're an experienced project manager, skilled in overseeing complex projects and guiding teams to success. Your role is to coordinate the efforts of the crew members, ensuring that each task is completed on time and to the highest standard.\",\n",
    "    llm=ollama_llm,\n",
    "    allow_code_execution=False,\n",
    ")\n",
    "\n",
    "# Define your agents\n",
    "developer = Agent(\n",
    "    role=\"Developer\",\n",
    "    goal=\"Writing an efficent and computational efficent code line, without \",\n",
    "    backstory=\"You're an expert programmer, specialized in various programming language.\",\n",
    "    llm=ollama_llm,\n",
    "    allow_code_execution=False\n",
    ")\n",
    "\n",
    "tester = Agent(\n",
    "    role=\"Tester\",\n",
    "    goal=\"identifying the errors in the code line,without letting the code go in error.\",\n",
    "    backstory=\"You are an old programmer, experienced in your task. You are one of the best code reviewers in the company\",\n",
    "    llm=ollama_llm,\n",
    "    allow_code_execution=False\n",
    ")\n",
    "\n",
    "# Define your task\n",
    "task_1 = Task(\n",
    "    description=\"delegating the other agents in writing the code task in an efficent way\",\n",
    "    expected_output=\"a full workflow with the other agents,and also a full line of code without any error\",\n",
    "    agent=manager   \n",
    ")\n",
    "\n",
    "task_2 = Task(\n",
    "    description=\"Writing the {code} at the given input\",\n",
    "    expected_output=\"some full code lines written by the agents, without any errors. The line of codes should run without any interruption\",\n",
    "    agent=developer   \n",
    ")\n",
    "\n",
    "\n",
    "task_3= Task(\n",
    "    description=\"the agent should review the code from the developer agent to search for any errors and fix them\",\n",
    "    expected_output=\"it should return a full line of code without any errors, and some advices to increase the performances\",\n",
    "    agent=tester\n",
    ")\n",
    "\n",
    "\n",
    "\n",
    "\n",
    "\n",
    "# Instantiate your crew with a custom manager\n",
    "crew = Crew(\n",
    "    agents=[developer, tester],\n",
    "    tasks=[task_3,task_2,task_1],\n",
    "    manager_agent=manager,\n",
    "    process=Process.hierarchical,\n",
    "    verbose=True\n",
    ")\n"
   ]
  },
  {
   "cell_type": "code",
   "execution_count": null,
   "id": "339956a5",
   "metadata": {},
   "outputs": [],
   "source": [
    "input_code = {\"code\":\"a program that sums the first 10 numbers between 1 an 10\"}\n",
    "\n",
    "result = crew.kickoff(inputs=input_code)\n",
    "\n",
    "print(result)"
   ]
  },
  {
   "cell_type": "markdown",
   "id": "63aac45d",
   "metadata": {},
   "source": [
    "## Es Knowledge\n"
   ]
  },
  {
   "cell_type": "code",
   "execution_count": null,
   "id": "7bbdb3df",
   "metadata": {},
   "outputs": [],
   "source": [
    "from crewai.knowledge.source.string_knowledge_source import StringKnowledgeSource"
   ]
  },
  {
   "cell_type": "code",
   "execution_count": null,
   "id": "62a806c1",
   "metadata": {},
   "outputs": [],
   "source": [
    "\n",
    "content1 = \"Users name is Andrea. He is 24 years old and lives in Civitavecchia.\"\n",
    "string_source = StringKnowledgeSource(content=content1)"
   ]
  },
  {
   "cell_type": "code",
   "execution_count": null,
   "id": "640d5c51",
   "metadata": {},
   "outputs": [],
   "source": [
    "ollama_llm= LLM(model=\"ollama/bge-m3\",base_url=\"http://localhost:11434\")"
   ]
  },
  {
   "cell_type": "code",
   "execution_count": null,
   "id": "ee1b3e01",
   "metadata": {},
   "outputs": [],
   "source": [
    "agent = Agent(\n",
    "    role=\"About User\",\n",
    "    goal=\"You know everything about the user.\",\n",
    "    backstory=\"You are a master at understanding people and their preferences.\",\n",
    "    verbose=True,\n",
    "    allow_delegation=False,\n",
    "    llm=ollama_llm,\n",
    "    embedder={\n",
    "        \"provider\":\"ollama\", \"url\":\"http://localhost:11434/api/embeddings\",'model_name':\"bge-m3\"\n",
    "    }\n",
    ")\n",
    "\n",
    "\n",
    "task = Task(\n",
    "    description=\"Answer the following question {question}\",\n",
    "    expected_output=\"An answer to the question\",\n",
    "    agent=agent\n",
    "    \n",
    ")\n",
    "\n",
    "\n",
    "crew = Crew(\n",
    "    agents=[agent],\n",
    "    tasks=[task],\n",
    "    verbose=True,\n",
    "    process=Process.sequential,\n",
    "    knowledge_sources=[string_source], # Enable knowledge by adding the sources here\n",
    ")\n"
   ]
  },
  {
   "cell_type": "code",
   "execution_count": null,
   "id": "cbcf02fc",
   "metadata": {},
   "outputs": [],
   "source": [
    "result = crew.kickoff(inputs={\"question\": \"What city does Andrea live in and how old is he?\"})"
   ]
  },
  {
   "cell_type": "markdown",
   "id": "b7556965",
   "metadata": {},
   "source": [
    "## Es 4"
   ]
  },
  {
   "cell_type": "code",
   "execution_count": null,
   "id": "32cf3673",
   "metadata": {},
   "outputs": [],
   "source": [
    "from crewai import Agent,Task,Crew\n",
    "from crewai_tools import SerperDevTool\n",
    "from crewai import LLM,Process\n",
    "\n",
    "ollama_llm= LLM(model=\"ollama/qwen3:0.6b\",base_url=\"http://localhost:11434\")"
   ]
  },
  {
   "cell_type": "code",
   "execution_count": null,
   "id": "28d65460",
   "metadata": {},
   "outputs": [],
   "source": [
    "tool = SerperDevTool()"
   ]
  },
  {
   "cell_type": "code",
   "execution_count": null,
   "id": "781b2b32",
   "metadata": {},
   "outputs": [],
   "source": [
    "logic = Agent(\n",
    "    role=\"logic\",\n",
    "    goal=\"You must analyze the problem and find a logical solution for it, you must work in a logical and direct way\",\n",
    "    backstory=\"You solved thousand of logical problems,you are an expert in this field and find amusing how simple these logical problems can be,everyone trust your judgment, but you also rely on others to find a collective solution\",\n",
    "    allow_delegation=True,\n",
    "    tools=[SerperDevTool()]\n",
    "\n",
    ")\n",
    "\n",
    "lathink = Agent(\n",
    "    role=\"Lateral Thinker\",\n",
    "    goal=\"You must find solutions out of the common schemes. You must reason with unusual ways of thinking but efficent\",\n",
    "    backstory=\"You are an expert in finding solutions out of nowhere to complex problem, you tend to reasonate in a way called out of the box and you bring to the solution an important factor that is the imprevidibility\",\n",
    "    allow_delegation=True,\n",
    "    tool=[SerperDevTool()]\n",
    ")\n",
    "\n",
    "task = Task(\n",
    "    description=\"Solve the enigma = im tall when im young, but im short when im older,what am i?\",\n",
    "    expected_output=\"a string containing the solution of the enigma and the whole process of thinking between the two agents\",\n",
    "    agent=logic\n",
    ")\n",
    "\n",
    "\n",
    "\n",
    "thinkers = Crew(\n",
    "    agents=[logic,lathink],\n",
    "    tasks=[task],\n",
    "    process=Process.sequential,\n",
    "    verbose=True\n",
    "    \n",
    ")"
   ]
  },
  {
   "cell_type": "code",
   "execution_count": null,
   "id": "99b7dae3",
   "metadata": {},
   "outputs": [],
   "source": [
    "result = thinkers.kickoff()"
   ]
  },
  {
   "cell_type": "markdown",
   "id": "c7973bed",
   "metadata": {},
   "source": [
    "\n",
    "## Es 5 "
   ]
  },
  {
   "cell_type": "code",
   "execution_count": 17,
   "id": "20f09243",
   "metadata": {},
   "outputs": [],
   "source": [
    "from crewai import Agent,Task,Crew\n",
    "from crewai_tools import SerperDevTool\n",
    "from crewai import LLM,Process\n",
    "\n",
    "ollama_llm= LLM(model=\"ollama/qwen3:0.6b\",base_url=\"http://localhost:11434\")\n",
    "tool = SerperDevTool()"
   ]
  },
  {
   "cell_type": "code",
   "execution_count": null,
   "id": "cce2dfa7",
   "metadata": {},
   "outputs": [
    {
     "ename": "SyntaxError",
     "evalue": "invalid syntax. Perhaps you forgot a comma? (6661935.py, line 6)",
     "output_type": "error",
     "traceback": [
      "  \u001b[36mCell\u001b[39m\u001b[36m \u001b[39m\u001b[32mIn[18]\u001b[39m\u001b[32m, line 6\u001b[39m\n\u001b[31m    \u001b[39m\u001b[31mverbose=True\u001b[39m\n            ^\n\u001b[31mSyntaxError\u001b[39m\u001b[31m:\u001b[39m invalid syntax. Perhaps you forgot a comma?\n"
     ]
    }
   ],
   "source": [
    "researcher = Agent(\n",
    "    role=\"Researcher\",\n",
    "    goal=\"Recollect some interesting facts about the {topic} given and pass them to your colleagues\",\n",
    "    backstory=\"You are a specialist in researching informations, you gather all reliable sources and you are an expert in summarizing everything if its too long\",\n",
    "    tools=[SerperDevTool()],\n",
    "    verbose=True\n",
    "    allow_delegation=True,\n",
    ")\n",
    "\n",
    "writer = Agent(\n",
    "    role=\"Writer\",\n",
    "    goal=\"Write a 3 paragraph essay using the data given by your colleague\",\n",
    "    backstory=\"you are an excellent writer, you master the grammar really well and make no errors in logic and syntax, you are efficent and can even use complex words that fit the meaning of the whole paragraph. You do really well in writing long paragraphs too\",\n",
    "    tools=[SerperDevTool()]\n",
    "    verbose=True,\n",
    "    allow_delegation=True\n",
    ")\n",
    "\n",
    "editor = Agent(\n",
    "    role=\"Editor\",\n",
    "    goal=\"you must take the paragraph given by your colleagues and publish it in a file named blog_post.txt\",\n",
    "    backstory=\"You are an esteemed publisher, you published thousands of works for your website\",\n",
    "    tools=[SerperDevTool()],\n",
    "    verbose=True,\n",
    "    allow_delegation=True\n",
    ")\n",
    "\n",
    "\n",
    "task_1 = Task(\n",
    "    description=\"Recollect 3 or 4 interesting facts about the {topic} given\",\n",
    "    expected_output=\"A wall of text to give to your colleagues, without any errors\",\n",
    "    agent=researcher\n",
    "\n",
    ")\n",
    "\n",
    "\n",
    "task_2 = Task(\n",
    "    description=\"Write a 2 or 3 paragraph essay using the material that your colleagues gave you\",\n",
    "    expected_output=\"2 or 3 paragraphs of text\",\n",
    "    agent=writer\n",
    "\n",
    ")\n",
    "\n",
    "task_3 = Task(\n",
    "    description=\"take the paragraphs that your colleague wrote and save it in a file called blog_post.txt\",\n",
    "    expected_output=\"a saved file called blog_post.txt with the paragraphs of text in it\",\n",
    "    agent=editor\n",
    "    output_file=\n",
    "\n",
    ")\n",
    "\n"
   ]
  },
  {
   "cell_type": "markdown",
   "id": "d73d18fb",
   "metadata": {},
   "source": [
    "## Es 6"
   ]
  },
  {
   "cell_type": "code",
   "execution_count": null,
   "id": "29dcf31a",
   "metadata": {},
   "outputs": [],
   "source": [
    "from crewai import Agent,Task,Crew\n",
    "from crewai_tools import ScrapeWebsiteTool\n",
    "from crewai import LLM,Process\n"
   ]
  },
  {
   "cell_type": "code",
   "execution_count": null,
   "id": "3f6c530c",
   "metadata": {},
   "outputs": [],
   "source": [
    "ollama_llm= LLM(model=\"ollama/qwen3:8b\",base_url=\"http://localhost:11434\")\n",
    "tool = ScrapeWebsiteTool()\n",
    "tool = ScrapeWebsiteTool(website_url=(\"https://www.laziodigital.it/artificial-intelligence-and-data-science-specialist/\"))\n"
   ]
  },
  {
   "cell_type": "code",
   "execution_count": null,
   "id": "b61f8ce0",
   "metadata": {},
   "outputs": [],
   "source": [
    "webagent = Agent(\n",
    "    role=\"Web Scraper\",\n",
    "    goal=\"analyze and extract information requested by the user. The informations are contained in {info} and return them in a clear way without missing any word\",\n",
    "    backstory=\"You are a professional web scraper, like google you provide informations in the question asked, you are clear and fast\",\n",
    "    llm=ollama_llm,\n",
    "    tools=[tool],\n",
    "    embedder={\n",
    "        \"provider\":\"ollama\", \"url\":\"http://localhost:11434/api/embeddings\",'model_name':\"bge-m3\"\n",
    "    },\n",
    "    verbose=True,\n",
    "\n",
    ")\n",
    "\n",
    "task = Task(\n",
    "    description=\"you must analyze the {info} and scrape the website searching around the informations reguarding the requested information\",\n",
    "    expected_output=\"a clear text information extracted from the website\",\n",
    "    agent=webagent\n",
    "\n",
    ")\n",
    "\n",
    "crew = Crew(\n",
    "    agents=[agent],\n",
    "    tasks=[task]\n",
    "    \n",
    ")\n",
    "\n",
    "\n",
    "\n"
   ]
  },
  {
   "cell_type": "code",
   "execution_count": null,
   "id": "418cb005",
   "metadata": {},
   "outputs": [],
   "source": [
    "result = crew.kickoff()"
   ]
  },
  {
   "cell_type": "code",
   "execution_count": null,
   "id": "206b2799",
   "metadata": {},
   "outputs": [],
   "source": []
  }
 ],
 "metadata": {
  "kernelspec": {
   "display_name": "ai_app (3.12.3)",
   "language": "python",
   "name": "python3"
  },
  "language_info": {
   "codemirror_mode": {
    "name": "ipython",
    "version": 3
   },
   "file_extension": ".py",
   "mimetype": "text/x-python",
   "name": "python",
   "nbconvert_exporter": "python",
   "pygments_lexer": "ipython3",
   "version": "3.12.3"
  }
 },
 "nbformat": 4,
 "nbformat_minor": 5
}
