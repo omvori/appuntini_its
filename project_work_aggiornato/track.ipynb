{
 "cells": [
  {
   "cell_type": "markdown",
   "id": "458d5423",
   "metadata": {},
   "source": [
    "# TRACCIA\n",
    "\n",
    "Sviluppare una crew o un flusso che sia in grado di leggere e scrivere su un database postgres al fine di gestire un processo di prenotazione di un volo aereo da registrare su db e salvare in formato JSON.\n",
    "\n",
    "## Processo da seguire **OBBLIGATORIAMENTE**:\n",
    "\n",
    "### 1. Creare un Database\n",
    "- Creare uno schema pulito\n",
    "- Almeno 2 tabelle relazionate contenenti info relative alla traccia\n",
    "- 1 tabella per inserire le prenotazioni utilizzando come chiave esterna almeno una chiave primaria delle tabelle create in precedenza\n",
    "\n",
    "### 2. Creare un Sistema Multiagente **FUNZIONANTE**\n",
    "- **Crew** +20 pt\n",
    "- **Flow** +40 pt\n",
    "- Con almeno 2 agents e 2 tasks\n",
    "\n",
    "## Implementazioni facoltative:\n",
    "\n",
    "| Punto | Descrizione | Punti |\n",
    "|-------|-------------|-------|\n",
    "| 1 | Utilizzo di task condizionali | +5 pt |\n",
    "| 2 | Creazione Flow contenente @router | +5 pt |\n",
    "| 3 | Utilizzo almeno 2 BaseModels tra state ed agents | +10 pt |\n",
    "| 4 | Creazione di un tool customizzato | +5 pt |\n",
    "| 5 | Implementazione knowledge o RAG | +10 pt |\n",
    "| 6 | Struttura della crew o flow conforme ad una creata tramite apposito comando | +10 pt |\n",
    "| 7 | Utilizzo guardrails | +5 pt |\n",
    "| 8 | Consegna PowerPoint/PDF con presentazione tecnica del progetto | +10 pt |\n",
    "\n",
    "## Materiale da consegnare:\n",
    "\n",
    "Folder chiamato `COGNOME_NOME` contenente:\n",
    "\n",
    "- Screenshots delle tabelle del db (quella in cui inserite la prenotazione prima e dopo l'insert)\n",
    "- Screenshot della query di insert eseguita durante l'esecuzione del sistema multilagente\n",
    "- Folder o script del codice\n",
    "- Eventuale presentazione\n",
    "- File.json della prenotazione effettuata\n",
    "- File.txt in cui elencate tutti i punti facoltativi svolti\n",
    "\n",
    "---\n",
    "\n"
   ]
  }
 ],
 "metadata": {
  "language_info": {
   "name": "python"
  }
 },
 "nbformat": 4,
 "nbformat_minor": 5
}
