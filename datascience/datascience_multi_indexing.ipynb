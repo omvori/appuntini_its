{
 "cells": [
  {
   "cell_type": "code",
   "execution_count": 1,
   "id": "6323257b",
   "metadata": {},
   "outputs": [
    {
     "name": "stdout",
     "output_type": "stream",
     "text": [
      "Vendite    750\n",
      "dtype: int64\n",
      "              Vendite\n",
      "Azienda Anno         \n",
      "A       2023      100\n",
      "        2024      150\n",
      "B       2023      200\n",
      "        2024      130\n",
      "C       2024      170\n"
     ]
    }
   ],
   "source": [
    "import pandas as pd\n",
    "\n",
    "#groupby\n",
    " \n",
    "data = {\n",
    "    'Azienda': ['A', 'A', 'B', 'B', 'C'],\n",
    "    'Vendite': [100, 150, 200, 130, 170],\n",
    "    'Anno': [2023, 2024, 2023, 2024, 2024]\n",
    "}\n",
    "df = pd.DataFrame(data)\n",
    "\n",
    "grouped = df.groupby(['Azienda','Anno',]).sum()\n",
    "\n",
    "print(grouped.sum())\n",
    "\n",
    "print(grouped)\n"
   ]
  },
  {
   "cell_type": "code",
   "execution_count": 18,
   "id": "3b9e87cf",
   "metadata": {},
   "outputs": [
    {
     "name": "stdout",
     "output_type": "stream",
     "text": [
      "                        Sales             Quantity         \n",
      "                          sum   mean  max      sum mean max\n",
      "City        Category                                       \n",
      "Chicago     Clothing      220  220.0  220        8  8.0   8\n",
      "            Electronics   300  300.0  300        6  6.0   6\n",
      "Los Angeles Clothing      450  225.0  250       12  6.0   7\n",
      "            Electronics   270  270.0  270        9  9.0   9\n",
      "New York    Clothing      180  180.0  180        4  4.0   4\n",
      "            Electronics   250  125.0  150        5  2.5   3\n"
     ]
    }
   ],
   "source": [
    "df = pd.DataFrame({\n",
    "    'City': ['New York', 'Los Angeles', 'New York', 'Los Angeles',\n",
    "             'Chicago', 'New York', 'Chicago', 'Los Angeles'],\n",
    "    'Category': ['Electronics', 'Clothing', 'Electronics', 'Clothing',\n",
    "                 'Electronics', 'Clothing', 'Clothing', 'Electronics'],\n",
    "    'Sales': [100, 200, 150, 250, 300, 180, 220, 270],\n",
    "    'Quantity': [2, 5, 3, 7, 6, 4, 8, 9]\n",
    "})\n",
    "\n",
    "grouped2 = df.groupby(['City','Category']).agg({\n",
    "    'Sales': ['sum','mean','max'],\n",
    "    'Quantity':['sum','mean','max']\n",
    "})\n",
    "\n",
    "print(grouped2)\n"
   ]
  },
  {
   "cell_type": "code",
   "execution_count": null,
   "id": "630b5da5",
   "metadata": {},
   "outputs": [],
   "source": [
    "#multi index per le righe\n",
    "import numpy as np\n",
    "\n",
    "index = pd.MultiIndex.from_product(\n",
    "    [\n",
    "        ['Italia', 'Francia', 'Germania'],\n",
    "        ['Nord', 'Centro', 'Sud'],\n",
    "        [2021, 2022]\n",
    "        \n",
    "    ],\n",
    "    names=['Paese', 'Regione', 'Anno']\n",
    "    \n",
    ")\n",
    "\n",
    "df = pd.DataFrame(\n",
    "    np.random.randn(18,2),\n",
    "    index = index,\n",
    "    columns=['Vendite','Costi']\n",
    ")\n",
    "\n",
    "#print(df)\n",
    "\n",
    "\n",
    "#slicing con multi_index\n",
    "\n",
    "italia_data = df.loc['Italia']\n",
    "print(\"\\nDati italiani : \\n\",italia_data)\n",
    "\n",
    "#selezionare i dati del 'Nord' di tutti i paesi\n",
    "\n",
    "nord_data = df.xs('Nord',level='Regione')\n",
    "print(\"\\n Dati nordici : \")\n",
    "print(nord_data)\n",
    "\n",
    "#selezionare i dati del 2022 per la francia\n",
    "\n",
    "francia_2022 = df.loc[('Francia',slice(None),2022)]\n",
    "print(\"\\n Dati Francia 2022 : \")\n",
    "print(francia_2022)\n",
    "\n",
    "\n",
    "\n",
    "####aggregazione dati####\n",
    "\n",
    "#media delle vendite per paese\n",
    "\n",
    "vendite_medie_paese = df['Vendite'].groupby(level = 'Paese').mean()\n",
    "print(\"\\nVendite medie per paese : \")\n",
    "print(vendite_medie_paese)\n",
    "\n",
    "#somma dei costi per regione e anno\n",
    "\n",
    "cost_xregione_anno = df['Costi'].groupby(level= ['Regione','Anno']).sum()\n",
    "print(\"\\nCosti tot per regione e anno : \")\n",
    "print(cost_xregione_anno)\n",
    "\n",
    "####pivoting e unstacking####\n",
    "\n",
    "#trasformare il multi_index in colonne\n",
    "\n",
    "df_unstacked = df.unstack(level='Anno')\n",
    "print(\"\\nDataFrame con anno come colonna : \")\n",
    "print(df_unstacked)\n",
    "\n",
    "#pivoting su più livelli\n",
    "\n",
    "df_pivoted = df.unstack(['Regione','Anno'])\n",
    "print(\"\\nDataFrame Pivotato : \")\n",
    "print(df_pivoted)"
   ]
  },
  {
   "cell_type": "code",
   "execution_count": null,
   "id": "c518c225",
   "metadata": {},
   "outputs": [],
   "source": [
    "#Aggiungere un nuovo livello all'indice\n",
    "\n",
    "df_copy = df.copy() #crea una copia del df\n",
    "df_copy['Settore'] = ['Retail','Online']*9 #aggiunge una colonna settore con valori \n",
    "#moltiplicati per 9 volte(18 in tutto)\n",
    "df_with_sector = df_copy.set_index('Settore',append = True) #setta l'indice 'Settore' appendendolo,senza rimuovere altri indici\n",
    "\n",
    "print(df_with_sector)\n"
   ]
  },
  {
   "cell_type": "code",
   "execution_count": null,
   "id": "ff9e01ce",
   "metadata": {},
   "outputs": [
    {
     "name": "stdout",
     "output_type": "stream",
     "text": [
      "                      Vendite     Costi Settore\n",
      "Paese  Regione Anno                            \n",
      "Italia Nord    2021 -1.909589  1.207953  Retail\n",
      "               2022 -0.504064 -1.029907  Online\n",
      "       Centro  2021 -0.891530 -0.193014  Retail\n",
      "               2022 -1.278400  0.358996  Online\n",
      "       Sud     2021  0.437026 -0.181644  Retail\n",
      "                      Vendite     Costi\n",
      "Anno Paese  Regione                    \n",
      "2021 Italia Nord    -1.909589  1.207953\n",
      "2022 Italia Nord    -0.504064 -1.029907\n",
      "2021 Italia Centro  -0.891530 -0.193014\n",
      "2022 Italia Centro  -1.278400  0.358996\n",
      "2021 Italia Sud      0.437026 -0.181644\n"
     ]
    }
   ],
   "source": [
    "#riordinare i livelli dell'indice\n",
    "\n",
    "df_rordered = df.reorder_levels(['Anno','Paese','Regione'])\n",
    "\n",
    "print(df_rordered.head())"
   ]
  },
  {
   "cell_type": "code",
   "execution_count": 63,
   "id": "50d4a0c3",
   "metadata": {},
   "outputs": [
    {
     "name": "stdout",
     "output_type": "stream",
     "text": [
      "                       Vendite     Costi\n",
      "Nazione  Area   Anno                    \n",
      "Italia   Nord   2021 -1.909589  1.207953\n",
      "                2022 -0.504064 -1.029907\n",
      "         Centro 2021 -0.891530 -0.193014\n",
      "                2022 -1.278400  0.358996\n",
      "         Sud    2021  0.437026 -0.181644\n",
      "                2022  1.623183 -0.908492\n",
      "Francia  Nord   2021 -0.605234 -0.916954\n",
      "                2022  1.691302 -0.525666\n",
      "         Centro 2021  0.375654 -0.546822\n",
      "                2022 -0.181451 -0.502346\n",
      "         Sud    2021 -0.865731 -0.571491\n",
      "                2022 -1.871112  0.003648\n",
      "Germania Nord   2021  0.229877  0.449836\n",
      "                2022 -0.146483 -0.620039\n",
      "         Centro 2021  0.442038  0.119953\n",
      "                2022  0.030323  1.901474\n",
      "         Sud    2021 -1.926280  0.897707\n",
      "                2022 -1.359244 -0.925986\n",
      "                 Vendite     Costi\n",
      "Paese  Regione                    \n",
      "Italia Nord    -1.909589  1.207953\n",
      "       Nord    -0.504064 -1.029907\n",
      "       Centro  -0.891530 -0.193014\n",
      "       Centro  -1.278400  0.358996\n",
      "       Sud      0.437026 -0.181644\n"
     ]
    }
   ],
   "source": [
    "#rinominare i livelli dell'indice\n",
    "\n",
    "df_renamed = df.rename_axis(index ={'Paese':'Nazione','Regione':'Area'})\n",
    "\n",
    "print(df_renamed)\n",
    "\n",
    "#rimuovere un livello\n",
    "\n",
    "df_droplevelel = df.droplevel('Anno')\n",
    "\n",
    "print(df_droplevelel.head())"
   ]
  },
  {
   "cell_type": "code",
   "execution_count": null,
   "id": "ce273b51",
   "metadata": {},
   "outputs": [],
   "source": []
  }
 ],
 "metadata": {
  "kernelspec": {
   "display_name": "datasciencevenv",
   "language": "python",
   "name": "python3"
  },
  "language_info": {
   "codemirror_mode": {
    "name": "ipython",
    "version": 3
   },
   "file_extension": ".py",
   "mimetype": "text/x-python",
   "name": "python",
   "nbconvert_exporter": "python",
   "pygments_lexer": "ipython3",
   "version": "3.12.0"
  }
 },
 "nbformat": 4,
 "nbformat_minor": 5
}
