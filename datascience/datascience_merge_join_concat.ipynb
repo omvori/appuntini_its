{
 "cells": [
  {
   "cell_type": "code",
   "execution_count": null,
   "id": "6b731ac4",
   "metadata": {},
   "outputs": [
    {
     "name": "stdout",
     "output_type": "stream",
     "text": [
      "  key  val1\n",
      "0   A     1\n",
      "1   B     2\n",
      "2   C     3\n",
      "  key  val2\n",
      "0   B     4\n",
      "1   C     5\n",
      "2   D     6\n",
      "\n",
      "Inner Join :  \n",
      "  key  val1  val2\n",
      "0   B     2     4\n",
      "1   C     3     5\n",
      "\n",
      "Outer Join :  \n",
      "  key  val1  val2\n",
      "0   A   1.0   NaN\n",
      "1   B   2.0   4.0\n",
      "2   C   3.0   5.0\n",
      "3   D   NaN   6.0\n",
      "\n",
      "Left Join :  \n",
      "  key  val1  val2\n",
      "0   A     1   NaN\n",
      "1   B     2   4.0\n",
      "2   C     3   5.0\n",
      "\n",
      "Right Join :  \n",
      "  key  val1  val2\n",
      "0   B   2.0     4\n",
      "1   C   3.0     5\n",
      "2   D   NaN     6\n"
     ]
    }
   ],
   "source": [
    "#funzioni avanzate, merge, joining, concatenating\n",
    "\n",
    "import pandas as pd\n",
    "\n",
    "#merge\n",
    "\n",
    "df_left = pd.DataFrame({'key' : ['A','B','C'],'val1':[1,2,3]})\n",
    "df_right = pd.DataFrame({'key' : ['B','C','D'],'val2':[4,5,6]})\n",
    "\n",
    "print(df_left)\n",
    "print(df_right)\n",
    "\n",
    "inner_join = pd.merge(df_left,df_right, on='key',how='inner') #prende valori key che hanno corrispondenza\n",
    "full_join = pd.merge(df_left,df_right,on='key',how='outer')#prende tutto, dove non è corrispondente = NaN\n",
    "left_join = pd.merge(df_left,df_right,on='key',how='left')#cerca corrisp. solo a sinistra\n",
    "right_join = pd.merge(df_left,df_right,on='key',how='right')#cerca corrisp. solo a destra\n",
    "\n",
    "print(\"\\nInner Join :  \")\n",
    "print(inner_join)\n",
    "\n",
    "\n",
    "print(\"\\nOuter Join :  \")\n",
    "print(full_join)\n",
    "\n",
    "\n",
    "print(\"\\nLeft Join :  \")\n",
    "print(left_join)\n",
    "\n",
    "\n",
    "print(\"\\nRight Join :  \")\n",
    "print(right_join)\n"
   ]
  },
  {
   "cell_type": "code",
   "execution_count": 11,
   "id": "3a3366dc",
   "metadata": {},
   "outputs": [
    {
     "name": "stdout",
     "output_type": "stream",
     "text": [
      "Dataframe 1 : \n",
      "       colonnaA\n",
      "riga1         1\n",
      "riga2         2\n",
      "Dataframe 2 : \n",
      "       colonnaB\n",
      "riga1         3\n",
      "riga2         4\n",
      "       colonnaA  colonnaB\n",
      "riga1         1         3\n",
      "riga2         2         4\n"
     ]
    }
   ],
   "source": [
    "#join\n",
    "import pandas as pd\n",
    "\n",
    "df1 = pd.DataFrame({'colonnaA': [1,2]},index=['riga1','riga2'])\n",
    "df2 = pd.DataFrame({'colonnaB': [3,4]},index=['riga1','riga2'])\n",
    "\n",
    "print(\"Dataframe 1 : \")\n",
    "print(df1)\n",
    "\n",
    "print(\"Dataframe 2 : \")\n",
    "print(df2)\n",
    "\n",
    "#join dei dataframe\n",
    "joined = df1.join(df2)\n",
    "\n",
    "print(joined)"
   ]
  },
  {
   "cell_type": "code",
   "execution_count": 20,
   "id": "e17035db",
   "metadata": {},
   "outputs": [
    {
     "name": "stdout",
     "output_type": "stream",
     "text": [
      "Dataframe 1 : \n",
      "   colonnaA  colonnaB\n",
      "0         1         3\n",
      "1         2         4\n",
      "Dataframe 2 : \n",
      "   colonnaA  colonnaB\n",
      "0         5         7\n",
      "1         6         8\n",
      "\n",
      "Concatenazione verticale : \n",
      "   colonnaA  colonnaB\n",
      "0         1         3\n",
      "1         2         4\n",
      "0         5         7\n",
      "1         6         8\n",
      "\n",
      "Concatenazione orizzontale : \n",
      "   colonnaA  colonnaB  colonnaA  colonnaB\n",
      "0         1         3         5         7\n",
      "1         2         4         6         8\n"
     ]
    }
   ],
   "source": [
    "#concatenating\n",
    "\n",
    "import pandas as pd\n",
    "\n",
    "df1 = pd.DataFrame({'colonnaA':[1,2],'colonnaB':[3,4]})\n",
    "df2 = pd.DataFrame({'colonnaA':[5,6],'colonnaB':[7,8]})\n",
    "\n",
    "print(\"Dataframe 1 : \")\n",
    "print(df1)\n",
    "\n",
    "print(\"Dataframe 2 : \")\n",
    "print(df2)\n",
    "\n",
    "#concatenazione verticale (accoda le righe)\n",
    "conc_axis0 = pd.concat([df1,df2],axis=0,ignore_index=False)\n",
    "print(\"\\nConcatenazione verticale : \")\n",
    "print(conc_axis0)\n",
    "#concatenazione orizzontale(accoda le colonne)\n",
    "conc_axis0 = pd.concat([df1,df2],axis=1,ignore_index=False)\n",
    "print(\"\\nConcatenazione orizzontale : \")\n",
    "print(conc_axis0)\n"
   ]
  },
  {
   "cell_type": "code",
   "execution_count": null,
   "id": "77319230",
   "metadata": {},
   "outputs": [],
   "source": []
  }
 ],
 "metadata": {
  "kernelspec": {
   "display_name": "datasciencevenv",
   "language": "python",
   "name": "python3"
  },
  "language_info": {
   "codemirror_mode": {
    "name": "ipython",
    "version": 3
   },
   "file_extension": ".py",
   "mimetype": "text/x-python",
   "name": "python",
   "nbconvert_exporter": "python",
   "pygments_lexer": "ipython3",
   "version": "3.12.0"
  }
 },
 "nbformat": 4,
 "nbformat_minor": 5
}
