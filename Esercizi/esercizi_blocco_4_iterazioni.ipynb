{
 "cells": [
  {
   "cell_type": "code",
   "execution_count": 18,
   "metadata": {},
   "outputs": [
    {
     "name": "stdout",
     "output_type": "stream",
     "text": [
      "a trovata in posizione 7\n",
      "a trovata in posizione 75\n",
      "a trovata in posizione 78\n",
      "a trovata in posizione 84\n"
     ]
    }
   ],
   "source": [
    "#1.1\n",
    "\n",
    "strex =\"Un iterabile è un oggetto di python che può restituire i suoi elementi uno alla volta\"\n",
    "\n",
    "for i,n in enumerate(strex):\n",
    "    if n == 'a':\n",
    "        print(f\"a trovata in posizione {i}\")\n",
    "    \n"
   ]
  },
  {
   "cell_type": "code",
   "execution_count": null,
   "metadata": {},
   "outputs": [
    {
     "name": "stdout",
     "output_type": "stream",
     "text": [
      "le vocali si trovano in posizione :  [0, 4, 6, 8, 10, 14, 17, 20, 23, 26, 32, 37, 40, 44, 47, 49, 50, 52, 54, 57, 58, 59, 61, 63, 65, 68, 70, 72, 74, 77, 80, 83]\n"
     ]
    }
   ],
   "source": [
    "#1.2\n",
    "strex =\"Un terabile è un oggetto di Python che può restituire i suoi elementi uno alla volta\"\n",
    "voc = [\"a\",\"e\",\"i\",\"o\",\"u\"]\n",
    "vocinstr = []\n",
    "\n",
    "strex = strex.lower()   \n",
    "\n",
    "for i,n in enumerate(strex):\n",
    "    if n in voc:\n",
    "        vocinstr.append(i)\n",
    "    \n",
    "    \n",
    "print(\"le vocali si trovano in posizione : \" ,vocinstr)\n",
    "        "
   ]
  },
  {
   "cell_type": "code",
   "execution_count": null,
   "metadata": {},
   "outputs": [
    {
     "name": "stdout",
     "output_type": "stream",
     "text": [
      "le vocali si maiuscole trovano in posizione :  [0]\n",
      "le consonanti si trovano in posizione : [1, 4, 6, 8, 10, 13, 16, 19, 20, 22, 23, 26, 29, 30, 31, 32, 34, 36, 37, 40, 42, 44, 46, 47, 49, 52, 57, 63, 65, 67, 68, 72, 76, 77, 80, 82, 83]\n",
      "la lista degli elementi in posizione pari è : ['u', 't', 'r', 'b', 'l', 'n', 'o', 'g', 't', 'o', 'd', 'y', 'h', 'n', 'c', 'e', 'p', 'ò', 'r', 's', 'i', 'u', 'r', 'u', 'i', 'e', 'e', 'e', 't', 'n', 'l', 'a', 'v', 'l', 'a']\n"
     ]
    },
    {
     "data": {
      "text/plain": [
       "['un',\n",
       " 'iterabile',\n",
       " 'è',\n",
       " 'un',\n",
       " 'oggetto',\n",
       " 'di',\n",
       " 'python',\n",
       " 'che',\n",
       " 'può',\n",
       " 'restituire',\n",
       " 'i',\n",
       " 'suoi',\n",
       " 'elementi',\n",
       " 'uno',\n",
       " 'alla',\n",
       " 'volta']"
      ]
     },
     "execution_count": 48,
     "metadata": {},
     "output_type": "execute_result"
    }
   ],
   "source": [
    "#1.3\n",
    "strex =\"Un iterabile è un oggetto di Python che può restituire i suoi elementi uno alla volta\"\n",
    "voc_caps = [\"A\",\"E\",\"I\",\"O\",\"U\"]\n",
    "vocinstr = []\n",
    "   \n",
    "\n",
    "for i,n in enumerate(strex):\n",
    "    if n in voc_caps:\n",
    "        vocinstr.append(i)\n",
    "    \n",
    "    \n",
    "print(\"le vocali si maiuscole trovano in posizione : \" ,vocinstr)\n",
    "\n",
    "#1.4\n",
    "\n",
    "cons = []\n",
    "strex = strex.lower()\n",
    "\n",
    "for i,n in enumerate(strex):\n",
    "    if n not in voc and n != \" \":\n",
    "        cons.append(i)\n",
    "        \n",
    "print(f\"le consonanti si trovano in posizione : {cons}\")\n",
    "\n",
    "#1.5\n",
    "elempari = []\n",
    "\n",
    "for i,n in enumerate(strex):\n",
    "    if i%2 == 0 and n != \" \":\n",
    "        elempari.append(n)\n",
    "        \n",
    "print(f\"la lista degli elementi in posizione pari è : {elempari}\")\n",
    "\n"
   ]
  },
  {
   "cell_type": "code",
   "execution_count": 87,
   "metadata": {},
   "outputs": [
    {
     "name": "stdout",
     "output_type": "stream",
     "text": [
      "è i Un un di che può uno suoi alla volta Python oggetto elementi iterabile restituire\n",
      "restituire iterabile elementi oggetto Python volta suoi alla che può uno Un un di è i\n"
     ]
    }
   ],
   "source": [
    "#1.6\n",
    "strex =\"Un iterabile è un oggetto di Python che può restituire i suoi elementi uno alla volta\"\n",
    "\n",
    "separex = strex.split()\n",
    "\n",
    "cresc = sorted(separex, key = len)\n",
    "decr = sorted(separex, key = len, reverse = True)\n",
    "print(\" \".join(cresc))\n",
    "print(\" \".join(decr))"
   ]
  },
  {
   "cell_type": "code",
   "execution_count": 99,
   "metadata": {},
   "outputs": [
    {
     "name": "stdout",
     "output_type": "stream",
     "text": [
      "[7, 14, 21, 28, 35]\n",
      "7\n",
      "14\n",
      "21\n",
      "28\n",
      "35\n"
     ]
    }
   ],
   "source": [
    "#2.1\n",
    "mult7 = list(range(7,36,7))\n",
    "print(mult7)\n",
    "\n",
    "#2.2\n",
    "for e in mult7:\n",
    "    print(e) \n",
    "    \n"
   ]
  },
  {
   "cell_type": "code",
   "execution_count": null,
   "metadata": {},
   "outputs": [
    {
     "name": "stdout",
     "output_type": "stream",
     "text": [
      "[14, 28, 42, 56, 70]\n"
     ]
    }
   ],
   "source": [
    "#2.3\n",
    "multi = list(range(7,36,7))\n",
    "\n",
    "\n",
    "for i,n in enumerate(multi):\n",
    "  multi[i] = n*2\n",
    "    \n",
    "print(multi)   "
   ]
  },
  {
   "cell_type": "code",
   "execution_count": 139,
   "metadata": {},
   "outputs": [
    {
     "name": "stdout",
     "output_type": "stream",
     "text": [
      "python 1\n",
      "python 2\n",
      "python 3\n",
      "python 4\n",
      "java 1\n",
      "java 2\n",
      "java 3\n",
      "java 4\n",
      "javascript 1\n",
      "javascript 2\n",
      "javascript 3\n",
      "javascript 4\n",
      "ruby 1\n",
      "ruby 2\n",
      "ruby 3\n",
      "ruby 4\n"
     ]
    }
   ],
   "source": [
    "#3 \n",
    "\n",
    "lings = [\"python\",\"java\",\"javascript\",\"ruby\"]\n",
    "numbs = [1,2,3,4]\n",
    "\n",
    "for e in lings:\n",
    "    for j in numbs:\n",
    "        print(e,j)"
   ]
  },
  {
   "cell_type": "code",
   "execution_count": 189,
   "metadata": {},
   "outputs": [
    {
     "name": "stdout",
     "output_type": "stream",
     "text": [
      "['*']\n",
      "['*', '*']\n",
      "['*', '*', '*']\n",
      "['*', '*', '*', '*']\n",
      "['*', '*', '*', '*', '*']\n",
      "['*', '*', '*', '*', '*', '*']\n",
      "['*', '*', '*', '*', '*', '*', '*']\n",
      "['*', '*', '*', '*', '*', '*', '*', '*']\n",
      "['*', '*', '*', '*', '*', '*', '*', '*', '*']\n",
      "['*', '*', '*', '*', '*', '*', '*', '*', '*', '*']\n",
      "\n",
      "*\n",
      "**\n",
      "***\n",
      "****\n",
      "*****\n",
      "******\n",
      "*******\n",
      "********\n",
      "*********\n",
      "**********\n"
     ]
    }
   ],
   "source": [
    "#4\n",
    "\n",
    "altezza = int(input(\"inserisci l'altezza del triangolo : \"))\n",
    "ast = []\n",
    "\n",
    "for n in range(altezza):\n",
    "     ast.append(\"*\")\n",
    "     print(ast)\n",
    "\n",
    "asterello = \"*\"\n",
    "\n",
    "for n in range(1):\n",
    "    for e in range(altezza+1):\n",
    "        print(asterello*e)\n",
    "    \n",
    "        "
   ]
  },
  {
   "cell_type": "code",
   "execution_count": 191,
   "metadata": {},
   "outputs": [
    {
     "name": "stdout",
     "output_type": "stream",
     "text": [
      "['H', 'E', 'L', 'L', 'O', 'W', 'O', 'R', 'L', 'D']\n"
     ]
    }
   ],
   "source": [
    "#5\n",
    "maiusco = []\n",
    "\n",
    "var = \"asdfgHjhnEghxnLlloLtncOmWvdsOffRppplLD\"\n",
    "\n",
    "for e in var:\n",
    "    if e.isupper():\n",
    "        maiusco.append(e)\n",
    "\n",
    "print(maiusco)"
   ]
  },
  {
   "cell_type": "code",
   "execution_count": 233,
   "metadata": {},
   "outputs": [
    {
     "name": "stdout",
     "output_type": "stream",
     "text": [
      "(('Anna', 85), ('Luca', 90), ('Marco', 78), ('Sara', 92))\n"
     ]
    }
   ],
   "source": [
    "#6\n",
    "\n",
    "nomi = [\"Anna\",\"Luca\",\"Marco\",\"Sara\"]\n",
    "punteggi = [85,90,78,92]\n",
    "\n",
    "b = \" \".join(nomi)\n",
    "a = tuple(zip(nomi,punteggi))\n",
    "\n",
    "n = b.split(\"-\")\n",
    "\n",
    "\n",
    "print(c)"
   ]
  },
  {
   "cell_type": "code",
   "execution_count": null,
   "metadata": {},
   "outputs": [],
   "source": []
  }
 ],
 "metadata": {
  "kernelspec": {
   "display_name": "Python 3",
   "language": "python",
   "name": "python3"
  },
  "language_info": {
   "codemirror_mode": {
    "name": "ipython",
    "version": 3
   },
   "file_extension": ".py",
   "mimetype": "text/x-python",
   "name": "python",
   "nbconvert_exporter": "python",
   "pygments_lexer": "ipython3",
   "version": "3.12.0"
  }
 },
 "nbformat": 4,
 "nbformat_minor": 2
}
