{
 "cells": [
  {
   "cell_type": "code",
   "execution_count": 2,
   "metadata": {},
   "outputs": [
    {
     "name": "stdout",
     "output_type": "stream",
     "text": [
      "Benvenuto al corso di Python!\n",
      "Questo è un esempio di file di testo.\n",
      "Contiene diverse righe che possono essere lette.\n",
      "Puoi utilizzare questo file per imparare come:\n",
      "- leggere un file completo\n",
      "- contare le righe\n",
      "- processare il file riga per riga\n",
      "- cercare parole specifiche\n",
      "\n",
      "La gestione dei file è una competenza fondamentale.\n",
      "\n"
     ]
    }
   ],
   "source": [
    "#es 1\n",
    "\n",
    "with open(\"esempio.txt\",\"r\",encoding=\"utf-8\") as file:\n",
    "    contenuto = file.read()\n",
    "    print(contenuto)"
   ]
  },
  {
   "cell_type": "code",
   "execution_count": 4,
   "metadata": {},
   "outputs": [
    {
     "name": "stdout",
     "output_type": "stream",
     "text": [
      "10\n"
     ]
    }
   ],
   "source": [
    "#es 2\n",
    "with open(\"esempio.txt\",\"r\",encoding=\"utf-8\") as file:\n",
    "    contenuto = file.readlines()\n",
    "    print(len(contenuto))"
   ]
  },
  {
   "cell_type": "code",
   "execution_count": 29,
   "metadata": {},
   "outputs": [
    {
     "name": "stdout",
     "output_type": "stream",
     "text": [
      "0 Benvenuto al corso di Python!\n",
      "1 Questo è un esempio di file di testo.\n",
      "2 Contiene diverse righe che possono essere lette.\n",
      "3 Puoi utilizzare questo file per imparare come:\n",
      "4 - leggere un file completo\n",
      "5 - contare le righe\n",
      "6 - processare il file riga per riga\n",
      "7 - cercare parole specifiche\n",
      "8 \n",
      "9 La gestione dei file è una competenza fondamentale.\n"
     ]
    }
   ],
   "source": [
    "#es 3\n",
    "\n",
    "with open(\"esempio.txt\",\"r\",encoding=\"utf-8\") as file:\n",
    "        contenuto = file.readlines()\n",
    "        \n",
    "        for i,n in enumerate(contenuto):\n",
    "            print(i,n.strip())"
   ]
  },
  {
   "cell_type": "code",
   "execution_count": null,
   "metadata": {},
   "outputs": [
    {
     "ename": "KeyboardInterrupt",
     "evalue": "",
     "output_type": "error",
     "traceback": [
      "\u001b[31m---------------------------------------------------------------------------\u001b[39m",
      "\u001b[31mKeyboardInterrupt\u001b[39m                         Traceback (most recent call last)",
      "\u001b[36mCell\u001b[39m\u001b[36m \u001b[39m\u001b[32mIn[33]\u001b[39m\u001b[32m, line 5\u001b[39m\n\u001b[32m      3\u001b[39m \u001b[38;5;28;01mwith\u001b[39;00m \u001b[38;5;28mopen\u001b[39m(\u001b[33m\"\u001b[39m\u001b[33mesempio.txt\u001b[39m\u001b[33m\"\u001b[39m,\u001b[33m\"\u001b[39m\u001b[33mr\u001b[39m\u001b[33m\"\u001b[39m,encoding=\u001b[33m\"\u001b[39m\u001b[33mutf-8\u001b[39m\u001b[33m\"\u001b[39m) \u001b[38;5;28;01mas\u001b[39;00m file:\n\u001b[32m      4\u001b[39m     \u001b[38;5;28;01mwhile\u001b[39;00m \u001b[38;5;28;01mTrue\u001b[39;00m:\n\u001b[32m----> \u001b[39m\u001b[32m5\u001b[39m         lettura = \u001b[43mfile\u001b[49m\u001b[43m.\u001b[49m\u001b[43mreadline\u001b[49m\u001b[43m(\u001b[49m\u001b[43m)\u001b[49m\n",
      "\u001b[36mFile \u001b[39m\u001b[32m<frozen codecs>:322\u001b[39m, in \u001b[36mdecode\u001b[39m\u001b[34m(self, input, final)\u001b[39m\n",
      "\u001b[31mKeyboardInterrupt\u001b[39m: "
     ]
    }
   ],
   "source": [
    "#es 4\n",
    "\n",
    "with open(\"esempio.txt\",\"r\",encoding=\"utf-8\") as file:\n",
    "    while True:\n",
    "        lettura = file.readline()\n",
    "        \n",
    "\n",
    "        "
   ]
  },
  {
   "cell_type": "code",
   "execution_count": null,
   "metadata": {},
   "outputs": [],
   "source": []
  }
 ],
 "metadata": {
  "kernelspec": {
   "display_name": "Python 3",
   "language": "python",
   "name": "python3"
  },
  "language_info": {
   "codemirror_mode": {
    "name": "ipython",
    "version": 3
   },
   "file_extension": ".py",
   "mimetype": "text/x-python",
   "name": "python",
   "nbconvert_exporter": "python",
   "pygments_lexer": "ipython3",
   "version": "3.13.2"
  }
 },
 "nbformat": 4,
 "nbformat_minor": 2
}
